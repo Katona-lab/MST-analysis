{
  "nbformat": 4,
  "nbformat_minor": 0,
  "metadata": {
    "colab": {
      "name": "MST_progress_curve_analysis.ipynb",
      "provenance": [],
      "authorship_tag": "ABX9TyOLZzzj2a3kXTjowjOsmw54",
      "include_colab_link": true
    },
    "kernelspec": {
      "name": "python3",
      "display_name": "Python 3"
    },
    "language_info": {
      "name": "python"
    },
    "widgets": {
      "application/vnd.jupyter.widget-state+json": {
        "17689d87103d46d1b5a5b1c3bb7672c4": {
          "model_module": "@jupyter-widgets/controls",
          "model_name": "HBoxModel",
          "model_module_version": "1.5.0",
          "state": {
            "_dom_classes": [],
            "_model_module": "@jupyter-widgets/controls",
            "_model_module_version": "1.5.0",
            "_model_name": "HBoxModel",
            "_view_count": null,
            "_view_module": "@jupyter-widgets/controls",
            "_view_module_version": "1.5.0",
            "_view_name": "HBoxView",
            "box_style": "",
            "children": [
              "IPY_MODEL_57a99d2a9cc945bbb433862bc315a6b0",
              "IPY_MODEL_8b548c5871514f519231e5c673c2a8c8"
            ],
            "layout": "IPY_MODEL_ca67359fd11141249d993958921a5f4b"
          }
        },
        "57a99d2a9cc945bbb433862bc315a6b0": {
          "model_module": "@jupyter-widgets/controls",
          "model_name": "VBoxModel",
          "model_module_version": "1.5.0",
          "state": {
            "_dom_classes": [],
            "_model_module": "@jupyter-widgets/controls",
            "_model_module_version": "1.5.0",
            "_model_name": "VBoxModel",
            "_view_count": null,
            "_view_module": "@jupyter-widgets/controls",
            "_view_module_version": "1.5.0",
            "_view_name": "VBoxView",
            "box_style": "",
            "children": [
              "IPY_MODEL_f33eadfb272b4f5193006cd7518e540a",
              "IPY_MODEL_7c6c1ccf5b924f6996b8d09f8576404a"
            ],
            "layout": "IPY_MODEL_8399eda0816b4cb4b4477853e7d5a0bc"
          }
        },
        "8b548c5871514f519231e5c673c2a8c8": {
          "model_module": "@jupyter-widgets/output",
          "model_name": "OutputModel",
          "model_module_version": "1.0.0",
          "state": {
            "_dom_classes": [],
            "_model_module": "@jupyter-widgets/output",
            "_model_module_version": "1.0.0",
            "_model_name": "OutputModel",
            "_view_count": null,
            "_view_module": "@jupyter-widgets/output",
            "_view_module_version": "1.0.0",
            "_view_name": "OutputView",
            "layout": "IPY_MODEL_ecfd4ede74e24232a873eacf54632221",
            "msg_id": "",
            "outputs": [
              {
                "output_type": "display_data",
                "data": {
                  "text/plain": "<Figure size 432x288 with 1 Axes>",
                  "image/png": "iVBORw0KGgoAAAANSUhEUgAAAYwAAAEGCAYAAAB2EqL0AAAABHNCSVQICAgIfAhkiAAAAAlwSFlzAAALEgAACxIB0t1+/AAAADh0RVh0U29mdHdhcmUAbWF0cGxvdGxpYiB2ZXJzaW9uMy4yLjIsIGh0dHA6Ly9tYXRwbG90bGliLm9yZy+WH4yJAAAgAElEQVR4nO3de3RV5b3v//c3CSSEhCSQgNwJ1ADhFiBcpSgCgiKg1VrpbqlHq8dt3a3t+Z1fdZ9ztta9HdoOd7tPt1at1aHVWgtVW4YXVBRBEJVwR+6EAOGaC4RwC7l8zx9ZyQ4YYBGStVaSz2uMDNea85lrftc05uMznzmfae6OiIjIxUSFuwAREWkeFBgiIhIUBYaIiARFgSEiIkFRYIiISFBiwl1AU0lNTfU+ffqEuwwRkWZl1apVhe6eVt+6FhsYffr0IScnJ9xliIg0K2a2+3zrdEpKRESCosAQEZGgKDBERCQoCgwREQmKAkNERIKiwBARkaAoMEREJCgKjBbk6NGjbNy4MdxliEgLFbLAMLMXzeywmdX7F82q/dbMdpjZejMbUWfdD8xse+DnB01d6+HDh3F3jhw5QlFRUb1tSktLWbp0KQUFBY22X3enIc8nqaqq4siRI7z55pu88cYb7Nq1q9FqEhGpEco7vV8CngL+eJ711wNXBn7GAM8AY8ysI/AwkA04sMrMFrj7kaYoctOmTcyfP5/ExERKS0sBeOihhzh8+DCfffYZBw4cID09nTVr1tS2v/fee9m0aRPx8fGkpqZSXl5OcXExRUVFpKWl0b17dw4cOMD69euZMWMGUVHVOb1161b27NnDpEmTKCwsZNmyZezZs4cf//jHxMTEUFZWRlVVFZ988glt27Zl8uTJZ9VaUFDA4cOHyc/P5/PPP69d/sUXX5Cent4Uh0dEWrGQBYa7LzWzPhdoMhv4o1f/L/bnZpZsZl2Ba4AP3b0YwMw+BKYDf26KOvv27QtQGxYAjz/++FltasICoLi4mHfeeeeC05AMGzaMXbt2cezYMTp27MjAgQNZtmxZ7ecUFxezZcuW2varVq3iyJEjrFy58qxeR1paGnl5eRw6dIiSkhJOnDjxtX116tSJPXv24O6YWQOOgIhI/SJpLqnuwN467/MDy863/GvM7B7gHoBevXo1qIi4uDjS09PPOq0TFRVFly5diIqKIikpibZt29K+fXtWr17NqVOnvhYWI0eOZNu2bbWhs27dutp1ixYtYtGiRQB07NiRXr16sXbtWgB69+7N7t27WbhwIQCpqakMHDiQVatWcfLkSd56662L1j9hwgTeeOMNVq5cyejRoxt0DERE6hNJgXHZ3P33wO8BsrOzG/yw8jlz5lBRUUGbNm0oLCwkLS2N6Ojor7W76qqr+NWvfgXAP/zDP/CnP/2JqVOnMn78eAByc3PZuHEjubm5pKWlMXXqVE6dOsXevXvp1asXXbt2pU2bNowfP564uDgSExPZsGEDb775JkOGDGHq1KkkJiYyceJEnnjiCSorKxk/fjxdu3alpKSEqqoqBg0axNatW4mLiyMpKYkrrriCz5cs4YX//E/2FBYSE9Oi/hWLSBhZQwZZG7yz6lNSb7v74HrWPQd84u5/DrzfSvXpqGuAa9z9v9fX7nyys7M9FLPVfvnll5gZo0aNIj8/n+7du1/2qaBTp07Rrl27s5aVlpayf/9++vfvf8FtCwoKyOjZkx6VlfzPP/yBuT9o8msERKQFMbNV7p5d37pIuqx2ATA3cLXUWKDE3Q8A7wPXmVmKmaUA1wWWRYTRo0czatQoAHr06NEo4wbnhgVAYmLiRcMC4MnHHuM7VVX8Z0UF//rQQ1RUVFx2PSIiEMJTUmb2Z6p7C6lmlk/1lU9tANz9WeBd4AZgB3AS+G+BdcVm9q/AysBHPVozAC5nKygo4A+//z1ry8vpCXQ/dozX/vQn9TJEpFGE9JRUKIXqlFQk+fkDD3D82Wd5uqwMgE+Au7t2ZfOePRrLEJGgNJdTUnIZanoXDwbCAqq7czW9DBGRy6XAaCGefOwxbq+qouc5yx8+cUJjGSLSKBQYLUB9vYsa1wDd1MsQkUagwGgBzte7ADDgEfUyRKQRKDCauQv1Lmpcg3oZInL5FBjN3IV6FzXUyxCRxqDAaMYKCgp46ne/Y1hZGe8B7wF1JzY/CSwMLD8FlBcWqpchIg2mi/ObsSNHjnDN2LG8VV4OwIGiIvrv28dfTp4EqoPiR0lJDB84EICBQOUFTl2JiFyIAqMZy8jI4J2lS2vfz58/n3l33VX7vgr45pgxzH8/YmZSEZFmTKekREQkKAoMEREJigJDRESCosAQEZGgKDBERCQoCgwREQmKAkNERIKiwBARkaDoxr0WxMz4rLycWzt0oKysjIPupEdHh7ssEWkhFBgtyLRp0/jtq6/i7rz99tsM7NyZu+rc+S0icjkUGC1IYmIit9xyC1A9MWHHjh3p379/mKsSkZZCYxgtVGxsLGWaaFBEGpECo4VSYIhIY1NgtFCxsbHcf//9AOTl5dGuXTuysrLIzMxk7ty5lAemRK8rLy+PwYMHh7pUEWkmFBgtVNu2bc96369fP9auXcuGDRvIz89n3rx5Ia+psrIy5PsUkcajwGihYmNj610eHR3N6NGj2bdv3wW3z8vL45vf/CYjRoxgxIgRfPbZZwAcOHCAiRMnkpWVxeDBg/n0008B+OCDDxg3bhwjRozg29/+NsePHwegT58+/PznP2fEiBHMnz+/Eb+hiISaAqOFatu2Le6Ou5+1/PTp03zxxRdMnz79gtt37tyZDz/8kNWrV/OXv/yFH//4xwC89tprTJs2jbVr17Ju3TqysrIoLCzk3/7t31i0aBGrV68mOzubX//617Wf1alTJ1avXs3tt9/e+F9UREImpJfVmtl04P8C0cAf3P2Jc9b3Bl4E0oBi4Hvunh9YVwlsCDTd4+6zQlZ4M1TTwzhz5gwAO3fuJCsri127djFjxgyGDh16we3Ly8u5//77Wbt2LdHR0Wzbtg2AUaNGceedd1JeXs5NN91EVlYWS5YsYdOmTVx11VW1+xw3blztZ33nO99piq8oIiEWssAws2jgaWAqkA+sNLMF7r6pTrMngT+6+8tmdi3wOPD9wLpT7p4Vqnqbu5rAqLlSqmYMo7CwkKuuuooFCxYwa9b5M/c3v/kNXbp0Yd26dVRVVREXFwfAxIkTWbp0Ke+88w533HEHP/vZz0hJSWHq1Kn8+c9/rvez2rdv38jfTkTCIZSnpEYDO9w9193PAK8Ds89pkwl8HHi9uJ71EqRzA6NGamoqTzzxBI8//vgFty8pKaFr165ERUXxyiuv1A5Y7969my5dunD33Xfzwx/+kNWrVzN27FiWL1/Ojh07ADhx4kRtj0REWo5QBkZ3YG+d9/mBZXWtA74VeH0zkGhmnQLv48wsx8w+N7Ob6tuBmd0TaJNTUFDQmLU3O+3atQPg5MmTX1t30003cfLkydoB6/rcd999vPzyywwbNowtW7bU9hI++eQThg0bxvDhw/nLX/7CT37yE9LS0njppZeYM2cOQ4cOZdy4cWzZsqVpvpiIhI2dOyjaZDsyuxWY7u4/DLz/PjDG3e+v06Yb8BSQDiwFbgEGu/tRM+vu7vvMrC/VvZDJ7r7zfPvLzs72nJycJvxGka2oqIinnnqKm266iWHDhoW7HBFpJsxslbtn17culIPe+4Cedd73CCyr5e77CfQwzCwBuMXdjwbW7Qv8M9fMPgGGA+cNjNYuKSkJgKNHj4a5EhFpKUJ5SmolcKWZpZtZW+B2YEHdBmaWamY1NT1E9RVTmFmKmcXWtAGuAuoOlss5YmJiSEhIUGCISKMJWWC4ewVwP/A+sBmY5+5fmdmjZlZzuc41wFYz2wZ0AR4LLB8I5JjZOqoHw5845+oqqUdycjIlJSXhLkNEWoiQ3ofh7u8C756z7F/qvP4r8Nd6tvsMGNLkBbYwycnJF72jW0QkWLrTuwVLSkqipKSEqqqqcJciIi2AAqMFS05OpqqqqnZeJxGRy6HAaMGSk5MBXSklIo1DgdGCKTBEpDEpMFow3YshIo1JgdGCtWnThvbt2yswRKRRKDBaON2LISKNRYHRwiUnJ6uHISKNQoHRwtUERqgmmRSRlkuB0cIlJSVRVVVFaWlpuEsRkWZOgdHC6dJaEWksCowWriYwNPAtIpdLgdHCqYchIo1FgdHC6V4MEWksCoxWIDk5mSNHjoS7DBFp5hQYrcAVV1zB/v37Nc25iFwWBUYr0KdPH8rKyjh48GC4SxGRZkyB0Qr07t0bgLy8vPAWIiLNmgKjFUhMTKRTp07s3r073KWISDOmwGglevfuze7duzWOISINpsBoJXr06EFZWZkurxWRBlNgtBKpqakAFBYWhrkSEWmuFBitRKdOnQAFhog0nAKjlYiPjyc+Pl6BISINpsBoRTp37syhQ4fCXYaINFMKjFakW7duHDp0iMrKynCXIiLNUEgDw8ymm9lWM9thZg/Ws763mX1kZuvN7BMz61Fn3Q/MbHvg5wehrLul6NatG5WVlRw+fDjcpYhIMxSywDCzaOBp4HogE5hjZpnnNHsS+KO7DwUeBR4PbNsReBgYA4wGHjazlFDV3lJ069YNgH379oW5EhFpjkLZwxgN7HD3XHc/A7wOzD6nTSbwceD14jrrpwEfunuxux8BPgSmh6DmFiU5OZl27dqxf//+cJciIs1QKAOjO7C3zvv8wLK61gHfCry+GUg0s05BbisXYWZ069aNAwcOhLsUEWmGIm3Q+/8DrjazNcDVwD4g6BFaM7vHzHLMLKegoKCpamzWevTowaFDhzh27Fi4SxGRZiaUgbEP6FnnfY/Aslruvt/dv+Xuw4H/FVh2NJhtA21/7+7Z7p6dlpbW2PW3CEOHDsXdWbNmTbhLEZFmJpSBsRK40szSzawtcDuwoG4DM0s1s5qaHgJeDLx+H7jOzFICg93XBZbJJerYsSNdu3bVzLUicslCFhjuXgHcT/Uf+s3APHf/ysweNbNZgWbXAFvNbBvQBXgssG0x8K9Uh85K4NHAMmmAbt26sX//ftw93KWISDMSE8qdufu7wLvnLPuXOq//Cvz1PNu+yH/1OOQydOvWjVWrVlFcXFw7x5SIyMVE2qC3hEB6ejpmxurVq8Ndiog0IwqMViglJYXMzExWr16tByqJSNAUGK1URkYGp0+f1mSEIhI0BUYr1adPHwB27doV3kJEpNlQYLRSHTp0oGvXrqxbt05XS4lIUBQYrdiIESM4fPgwuiteRIKhwGjF0tPTAc1eKyLBUWC0Yh07diQ2NlaBISJBUWC0YjWz1+bl5WkcQ0QuSoHRyg0bNoyioiJ27NgR7lJEJMI1KDDMLNPMrq/7CFVpngYPHky7du3YuHFjuEsRkQjX0B7GL4BE4B4ze7kR65EQi46OJiMjg+3bt+uubxG5oIYGxofuPs/d/8Xdf9CoFUnIZWRkcOrUKfbu3XvxxiLSajU0MMab2Ztm9ryZ/axRK5KQ69evH9HR0eTk5GjwW0TOq6GBsdHdvwX8I/BRI9YjYRAbG8vgwYPZuHGjnsQnIufV0MC40cx+CPR193WNWZCEx+zZs0lNTSUnJyfcpYhIhGpoYNwO7AVuNrPnG7EeCRMzIysriwMHDlBaWhruckQkAjU0ML7v7u+7+y/d/e5GrUjCpnfv3gAa/BaRejU0MG42s/vNrH+jViNh1bVrV6Kjo8nLywt3KSISgRocGMB2YLZOSbUc0dHRZGZmkpOTw/79+8NdjohEmIYGxo+AHwKDgN82XjkSbjNmzCAmJkbP+xaRr2loYMS7+7eBu4H7GrEeCbPY2FgGDBjAV199RUVFRbjLEZEI0tDAiDOzEe5+BrDGLEjCb+jQoZw+fZrt27eHuxQRiSANDYz/CVxrZi8CCxqxHokAffv2JTExkc8++0x3fotIrQYFhrufcvcn3f1Od3+3sYuS8IqKiuLqq68mPz+ftWvXhrscEYkQDZ3e/HUze8XM/mhmv2rsoiT8RowYQe/evVm0aBGVlZXhLkdEIkBDT0mtcPfvu/tc4JeNWZBEBjPjqquu4uTJkxrLEBGg4YEx28zuMrMMdy8KdiMzm25mW81sh5k9WM/6Xma22MzWmNl6M7shsLyPmZ0ys7WBn2cbWLdcgn79+pGQkKDTUiICBBEYZvbHehZ/D9gPfCvYG/fMLBp4GrgeyATmmFnmOc3+NzDP3YdTPV/V7+qs2+nuWYGfe4PZp1yeqKgohg4dyrZt2zh69Gi4yxGRMAumhzGk5oWZfQDg7vvd/T13f+IS5pIaDexw99zA5bivA7PPaeNAh8DrJKpDScJo9OjRtGnThjfffJMzZ86EuxwRCaNgAqPudZVpl7Gv7lTPcFsjP7CsrkeA75lZPvAu8E911qUHTlUtMbNv1rcDM7vHzHLMLKegoOAySpUaSUlJzJo1i7179/Lpp5+GuxwRCaNgAuMKM7vDzIbT9DfpzQFecvcewA3AK2YWBRwAegVOVf0MeM3MOpy7sbv/3t2z3T07Le1ysk3qGjRoEAMHDiQnJ0e9DJFWLJjAeAQYCfwH0MPMNgQuq/0/ZnbLJexrH9CzzvsegWV13QXMA3D3FUAckOruZTWD6+6+CtgJZFzCvuUyjRs3jtOnT+uJfCKt2EUDI/B/7f/k7le7eyrVg9YvA2eAmy5hXyuBK80s3czaUj2ofe5d4nuAyQBmNpDqwCgws7TAoDlm1he4Esi9hH3LZerRowe9evXiww8/5MCBA+EuR0TC4JIvq3X3/MCA9y/d/fuXsF0FcD/wPrCZ6quhvjKzR81sVqDZ/wDuNrN1wJ+BO7x6boqJwHozWwv8FbjX3YsvtXZpODPjtttuw9356quvwl2OiIRBTCh3FphG5N1zlv1LndebgKvq2e4N4I0mL1AuqH379nTv3p3ly5eTnZ1NcnJyuEsSkRBq6I170kr171/9kMUPPvggzJWISKiFtIchzd/48ePZvXs3e/bswd0x0+z2Iq2FehhyScyMjIwMTpw4waOPPsqmTZvCXZKIhIgCQy5ZRkYG3bp1A2DFihVhrkZEQkWBIZesQ4cO3H333UyaNIn8/HzNMyXSSigwpMGGDRtGTEwMCxYs0B3gIq2AAkMaLCkpiRkzZrBr1y6WL18e7nJEpIkpMOSyZGVl0atXL5YuXcrOnTvDXY6INCEFhly2K6+8EoBXX32V6hvzRaQlUmDIZRs7dixZWVkA7N69O8zViEhTUWDIZYuJieH6668nNjaW1157jf379dwrkZZIgSGNom3btmRnZ1NeXs5LL71EcbHmhhRpaRQY0mgmTZrEnDlzKC8vZ8uWLeEuR0QamQJDGk10dDQZGRmkpKSwd+/ei28gIs2KAkMaXc+ePcnLy9NpKZEWRoEhjW78+PEAzJ8/n6KiojBXIyKNRYEhja5Lly6MHTuWgwcP8tRTT7Fq1apwlyQijUDPw5AmMXbsWMrLy8nNzeXtt98mMTGRjIyMcJclIpdBPQxpErGxsUyZMoU777yTzp0788EHH+gucJFmToEhTSomJobRo0dTVFTEoUOHwl2OiFwGBYY0uYEDB2JmPP/883zwwQeUl5eHuyQRaQAFhjS5+Ph4OnbsSFVVFStWrOD9998Pd0ki0gAKDAmJa6+9loSEBAYPHsyqVat45plnOH78eLjLEpFLoKukJCQyMzPJzMykvLycvLw8Dh8+zJtvvsnMmTNJSUkJd3kiEgT1MCSk2rRpwwMPPADArl27mDdvXpgrEpFgKTAk5KKjo8nOzgbg4MGDeh64SDMR0sAws+lmttXMdpjZg/Ws72Vmi81sjZmtN7Mb6qx7KLDdVjObFsq6pfFNnz6dmTNnAvDss89SVVUV5opE5GJCFhhmFg08DVwPZAJzzCzznGb/G5jn7sOB24HfBbbNDLwfBEwHfhf4PGmmoqOjycrKYvz48Rw5coT58+ezffv2cJclIhcQyh7GaGCHu+e6+xngdWD2OW0c6BB4nQTUPLptNvC6u5e5+y5gR+DzpBmLiopiypQpDBgwgC1btvDGG2+opyESwUIZGN2Bug9JyA8sq+sR4Htmlg+8C/zTJWyLmd1jZjlmllNQUNBYdUsTMjNuu+02Zs6cSVlZGbm5ueEuSUTOI9IGvecAL7l7D+AG4BUzC7pGd/+9u2e7e3ZaWlqTFSmNy8wYMmQIHTp0YOHChZSXl3Pw4EFKS0vDXZqI1BHKwNgH9KzzvkdgWV13AfMA3H0FEAekBrmtNGNt2rRh9uzZFBUV8be//Y3nnnuOX//615w8eTLcpYlIQCgDYyVwpZmlm1lbqgexF5zTZg8wGcDMBlIdGAWBdrebWayZpQNXAl+GrHIJib59+zJq1Cg2bdpUu2zNmjV8+eWXGtsQiQAhu9Pb3SvM7H7gfSAaeNHdvzKzR4Ecd18A/A/geTP7KdUD4Hd49ZzYX5nZPGATUAH8yN0rQ1W7hM7kyZOpqqpiwIABvPPOOyxatAiAlJQUrrzyyjBXJ9K6WUt9RkF2drbn5OSEuwy5DIsWLWL58uUAjBkzhunTp4e5IpGWz8xWuXt2fesibdBbpNbkyZN58MEH+cY3vsHmzZupqKjQQ5hEwkiBIRHLzIiNjWX06NEcO3aMxx57jOeee478/Hx27NihcQ2RENNstRLxvvGNbzB58mTKysrYsGEDL7zwAgAzZsyonZNKRJqeAkMinpkxYcIEAIYNG8bTTz8NQElJSTjLEml1dEpKmpXU1FTGjRsHQF5eHosWLeL06dNhrkqkdVAPQ5qd6667jiNHjrBlyxby8/MBmDJlSpirEmn51MOQZmnQoEGkp6fTr18/vvzyS8rKysJdkkiLp8CQZmnw4MHMnTuXa665hvLyctauXYu7U1mp+zlFmopOSUmz1r17d3r16sXChQtZuHAhAHfeeSc9evTAzMJcnUjLoh6GNGtmxg033HDWshdffJElS5aEqSKRlkuBIc1ely5deOCBB85atmzZMkpKSlizZg179+49z5Yicik0l5S0GMePHyc+Pp5jx47x9NNP176Oiopi9uzZDB06NNwlikQ8zSUlrUJCQgJRUVEkJyfz3e9+l4SEBFJTU+nVqxdvvfUWzz77LPv26TEqIg2lHoa0aO5OVVUVy5cvZ9WqVZSXl3PvvffSoUOHi28s0gqphyGtlpkRHR3NxIkTmTt3LhUVFbz33nvhLkukWdJltdJqdOrUiYkTJ/LRRx+xefNm3J127dqRnp4e7tJEmgUFhrQq48aNY/369cybN692Wf/+/YmKimLGjBm0b98+jNWJRDYFhrQq0dHRzJ07l88++4zevXuzZs0atm7dCkBpaSlz5swhPj4+zFWKRCYFhrQ6CQkJXHfddQBceeWVbNu2jT179rBixQqWLVtGnz592Lp1KzNmzCAqSsN8IjUUGNKqRUVFMWDAAAYMGMD+/ftZsWIFK1eupKKign79+pGZmRnuEkUihgJDJKB3797s3r2bdu3aER0dzfz58+nVqxfJycm4OyNHjqR3797hLlMkbBQYIgFjxowhPj6ezMxMNm3axMKFC9mzZw979uwBYMOGDTz88MNhrlIkfBQYIgHx8fGMGTMGgJEjR2JmpKSk8Nprr9W2KSoqYtu2baxfv57y8nJuvvlmunXrpplxpVVQYIjUIyYmhtGjR5+1rG3btjzzzDNnPXPjD3/4AzfffHPtPFXujrtrsFxaJP1Wi1zElClTGDJkCPfddx/Dhg372vq33nqLLVu2UFFRwUsvvcQrr7xCVVVVGCoVaVqaS0qkAY4fP84LL7zA0aNHAWjfvj1jx47lo48+AuCGG25g1KhR4SxRpEEuNJdUSAPDzKYD/xeIBv7g7k+cs/43wKTA23igs7snB9ZVAhsC6/a4+6wL7UuBIU2tZmLDbdu21d453qdPH9ydAwcO0L9/f6ZMmcKxY8coKSlh0KBBYa5Y5OIuFBghG8Mws2jgaWAqkA+sNLMF7r6ppo27/7RO+38Chtf5iFPunhWqekUupmZiwwEDBtCpUyeKioqYNGkSCQkJLF68mC1btrBlyxbKy8uB6gc9RUVF0bFjxzBXLtIwIethmNk44BF3nxZ4/xCAuz9+nvafAQ+7+4eB98fdPSHY/amHIaFUWlpKWVkZqamptctyc3N59dVXqflvzMxwd/r06UNCQgIlJSXMnTuXmJgY3F1XWklEiIhTUmZ2KzDd3X8YeP99YIy7319P297A50APd68MLKsA1gIVwBPu/rcL7U+BIZHg4MGDtGnThueee47Y2FiOHz/+tTYjR45k69atzJkzh02bNnH8+HFmz56tAJGwiIhTUpfoduCvNWER0Nvd95lZX+BjM9vg7jvrbmRm9wD3APTq1St01YqcxxVXXAHAfffdR3x8PGvWrCE3N5dOnTqxdetWiouLWbVqFQALFizg0KFDQPVYSFaWzsBKZInIU1Jmtgb4kbt/dp7Pegl4293/er79qYchka6srIzo6GiWL19ORUUFn3/+ORUVFbXrv/nNbzJ8+HBSUlLCWKW0NpFySioG2AZMBvYBK4HvuvtX57QbACwE0j1QnJmlACfdvczMUoEVwOy6A+bnUmBIc7Nv3z42b95MSkoKb7/9du3ye+65h127drF+/XpuvfVWoqOjSUpKqr05sCZkKisriY2NDUvt0nJERGAECrkB+A+qL6t90d0fM7NHgRx3XxBo8wgQ5+4P1tluPPAcUEX1zYb/4e4vXGhfCgxpzvbv38/zzz9/3vVmxtVXX01KSgp///vfqaqqIikpiX/8x38kNjaWqqoq3W0uDRIxgRFKCgxp7o4fP84nn3zCqlWryMzMZNCgQWzbto2UlBR27tzJ3r17z7ttmzZt+OlPf0q7du3YuHEjubm5zJw5EzOrfWBU//79Q/VVpBlRYIg0UyUlJfz9739n1qxZJCcn1y53d5YsWcKSJUvIyMhg27ZtpKamUlhYeNb2NVO2A3znO99h2bJl7Nu3D0Az70q9FBgiLZC7U1hYSGpqKsePHycuLo7c3FwAXn/99Ytun52dTUJCAseOHePGG2/UZbwCKDBEWp0tW91CE08AAAx7SURBVLYQFRVFSUkJK1euZOzYsaxcuZK+ffuyadOm2jmwaqSkpNC7d29GjRpFcXExhw4dori4mOuuu46kpKQwfQsJBwWGiNQ6cuQIv/3tb4mNjWXWrFnMnz//vG2HDx9e+2zzkpISkpOTKS0tpbCwkPXr17N161ZuvfVW+vbtG8JvIE1JgSEiZ9m1axc9e/YkJiaGAwcOcPr0afbv38/KlSspKSkBICkpqfZ1zVxZ6enp7N+/n7KysrM+LzExkfj4eNLT04mLi2PMmDGcOnWKgwcPkpqaSlRUFIsXL2bq1KkkJSVRUVHB3r17a2uQyKHAEJGgFRUVkZOTw4QJE3jvvffYv38/paWltfd7dOnShQkTJgDVD5VauXIlO3bsOOsz+vXrx86dO7/22ZmZmXz7299myZIlfPLJJwwcOJDbbrvtrDbuTlFR0Vnzcl2o1u3btzNmzBiNwTQSBYaIXJaayRELCwtJSkqiTZs2Z60vKiqqvXwXqH0Oeo1u3bpRUVHB4cOHyczM5ODBgxQXFwMwYMAAsrOzyc3NpV27dpw8eZIVK1Zwzz33cMUVV7Bx40Z27NjBmTNnmDlzJvHx8ezevZs1a9awc+dOjh8/zgMPPMDRo0eZN28ed9111yXPCLxr1y527tzJlClTLuMotQwKDBEJmaNHj7JixQoyMzMBiIuLo0uXLpw4cYInn3yytt348eP54osvznrkbV0jR46ka9euZ931HhMTc9b0KTVuvfVWli1bxsGDB5k2bRqjR4+mrKyMuLi42p7HmTNnaNu2LQCbN2+mR48eJCYmAvCLX/wCqL4M+eabbz7vQP+JEyeIi4sjOjqarVu3UlFR0eKec6LAEJGIcOLECf793/8dd+ef//mfiYmJIS8vj5UrV9K+fXtq/pvt0qVL7USMNfr168fevXs5c+YMZkZsbCynT5++4P7atm1Lz549OX36NPv27WPChAnExsby0Ucf0aFDB+69917Ky8v5zW9+U7uNmdGzZ08SExO59tpra3srn376KR9//DFQPblpTS8qJSWF2bNnU1RURGFhIRkZGSxevJioqChmzpxJx44dcXeOHTtWG0QFBQV88MEHTJs2jdTUVCorKyktLT3rXpv6nD59msWLFzNhwoTasKuoqODjjz9mzJgxjXJFmwJDRCJGSUkJFRUVdOrU6Wvrjh49yokTJ0hJSeH111+nW7duVFVVkZuby3333UdUVBQnTpygvLyc4uJi8vLyKCws5MiRI3Tu3JmoqCjWrl37tc+tO4BfV/fu3YmPj2f79u21y9LS0oiLi+PgwYOUl5fTs2dPOnbsyMaNG0lOTqaoqOii3zE+Pp6TJ0+SlZXFyJEjWbBgAQUFBfTo0YOMjAz27dvH1q1bMTOGDBnCmTNn2LJlC7fccguxsbH07NmTuLg4ysvLeffdd4mOjqayspJOnTrx0UcfERcXx3e/+13atWvH0qVL2bBhAyNHjmTixIm1pw87dOhwif9mqikwRKRVqKiooKKigmXLlnHgwAG6d+/OyJEja/94FhYWUl5eTufOnVmzZg3vvvsuANOmTeP999+nd+/e3HHHHQAsXbqUxYsX195BHxsby1133UVZWRkvvFA9ld3MmTPp0qULX375JZmZmbzzzjuUlpZy7733smLFCtatW3feWqOiohg8eDDr16+vd12fPn04c+YM+fn5X1ufmJhIaWnpWcvS0tIoKCgAYNSoUdxwww2XfgBpns/DEBG5ZDExMcTExJx38DotLa329YgRIygqKiI+Pp4xY8YwbNiwswbzJ0yYwMCBA0lLS6OoqIjY2FgSEhKorKwkNTWVrKwsRowYAcDNN98MQOfOnSkpKaFLly4MGTKkNjCuvvrq2mnsJ02axJdffsk111xDdnY2sbGxnDhxgnHjxlFQUEBCQgI5OTls27at3u8wcOBAZs2axS9/+UsAbrzxRhYtWlQbFpMmTSIjI+Myj2T91MMQEWkC7s5jjz1GQkICDzzwAPn5+ezZs4fx48cH9Uhed+fUqVPExcVRWlrK+++/z+bNm7nrrrvo0aMHe/bs4fTp02RkZPDOO++Qk5NT72XKl0qnpEREwuDUqVMAtGvX7rI/6+TJkxQVFdGzZ8+vrSsoKGD9+vWMHz/+svelU1IiImHQGEFRIz4+nvj4+HrXpaWlMXny5Ebb1/noCSsiIhIUBYaIiARFgSEiIkFRYIiISFAUGCIiEhQFhoiIBEWBISIiQVFgiIhIUFrsnd5mVgDsbsSPTAUKG/HzmpJqbRqqtWmo1qbR0Fp7u3tafStabGA0NjPLOd/t8pFGtTYN1do0VGvTaIpadUpKRESCosAQEZGgKDCC9/twF3AJVGvTUK1NQ7U2jUavVWMYIiISFPUwREQkKAoMEREJigLjEpjZI2a2z8zWBn4a9pT1JmJm081sq5ntMLMHw13PxZhZnpltCBzLiHo8opm9aGaHzWxjnWUdzexDM9se+GdKOGuscZ5aI+531cx6mtliM9tkZl+Z2U8CyyPuuF6g1kg8rnFm9qWZrQvU+ovA8nQz+yLw9+AvZtb2svelMYzgmdkjwHF3fzLctZzLzKKBbcBUIB9YCcxx901hLewCzCwPyHb3iLsRyswmAseBP7r74MCyXwHF7v5EIJBT3P3n4awzUFd9tT5ChP2umllXoKu7rzazRGAVcBNwBxF2XC9Q621E3nE1oL27HzezNsAy4CfAz4A33f11M3sWWOfuz1zOvtTDaDlGAzvcPdfdzwCvA7PDXFOz5e5LgeJzFs8GXg68fpnqPyBhd55aI467H3D31YHXpcBmoDsReFwvUGvE8WrHA2/bBH4cuBb4a2B5oxxXBcalu9/M1gdOA4S961xHd2Bvnff5ROgveB0OfGBmq8zsnnAXE4Qu7n4g8Pog0CWcxQQhUn9XMbM+wHDgCyL8uJ5TK0TgcTWzaDNbCxwGPgR2AkfdvSLQpFH+HigwzmFmi8xsYz0/s4FngH5AFnAA+PewFtv8TXD3EcD1wI8Cp1aaBa8+lxvJ53Mj9nfVzBKAN4AH3P1Y3XWRdlzrqTUij6u7V7p7FtCD6rMNA5piPzFN8aHNmbtPCaadmT0PvN3E5VyKfUDPOu97BJZFLHffF/jnYTN7i+pf9KXhreqCDplZV3c/EDjHfTjcBZ2Pux+qeR1Jv6uBc+xvAH9y9zcDiyPyuNZXa6Qe1xruftTMFgPjgGQziwn0Mhrl74F6GJcg8Mtc42Zg4/nahsFK4MrAlRFtgduBBWGu6bzMrH1gMBEzaw9cR2Qdz/osAH4QeP0D4O9hrOWCIvF3NTA4+wKw2d1/XWdVxB3X89Uaocc1zcySA6/bUX3hy2ZgMXBroFmjHFddJXUJzOwVqruiDuQB/73OudewC1zi9x9ANPCiuz8W5pLOy8z6Am8F3sYAr0VSvWb2Z+AaqqeIPgQ8DPwNmAf0onrq/NvcPeyDzeep9Roi7HfVzCYAnwIbgKrA4n+memwgoo7rBWqdQ+Qd16FUD2pHU90JmOfujwb+G3sd6AisAb7n7mWXtS8FhoiIBEOnpEREJCgKDBERCYoCQ0REgqLAEBGRoCgwREQkKAoMkYsws051Zic9WGe20uNm9rsm2ucDZjb3AutvNLNHm2LfIuejy2pFLkEoZoE1sxhgNTCizlxA57axQJur3P1kU9UiUpd6GCINZGbXmNnbgdePmNnLZvapme02s2+Z2a+s+nkfCwPTTGBmI81sSWDCxffPuXO4xrXA6pqwMLMfW/VzGdab2etQO+fSJ8CNIfmyIigwRBpTP6r/2M8CXgUWu/sQ4BQwIxAa/wnc6u4jgReB+u5uv4rq5y/UeBAY7u5DgXvrLM8Bvtno30LkPDT5oEjjec/dy81sA9XTNCwMLN8A9AH6A4OBD6vPKBFN9Yyn5+pK9VxANdYDfzKzv1E9PUmNw0C3xvwCIheiwBBpPGUA7l5lZuX+XwOEVVT/t2bAV+4+7iKfcwqIq/N+BjARmAn8LzMbEjhdFRdoKxISOiUlEjpbgTQzGwfV02eb2aB62m0GvhFoEwX0dPfFwM+BJCAh0C6DCJgtVVoPBYZIiAQenXsr8EszWwesBcbX0/Q9qnsUUH3a6tXAaa41wG/d/Whg3STgnaatWuS/6LJakQgUeKDU/+/u28+zvgvVU8JPDm1l0popMEQikJn1p/pZ1/U+gdDMRgHl7r42tJVJa6bAEBGRoGgMQ0REgqLAEBGRoCgwREQkKAoMEREJigJDRESC8v8A50nEl+AUmg8AAAAASUVORK5CYII=\n"
                },
                "metadata": {
                  "needs_background": "light"
                }
              }
            ]
          }
        },
        "ca67359fd11141249d993958921a5f4b": {
          "model_module": "@jupyter-widgets/base",
          "model_name": "LayoutModel",
          "model_module_version": "1.2.0",
          "state": {
            "_model_module": "@jupyter-widgets/base",
            "_model_module_version": "1.2.0",
            "_model_name": "LayoutModel",
            "_view_count": null,
            "_view_module": "@jupyter-widgets/base",
            "_view_module_version": "1.2.0",
            "_view_name": "LayoutView",
            "align_content": null,
            "align_items": null,
            "align_self": null,
            "border": null,
            "bottom": null,
            "display": null,
            "flex": null,
            "flex_flow": null,
            "grid_area": null,
            "grid_auto_columns": null,
            "grid_auto_flow": null,
            "grid_auto_rows": null,
            "grid_column": null,
            "grid_gap": null,
            "grid_row": null,
            "grid_template_areas": null,
            "grid_template_columns": null,
            "grid_template_rows": null,
            "height": null,
            "justify_content": null,
            "justify_items": null,
            "left": null,
            "margin": null,
            "max_height": null,
            "max_width": null,
            "min_height": null,
            "min_width": null,
            "object_fit": null,
            "object_position": null,
            "order": null,
            "overflow": null,
            "overflow_x": null,
            "overflow_y": null,
            "padding": null,
            "right": null,
            "top": null,
            "visibility": null,
            "width": null
          }
        },
        "f33eadfb272b4f5193006cd7518e540a": {
          "model_module": "@jupyter-widgets/controls",
          "model_name": "IntRangeSliderModel",
          "model_module_version": "1.5.0",
          "state": {
            "_dom_classes": [],
            "_model_module": "@jupyter-widgets/controls",
            "_model_module_version": "1.5.0",
            "_model_name": "IntRangeSliderModel",
            "_view_count": null,
            "_view_module": "@jupyter-widgets/controls",
            "_view_module_version": "1.5.0",
            "_view_name": "IntRangeSliderView",
            "continuous_update": false,
            "description": "Data_range:",
            "description_tooltip": null,
            "disabled": false,
            "layout": "IPY_MODEL_38d5fb6346c444b88efb1d8f9c22ebd6",
            "max": 543,
            "min": 0,
            "orientation": "horizontal",
            "readout": true,
            "readout_format": "d",
            "step": 1,
            "style": "IPY_MODEL_57ff368b8ccd4fd8bc7d850f4fb4654d",
            "value": [
              0,
              475
            ]
          }
        },
        "7c6c1ccf5b924f6996b8d09f8576404a": {
          "model_module": "@jupyter-widgets/controls",
          "model_name": "IntSliderModel",
          "model_module_version": "1.5.0",
          "state": {
            "_dom_classes": [],
            "_model_module": "@jupyter-widgets/controls",
            "_model_module_version": "1.5.0",
            "_model_name": "IntSliderModel",
            "_view_count": null,
            "_view_module": "@jupyter-widgets/controls",
            "_view_module_version": "1.5.0",
            "_view_name": "IntSliderView",
            "continuous_update": true,
            "description": "IR_pos:",
            "description_tooltip": null,
            "disabled": false,
            "layout": "IPY_MODEL_dc4f011eaa444cf2acf560d1cd53fefb",
            "max": 543,
            "min": 0,
            "orientation": "horizontal",
            "readout": true,
            "readout_format": "d",
            "step": 1,
            "style": "IPY_MODEL_0e469d8fd2204890af54e9ca4e5b3606",
            "value": 75
          }
        },
        "8399eda0816b4cb4b4477853e7d5a0bc": {
          "model_module": "@jupyter-widgets/base",
          "model_name": "LayoutModel",
          "model_module_version": "1.2.0",
          "state": {
            "_model_module": "@jupyter-widgets/base",
            "_model_module_version": "1.2.0",
            "_model_name": "LayoutModel",
            "_view_count": null,
            "_view_module": "@jupyter-widgets/base",
            "_view_module_version": "1.2.0",
            "_view_name": "LayoutView",
            "align_content": null,
            "align_items": null,
            "align_self": null,
            "border": null,
            "bottom": null,
            "display": null,
            "flex": null,
            "flex_flow": null,
            "grid_area": null,
            "grid_auto_columns": null,
            "grid_auto_flow": null,
            "grid_auto_rows": null,
            "grid_column": null,
            "grid_gap": null,
            "grid_row": null,
            "grid_template_areas": null,
            "grid_template_columns": null,
            "grid_template_rows": null,
            "height": null,
            "justify_content": null,
            "justify_items": null,
            "left": null,
            "margin": null,
            "max_height": null,
            "max_width": null,
            "min_height": null,
            "min_width": null,
            "object_fit": null,
            "object_position": null,
            "order": null,
            "overflow": null,
            "overflow_x": null,
            "overflow_y": null,
            "padding": null,
            "right": null,
            "top": null,
            "visibility": null,
            "width": null
          }
        },
        "38d5fb6346c444b88efb1d8f9c22ebd6": {
          "model_module": "@jupyter-widgets/base",
          "model_name": "LayoutModel",
          "model_module_version": "1.2.0",
          "state": {
            "_model_module": "@jupyter-widgets/base",
            "_model_module_version": "1.2.0",
            "_model_name": "LayoutModel",
            "_view_count": null,
            "_view_module": "@jupyter-widgets/base",
            "_view_module_version": "1.2.0",
            "_view_name": "LayoutView",
            "align_content": null,
            "align_items": null,
            "align_self": null,
            "border": null,
            "bottom": null,
            "display": null,
            "flex": null,
            "flex_flow": null,
            "grid_area": null,
            "grid_auto_columns": null,
            "grid_auto_flow": null,
            "grid_auto_rows": null,
            "grid_column": null,
            "grid_gap": null,
            "grid_row": null,
            "grid_template_areas": null,
            "grid_template_columns": null,
            "grid_template_rows": null,
            "height": null,
            "justify_content": null,
            "justify_items": null,
            "left": null,
            "margin": null,
            "max_height": null,
            "max_width": null,
            "min_height": null,
            "min_width": null,
            "object_fit": null,
            "object_position": null,
            "order": null,
            "overflow": null,
            "overflow_x": null,
            "overflow_y": null,
            "padding": null,
            "right": null,
            "top": null,
            "visibility": null,
            "width": null
          }
        },
        "57ff368b8ccd4fd8bc7d850f4fb4654d": {
          "model_module": "@jupyter-widgets/controls",
          "model_name": "SliderStyleModel",
          "model_module_version": "1.5.0",
          "state": {
            "_model_module": "@jupyter-widgets/controls",
            "_model_module_version": "1.5.0",
            "_model_name": "SliderStyleModel",
            "_view_count": null,
            "_view_module": "@jupyter-widgets/base",
            "_view_module_version": "1.2.0",
            "_view_name": "StyleView",
            "description_width": "",
            "handle_color": null
          }
        },
        "dc4f011eaa444cf2acf560d1cd53fefb": {
          "model_module": "@jupyter-widgets/base",
          "model_name": "LayoutModel",
          "model_module_version": "1.2.0",
          "state": {
            "_model_module": "@jupyter-widgets/base",
            "_model_module_version": "1.2.0",
            "_model_name": "LayoutModel",
            "_view_count": null,
            "_view_module": "@jupyter-widgets/base",
            "_view_module_version": "1.2.0",
            "_view_name": "LayoutView",
            "align_content": null,
            "align_items": null,
            "align_self": null,
            "border": null,
            "bottom": null,
            "display": null,
            "flex": null,
            "flex_flow": null,
            "grid_area": null,
            "grid_auto_columns": null,
            "grid_auto_flow": null,
            "grid_auto_rows": null,
            "grid_column": null,
            "grid_gap": null,
            "grid_row": null,
            "grid_template_areas": null,
            "grid_template_columns": null,
            "grid_template_rows": null,
            "height": null,
            "justify_content": null,
            "justify_items": null,
            "left": null,
            "margin": null,
            "max_height": null,
            "max_width": null,
            "min_height": null,
            "min_width": null,
            "object_fit": null,
            "object_position": null,
            "order": null,
            "overflow": null,
            "overflow_x": null,
            "overflow_y": null,
            "padding": null,
            "right": null,
            "top": null,
            "visibility": null,
            "width": null
          }
        },
        "0e469d8fd2204890af54e9ca4e5b3606": {
          "model_module": "@jupyter-widgets/controls",
          "model_name": "SliderStyleModel",
          "model_module_version": "1.5.0",
          "state": {
            "_model_module": "@jupyter-widgets/controls",
            "_model_module_version": "1.5.0",
            "_model_name": "SliderStyleModel",
            "_view_count": null,
            "_view_module": "@jupyter-widgets/base",
            "_view_module_version": "1.2.0",
            "_view_name": "StyleView",
            "description_width": "",
            "handle_color": null
          }
        },
        "ecfd4ede74e24232a873eacf54632221": {
          "model_module": "@jupyter-widgets/base",
          "model_name": "LayoutModel",
          "model_module_version": "1.2.0",
          "state": {
            "_model_module": "@jupyter-widgets/base",
            "_model_module_version": "1.2.0",
            "_model_name": "LayoutModel",
            "_view_count": null,
            "_view_module": "@jupyter-widgets/base",
            "_view_module_version": "1.2.0",
            "_view_name": "LayoutView",
            "align_content": null,
            "align_items": null,
            "align_self": null,
            "border": null,
            "bottom": null,
            "display": null,
            "flex": null,
            "flex_flow": null,
            "grid_area": null,
            "grid_auto_columns": null,
            "grid_auto_flow": null,
            "grid_auto_rows": null,
            "grid_column": null,
            "grid_gap": null,
            "grid_row": null,
            "grid_template_areas": null,
            "grid_template_columns": null,
            "grid_template_rows": null,
            "height": null,
            "justify_content": null,
            "justify_items": null,
            "left": null,
            "margin": null,
            "max_height": null,
            "max_width": null,
            "min_height": null,
            "min_width": null,
            "object_fit": null,
            "object_position": null,
            "order": null,
            "overflow": null,
            "overflow_x": null,
            "overflow_y": null,
            "padding": null,
            "right": null,
            "top": null,
            "visibility": null,
            "width": null
          }
        }
      }
    }
  },
  "cells": [
    {
      "cell_type": "markdown",
      "metadata": {
        "id": "view-in-github",
        "colab_type": "text"
      },
      "source": [
        "<a href=\"https://colab.research.google.com/github/Katona-lab/MST-analysis/blob/main/MST_progress_curve_analysis.ipynb\" target=\"_parent\"><img src=\"https://colab.research.google.com/assets/colab-badge.svg\" alt=\"Open In Colab\"/></a>"
      ]
    },
    {
      "cell_type": "code",
      "source": [
        "#@title STEP 1: Start here by selecting an Excel MST file exported by the Nanotemper software.\n",
        "#@markdown To activate a step press the Play button on the left. Run the steps sequentially, but chose only one alternative if alternative steps are offered.<p>\n",
        "#@markdown Please cite this article: <p>\n",
        "#@markdown Atsarina Larasati Anindya, Maria-Jose Garcia-Bonete, Maja Jensen, Christian V. Recktenwald, Maria Bokarewa and Gergely Katona <i>Bayesian Progress Curve Analysis of MicroScale Thermophoresis Data.</i>\n",
        "#@markdown (2022) <b><i>Digital discovery</i></b><p>\n",
        "#@markdown https://doi.org/10.1039/D1DD00026H\n",
        "# (c) 2022 Gergely Katona <gergely.katona@gu.se>\n",
        "import io\n",
        "import pandas as pd\n",
        "from google.colab import files\n",
        "import numpy as np\n",
        "import pymc3 as pm\n",
        "import pylab as plt\n",
        "import theano.tensor as T\n",
        "from pymc3.math import switch\n",
        "\n",
        "#Experimental data description \n",
        "uploaded = files.upload()\n",
        "\n",
        "df=pd.read_excel(io.BytesIO(uploaded[list(uploaded.keys())[0]]))\n",
        "\n",
        "ligpos=df.loc[df.iloc[:,0] == 'Ligand Concentration:'].index[0]\n",
        "firsttimepos=df.loc[df.iloc[:,0] == 'Time [s]'].index[0]\n",
        "targind=df.loc[df.iloc[:,0] == 'TargetConcentration:'].index[0]\n",
        "FluoConc=df.iloc[targind,1]\n",
        "\n",
        "cideal=df.iloc[ligpos,1::3]\n",
        "onedtime=df.iloc[firsttimepos+1:,0].reset_index(drop=True)\n",
        "firstIRtimepos=onedtime.loc[onedtime==0].index[0]\n",
        "fluorescence=df.iloc[firsttimepos+1:,1::3].reset_index(drop=True)\n",
        "fluorescence=fluorescence.T.reset_index(drop=True).T\n",
        "Capillary=len(cideal)\n",
        "start_t=onedtime.iloc[0]\n",
        "end_t=onedtime.iloc[-1]\n",
        "print (\"The data starts at position %i, which corresponds to %f s.\" % (0,start_t))\n",
        "print (\"The data ends at position %i, which corresponds to %f s.\" % (len(onedtime),end_t))\n",
        "print (\"The IR laser is supposed to be ON from position %i, which corresponds to 0 s.\"% (firstIRtimepos))\n",
        "print (\"The target concentration is %E .\"% FluoConc)\n",
        "if FluoConc < 1:\n",
        "  print (\"I guess you are using units of M?\")\n",
        "if FluoConc > 1:\n",
        "  print (\"I guess you are using units of nM?\")\n",
        "print (\"%i capillaries were used.\" % Capillary)\n",
        "print (\"The ligand concentrations are %s . \"% list(cideal))\n",
        "print (\"Units hopefully are in nM (due to the numerical limits of KD prior) and the KD will be expressed in the same unit. If these concentrations are invalid, please edit them in the input excel file.\")"
      ],
      "metadata": {
        "colab": {
          "resources": {
            "http://localhost:8080/nbextensions/google.colab/files.js": {
              "data": "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",
              "ok": true,
              "headers": [
                [
                  "content-type",
                  "application/javascript"
                ]
              ],
              "status": 200,
              "status_text": "OK"
            }
          },
          "base_uri": "https://localhost:8080/",
          "height": 232
        },
        "id": "ZCsUQyVH106b",
        "outputId": "7f2fad49-c978-4c8e-8158-83a5af44437e",
        "cellView": "form"
      },
      "execution_count": null,
      "outputs": [
        {
          "output_type": "display_data",
          "data": {
            "text/plain": [
              "<IPython.core.display.HTML object>"
            ],
            "text/html": [
              "\n",
              "     <input type=\"file\" id=\"files-640cd84a-5e66-4297-982b-d2b5070a8bc4\" name=\"files[]\" multiple disabled\n",
              "        style=\"border:none\" />\n",
              "     <output id=\"result-640cd84a-5e66-4297-982b-d2b5070a8bc4\">\n",
              "      Upload widget is only available when the cell has been executed in the\n",
              "      current browser session. Please rerun this cell to enable.\n",
              "      </output>\n",
              "      <script src=\"/nbextensions/google.colab/files.js\"></script> "
            ]
          },
          "metadata": {}
        },
        {
          "output_type": "stream",
          "name": "stdout",
          "text": [
            "Saving MSTTraces_Sgo2_run1.xlsx to MSTTraces_Sgo2_run1.xlsx\n",
            "The data starts at position 0, which corresponds to -5.514154 s.\n",
            "The data ends at position 543, which corresponds to 34.947815 s.\n",
            "The IR laser is supposed to be ON from position 73, which corresponds to 0 s.\n",
            "The target concentration is 2.000000E+01 .\n",
            "I guess you are using units of nM?\n",
            "16 capillaries were used.\n",
            "The ligand concentrations are [500000, 250000, 125000, 62500, 31250, 15625, 7812.5, 3906.25, 1953.125, 976.5625, 488.2813, 244.1406, 122.0703, 61.0352, 30.5176, 15.2588] . \n",
            "Units hopefully are in nM (due to the numerical limits of KD prior) and the KD will be expressed in the same unit. If these concentrations are invalid, please edit them in the input excel file.\n"
          ]
        }
      ]
    },
    {
      "cell_type": "code",
      "source": [
        "#@title STEP 2: Displaying and verifying the data. Adjusting data range and laser start. { run: \"auto\" }\n",
        "import ipywidgets as widgets\n",
        "from IPython.display import display\n",
        "#@markdown Step 2.1: Inspect the progress curve. Is this the data you want to model? The program tries to guess a suitable end point automatically, by choosing the minimum of Fnorm. This initial guess will vary from capillary to capillary, but once you start modelling the last displayed end data point will be used for for all capillaries. Please feel free to override data range according to your wishes, keep in mind that linear kinetic processes can increase Fnorm after the exponential processes finished and the model has a chance to deal with them. In that case, feel free to extend the data range beyond the time Fnorm reaches the absolute minimum.<p>\n",
        "#@markdown Step 2.2: Zoom in with the sliders to the laser start point and adjust to the point where the Fnorm starts to drop rapidly. Experience shows that there is a few ms delay between time 0 of the instrument and the first sign of response in Fnorm. An empirical delay is already automatically applied to the laser start.<p>\n",
        "#@markdown Step 2.3: Reset the end slider to the end of the IR irradiation period or any point earlier. The model does not take into account the recovery phase after the IR laser is swiched off.\n",
        "Cap_display = \"1\" #@param [\"1\", \"2\", \"3\", \"4\", \"5\", \"6\", \"7\", \"8\", \"9\", \"10\", \"11\", \"12\", \"13\", \"14\", \"15\", \"16\"]\n",
        "\n",
        "Data_range=widgets.IntRangeSlider(\n",
        "    value=[0, fluorescence[int(Capillary)-1].astype(float).idxmin()],\n",
        "    min=0,\n",
        "    max=len(onedtime),\n",
        "    step=1,\n",
        "    description='Data_range:',\n",
        "    disabled=False,\n",
        "    continuous_update=False,\n",
        "    orientation='horizontal',\n",
        "    readout=True,\n",
        "    readout_format='d',\n",
        ")\n",
        "\n",
        "\n",
        "IR_pos=widgets.IntSlider(\n",
        "    value=firstIRtimepos+2,\n",
        "    min=0,\n",
        "    max=len(onedtime),\n",
        "    step=1,\n",
        "    description='IR_pos:',\n",
        "    disabled=False\n",
        ")\n",
        "\n",
        "def f(Data_range, IR_pos):\n",
        "    Start_pos,End_pos=Data_range\n",
        "    fig, ax = plt.subplots()\n",
        "    ax.plot(onedtime[Start_pos:End_pos],fluorescence[int(Cap_display)-1].astype(float).iloc[Start_pos:End_pos], color='gray')\n",
        "    ax.annotate('IR laser', \n",
        "            xy=(onedtime[IR_pos], 1), \n",
        "            xytext=(onedtime[IR_pos], 0.95), \n",
        "            arrowprops = dict(facecolor='red', shrink=0.05)\n",
        "    )\n",
        "    plt.xlabel (\"Time (s)\")\n",
        "    plt.ylabel (r\"$F_{norm}$\")\n",
        "out = widgets.interactive_output(f, {'Data_range': Data_range, 'IR_pos': IR_pos})\n",
        "\n",
        "widgets.HBox([widgets.VBox([Data_range, IR_pos]), out])\n",
        "\n"
      ],
      "metadata": {
        "id": "ZlemQ5w9m5KJ",
        "outputId": "f6ef9ec3-46ce-4071-9bba-ebc4d6a01f65",
        "colab": {
          "base_uri": "https://localhost:8080/",
          "height": 279,
          "referenced_widgets": [
            "17689d87103d46d1b5a5b1c3bb7672c4",
            "57a99d2a9cc945bbb433862bc315a6b0",
            "8b548c5871514f519231e5c673c2a8c8",
            "ca67359fd11141249d993958921a5f4b",
            "f33eadfb272b4f5193006cd7518e540a",
            "7c6c1ccf5b924f6996b8d09f8576404a",
            "8399eda0816b4cb4b4477853e7d5a0bc",
            "38d5fb6346c444b88efb1d8f9c22ebd6",
            "57ff368b8ccd4fd8bc7d850f4fb4654d",
            "dc4f011eaa444cf2acf560d1cd53fefb",
            "0e469d8fd2204890af54e9ca4e5b3606",
            "ecfd4ede74e24232a873eacf54632221"
          ]
        },
        "cellView": "form"
      },
      "execution_count": null,
      "outputs": [
        {
          "output_type": "display_data",
          "data": {
            "text/plain": [
              "HBox(children=(VBox(children=(IntRangeSlider(value=(0, 456), continuous_update=False, description='Data_range:…"
            ],
            "application/vnd.jupyter.widget-view+json": {
              "version_major": 2,
              "version_minor": 0,
              "model_id": "17689d87103d46d1b5a5b1c3bb7672c4"
            }
          },
          "metadata": {}
        }
      ]
    },
    {
      "cell_type": "code",
      "source": [
        "#@title STEP 3.1 (Alternative 1): Perform the MCMC sampling (linear phase starts before the IR irradiation)\n",
        "#@markdown Use scenario: The fluroescence signal (Fnorm) is not stable at 1 before IR irradiation. Possible reasons: photodamage, unstable protein, not fully equilibrated target:ligand interaction.\n",
        "\n",
        "#@markdown Choose the concentration units to provide appropriate prior distribution for K_D.\n",
        "\n",
        "K_D_prior=\"informative uniform prior for nM units\" #@param [\"informative uniform prior for nM units\", \"informative uniform prior for M units\", \"flat exponential prior for any unit\"]\n",
        "\n",
        "#@markdown Enter the number of tuning and sampling steps for the Markov Chain Monte Carlo algorithm. Decrease these only if you know what you are doing.\n",
        "Tuning = 1000 #@param {type:\"number\"}\n",
        "Samples = 2000 #@param {type:\"number\"}\n",
        "\n",
        "IR=IR_pos.value\n",
        "start,end=Data_range.value\n",
        "cap=int(Capillary)\n",
        "time=np.array([onedtime[:,]]*cap,dtype=float).transpose()\n",
        "with pm.Model() as model:\n",
        "    if K_D_prior==\"informative uniform prior for nM units\":\n",
        "        K_D = pm.Uniform('K_D', 1, 1e6)\n",
        "    if K_D_prior==\"informative uniform prior for M units\":\n",
        "        K_D = pm.Uniform('K_D', 1e-9, 1e-3)\n",
        "    if K_D_prior==\"flat exponential prior for any unit\":\n",
        "        K_D = pm.Exponential('K_D', 1e-3)\n",
        "    BoundedNormal = pm.Bound(pm.Normal, lower=0, upper=1e8)\n",
        "    c_fl = BoundedNormal('c_fl',mu=FluoConc,sd=FluoConc/10.0)\n",
        "\n",
        "    U=pm.Beta('U',alpha=1,beta=1)\n",
        "    B=pm.Beta('B',alpha=1,beta=1)\n",
        "    A_total=pm.Deterministic('A_total', U + (B-U)*((c_fl + cideal.astype(float) + K_D - pm.math.sqrt(pm.math.sqr(c_fl + cideal.astype(float) + K_D) - 4.0*c_fl*cideal.astype(float)))/(2*c_fl)))\n",
        "    \n",
        "    L=pm.Uniform('L',-1,1, shape=cap)\n",
        "    I=pm.Deterministic('I',1+L*start_t-A_total)\n",
        "    R=pm.Beta('R',alpha=2,beta=1, shape=cap)\n",
        "    A_1=pm.Deterministic('A_1',A_total*R)\n",
        "    A_2=pm.Deterministic('A_2',A_total*(1-R))\n",
        "    rate1=pm.Lognormal('rate1',0,1, shape=cap)\n",
        "    rate2=pm.Lognormal('rate2',0,1, shape=cap)\n",
        "\n",
        "    linearphase=L*(time-start_t)\n",
        "    E_1=A_1*pm.math.exp(-1.0*rate1*time)\n",
        "    E_2=A_2*pm.math.exp(-1.0*rate2*time)\n",
        "\n",
        "    epsilon = pm.Lognormal('epsilon', 0, 1)\n",
        "    laseron=np.tile(np.arange(0, len(onedtime)), (cap,1)).T\n",
        "\n",
        "    pr = switch(IR >= laseron, 1.0+linearphase, linearphase+I+E_1+E_2)\n",
        "\n",
        "\n",
        "    P = pm.Normal('P', mu=pr[start:end], sd=epsilon, observed=fluorescence.astype(float).iloc[start:end])\n",
        "\n",
        "\n",
        "with model:\n",
        "    trace = pm.sampling.sample(Samples, tune=Tuning,\n",
        "                      init='ADVI'\n",
        "                     )\n",
        "    \n",
        "with model:\n",
        "    ppc = pm.sample_posterior_predictive(trace, samples=1000 ,model=model)"
      ],
      "metadata": {
        "id": "smyOSMXv5QpD",
        "outputId": "a224d3c6-71d1-4b56-c80e-b21a8bdfae9c",
        "colab": {
          "base_uri": "https://localhost:8080/",
          "height": 309
        },
        "cellView": "form"
      },
      "execution_count": null,
      "outputs": [
        {
          "output_type": "stream",
          "name": "stderr",
          "text": [
            "/usr/local/lib/python3.7/dist-packages/ipykernel_launcher.py:53: FutureWarning: In v4.0, pm.sample will return an `arviz.InferenceData` object instead of a `MultiTrace` by default. You can pass return_inferencedata=True or return_inferencedata=False to be safe and silence this warning.\n",
            "Auto-assigning NUTS sampler...\n",
            "Initializing NUTS using advi...\n"
          ]
        },
        {
          "output_type": "display_data",
          "data": {
            "text/plain": [
              "<IPython.core.display.HTML object>"
            ],
            "text/html": [
              "\n",
              "<style>\n",
              "    /* Turns off some styling */\n",
              "    progress {\n",
              "        /* gets rid of default border in Firefox and Opera. */\n",
              "        border: none;\n",
              "        /* Needs to be in here for Safari polyfill so background images work as expected. */\n",
              "        background-size: auto;\n",
              "    }\n",
              "    .progress-bar-interrupted, .progress-bar-interrupted::-webkit-progress-bar {\n",
              "        background: #F44336;\n",
              "    }\n",
              "</style>\n"
            ]
          },
          "metadata": {}
        },
        {
          "output_type": "display_data",
          "data": {
            "text/plain": [
              "<IPython.core.display.HTML object>"
            ],
            "text/html": [
              "\n",
              "    <div>\n",
              "      <progress value='68530' class='' max='200000' style='width:300px; height:20px; vertical-align: middle;'></progress>\n",
              "      34.27% [68530/200000 01:13<02:20 Average Loss = -34,955]\n",
              "    </div>\n",
              "    "
            ]
          },
          "metadata": {}
        },
        {
          "output_type": "stream",
          "name": "stderr",
          "text": [
            "Convergence achieved at 68700\n",
            "Interrupted at 68,699 [34%]: Average Loss = 1.4272e+13\n",
            "Sequential sampling (2 chains in 1 job)\n",
            "NUTS: [epsilon, rate2, rate1, R, L, B, U, c_fl, K_D]\n"
          ]
        },
        {
          "output_type": "display_data",
          "data": {
            "text/plain": [
              "<IPython.core.display.HTML object>"
            ],
            "text/html": [
              "\n",
              "<style>\n",
              "    /* Turns off some styling */\n",
              "    progress {\n",
              "        /* gets rid of default border in Firefox and Opera. */\n",
              "        border: none;\n",
              "        /* Needs to be in here for Safari polyfill so background images work as expected. */\n",
              "        background-size: auto;\n",
              "    }\n",
              "    .progress-bar-interrupted, .progress-bar-interrupted::-webkit-progress-bar {\n",
              "        background: #F44336;\n",
              "    }\n",
              "</style>\n"
            ]
          },
          "metadata": {}
        },
        {
          "output_type": "display_data",
          "data": {
            "text/plain": [
              "<IPython.core.display.HTML object>"
            ],
            "text/html": [
              "\n",
              "    <div>\n",
              "      <progress value='3000' class='' max='3000' style='width:300px; height:20px; vertical-align: middle;'></progress>\n",
              "      100.00% [3000/3000 16:56<00:00 Sampling chain 0, 0 divergences]\n",
              "    </div>\n",
              "    "
            ]
          },
          "metadata": {}
        },
        {
          "output_type": "display_data",
          "data": {
            "text/plain": [
              "<IPython.core.display.HTML object>"
            ],
            "text/html": [
              "\n",
              "<style>\n",
              "    /* Turns off some styling */\n",
              "    progress {\n",
              "        /* gets rid of default border in Firefox and Opera. */\n",
              "        border: none;\n",
              "        /* Needs to be in here for Safari polyfill so background images work as expected. */\n",
              "        background-size: auto;\n",
              "    }\n",
              "    .progress-bar-interrupted, .progress-bar-interrupted::-webkit-progress-bar {\n",
              "        background: #F44336;\n",
              "    }\n",
              "</style>\n"
            ]
          },
          "metadata": {}
        },
        {
          "output_type": "display_data",
          "data": {
            "text/plain": [
              "<IPython.core.display.HTML object>"
            ],
            "text/html": [
              "\n",
              "    <div>\n",
              "      <progress value='3000' class='' max='3000' style='width:300px; height:20px; vertical-align: middle;'></progress>\n",
              "      100.00% [3000/3000 16:18<00:00 Sampling chain 1, 0 divergences]\n",
              "    </div>\n",
              "    "
            ]
          },
          "metadata": {}
        },
        {
          "output_type": "stream",
          "name": "stderr",
          "text": [
            "Sampling 2 chains for 1_000 tune and 2_000 draw iterations (2_000 + 4_000 draws total) took 1995 seconds.\n",
            "The number of effective samples is smaller than 10% for some parameters.\n",
            "/usr/local/lib/python3.7/dist-packages/pymc3/sampling.py:1690: UserWarning: samples parameter is smaller than nchains times ndraws, some draws and/or chains may not be represented in the returned posterior predictive sample\n",
            "  \"samples parameter is smaller than nchains times ndraws, some draws \"\n"
          ]
        },
        {
          "output_type": "display_data",
          "data": {
            "text/plain": [
              "<IPython.core.display.HTML object>"
            ],
            "text/html": [
              "\n",
              "<style>\n",
              "    /* Turns off some styling */\n",
              "    progress {\n",
              "        /* gets rid of default border in Firefox and Opera. */\n",
              "        border: none;\n",
              "        /* Needs to be in here for Safari polyfill so background images work as expected. */\n",
              "        background-size: auto;\n",
              "    }\n",
              "    .progress-bar-interrupted, .progress-bar-interrupted::-webkit-progress-bar {\n",
              "        background: #F44336;\n",
              "    }\n",
              "</style>\n"
            ]
          },
          "metadata": {}
        },
        {
          "output_type": "display_data",
          "data": {
            "text/plain": [
              "<IPython.core.display.HTML object>"
            ],
            "text/html": [
              "\n",
              "    <div>\n",
              "      <progress value='1000' class='' max='1000' style='width:300px; height:20px; vertical-align: middle;'></progress>\n",
              "      100.00% [1000/1000 00:04<00:00]\n",
              "    </div>\n",
              "    "
            ]
          },
          "metadata": {}
        }
      ]
    },
    {
      "cell_type": "code",
      "source": [
        "#@title STEP 3.2 (Alternative 2): Perform the MCMC sampling (linear phase starts at time 0)\n",
        "#@markdown Use scenario: Fnorm is stable at 1 before IR irradiation, but after irradiation there is a trendlike increase or decrease in at least some of the progress curves. Possible causes: temperature induced denaturation of proteins, direct IR absorption in protein results in an electrodynamic interaction between the target and the ligand.\n",
        "\n",
        "#@markdown Choose the concentration units to provide appropriate prior distribution for K_D.\n",
        "\n",
        "K_D_prior=\"informative uniform prior for nM units\" #@param [\"informative uniform prior for nM units\", \"informative uniform prior for M units\", \"flat exponential prior for any unit\"]\n",
        "\n",
        "\n",
        "#@markdown Enter the number of tuning and sampling steps for the Markov Chain Monte Carlo algorithm. Decrease these only if you know what you are doing.\n",
        "Tuning = 1000 #@param {type:\"number\"}\n",
        "Samples = 2000 #@param {type:\"number\"}\n",
        "\n",
        "IR=IR_pos.value\n",
        "start,end=Data_range.value\n",
        "cap=int(Capillary)\n",
        "time=np.array([onedtime[:,]]*cap,dtype=float).transpose()\n",
        "with pm.Model() as model:\n",
        "    if K_D_prior==\"informative uniform prior for nM units\":\n",
        "        K_D = pm.Uniform('K_D', 1, 1e6)\n",
        "    if K_D_prior==\"informative uniform prior for M units\":\n",
        "        K_D = pm.Uniform('K_D', 1e-9, 1e-3)\n",
        "    if K_D_prior==\"flat exponential prior for any unit\":\n",
        "        K_D = pm.Exponential('K_D', 1e-3)\n",
        "    BoundedNormal = pm.Bound(pm.Normal, lower=0, upper=1e8)\n",
        "    c_fl = BoundedNormal('c_fl',mu=FluoConc,sd=FluoConc/10.0)\n",
        "\n",
        "    U=pm.Beta('U',alpha=1,beta=1)\n",
        "    B=pm.Beta('B',alpha=1,beta=1)\n",
        "    A_total=pm.Deterministic('A_total', U + (B-U)*((c_fl + cideal.astype(float) + K_D - pm.math.sqrt(pm.math.sqr(c_fl + cideal.astype(float) + K_D) - 4.0*c_fl*cideal.astype(float)))/(2*c_fl)))\n",
        "    \n",
        "    L=pm.Uniform('L',-1,1, shape=cap)\n",
        "    I=pm.Deterministic('I',1-A_total)\n",
        "    R=pm.Beta('R',alpha=2,beta=1, shape=cap)\n",
        "    A_1=pm.Deterministic('A_1',A_total*R)\n",
        "    A_2=pm.Deterministic('A_2',A_total*(1-R))\n",
        "    rate1=pm.Lognormal('rate1',0,1, shape=cap)\n",
        "    rate2=pm.Lognormal('rate2',0,1, shape=cap)\n",
        "\n",
        "    linearphase=L*(time)\n",
        "    E_1=A_1*pm.math.exp(-1.0*rate1*time)\n",
        "    E_2=A_2*pm.math.exp(-1.0*rate2*time)\n",
        "\n",
        "    epsilon = pm.Lognormal('epsilon', 0, 1)\n",
        "    laseron=np.tile(np.arange(0, len(onedtime)), (cap,1)).T\n",
        "\n",
        "    pr = switch(IR >= laseron, 1.0, linearphase+I+E_1+E_2)\n",
        "\n",
        "\n",
        "    P = pm.Normal('P', mu=pr[start:end], sd=epsilon, observed=fluorescence.astype(float).iloc[start:end])\n",
        "  \n",
        "with model:\n",
        "    trace = pm.sampling.sample(Samples, tune=Tuning,\n",
        "                      init='ADVI'\n",
        "                     )\n",
        "    \n",
        "with model:\n",
        "    ppc = pm.sample_posterior_predictive(trace, samples=1000 ,model=model)"
      ],
      "metadata": {
        "id": "OgMcYdCRcc_R",
        "cellView": "form"
      },
      "execution_count": null,
      "outputs": []
    },
    {
      "cell_type": "code",
      "source": [
        "#@title STEP 4: Statistics of global variables\n",
        "#@markdown If you are finished with Step 1-3, the later steps do not have to follow in strict order. <p>\n",
        "#@markdown K_D and c_fl units are traditionally expressed in nM in the Nanotemper software, U, B and epsilon are expressed as Fnorm.  \n",
        "pm.stats.summary(trace,var_names=['K_D','B','U', 'epsilon','c_fl'])\n"
      ],
      "metadata": {
        "colab": {
          "base_uri": "https://localhost:8080/",
          "height": 278
        },
        "id": "59F3JTPXdNR4",
        "outputId": "c11a7955-426a-4180-c712-47e7f1c17386",
        "cellView": "form"
      },
      "execution_count": null,
      "outputs": [
        {
          "output_type": "stream",
          "name": "stderr",
          "text": [
            "Got error No model on context stack. trying to find log_likelihood in translation.\n",
            "/usr/local/lib/python3.7/dist-packages/arviz/data/io_pymc3_3x.py:102: FutureWarning: Using `from_pymc3` without the model will be deprecated in a future release. Not using the model will return less accurate and less useful results. Make sure you use the model argument or call from_pymc3 within a model context.\n",
            "  FutureWarning,\n"
          ]
        },
        {
          "output_type": "execute_result",
          "data": {
            "text/plain": [
              "             mean       sd    hdi_3%   hdi_97%  mcse_mean  mcse_sd  ess_bulk  \\\n",
              "K_D      1822.711  183.243  1477.747  2149.699      6.942    4.911     687.0   \n",
              "B           0.279    0.000     0.279     0.280      0.000    0.000     996.0   \n",
              "U           0.252    0.000     0.251     0.253      0.000    0.000     345.0   \n",
              "epsilon     0.001    0.000     0.001     0.001      0.000    0.000    6064.0   \n",
              "c_fl       20.002    2.076    16.152    23.965      0.022    0.016    8751.0   \n",
              "\n",
              "         ess_tail  r_hat  \n",
              "K_D        1545.0    1.0  \n",
              "B          1905.0    1.0  \n",
              "U           839.0    1.0  \n",
              "epsilon    2386.0    1.0  \n",
              "c_fl       2743.0    1.0  "
            ],
            "text/html": [
              "\n",
              "  <div id=\"df-d7ede94a-c025-4b37-b122-e3e758dbb429\">\n",
              "    <div class=\"colab-df-container\">\n",
              "      <div>\n",
              "<style scoped>\n",
              "    .dataframe tbody tr th:only-of-type {\n",
              "        vertical-align: middle;\n",
              "    }\n",
              "\n",
              "    .dataframe tbody tr th {\n",
              "        vertical-align: top;\n",
              "    }\n",
              "\n",
              "    .dataframe thead th {\n",
              "        text-align: right;\n",
              "    }\n",
              "</style>\n",
              "<table border=\"1\" class=\"dataframe\">\n",
              "  <thead>\n",
              "    <tr style=\"text-align: right;\">\n",
              "      <th></th>\n",
              "      <th>mean</th>\n",
              "      <th>sd</th>\n",
              "      <th>hdi_3%</th>\n",
              "      <th>hdi_97%</th>\n",
              "      <th>mcse_mean</th>\n",
              "      <th>mcse_sd</th>\n",
              "      <th>ess_bulk</th>\n",
              "      <th>ess_tail</th>\n",
              "      <th>r_hat</th>\n",
              "    </tr>\n",
              "  </thead>\n",
              "  <tbody>\n",
              "    <tr>\n",
              "      <th>K_D</th>\n",
              "      <td>1822.711</td>\n",
              "      <td>183.243</td>\n",
              "      <td>1477.747</td>\n",
              "      <td>2149.699</td>\n",
              "      <td>6.942</td>\n",
              "      <td>4.911</td>\n",
              "      <td>687.0</td>\n",
              "      <td>1545.0</td>\n",
              "      <td>1.0</td>\n",
              "    </tr>\n",
              "    <tr>\n",
              "      <th>B</th>\n",
              "      <td>0.279</td>\n",
              "      <td>0.000</td>\n",
              "      <td>0.279</td>\n",
              "      <td>0.280</td>\n",
              "      <td>0.000</td>\n",
              "      <td>0.000</td>\n",
              "      <td>996.0</td>\n",
              "      <td>1905.0</td>\n",
              "      <td>1.0</td>\n",
              "    </tr>\n",
              "    <tr>\n",
              "      <th>U</th>\n",
              "      <td>0.252</td>\n",
              "      <td>0.000</td>\n",
              "      <td>0.251</td>\n",
              "      <td>0.253</td>\n",
              "      <td>0.000</td>\n",
              "      <td>0.000</td>\n",
              "      <td>345.0</td>\n",
              "      <td>839.0</td>\n",
              "      <td>1.0</td>\n",
              "    </tr>\n",
              "    <tr>\n",
              "      <th>epsilon</th>\n",
              "      <td>0.001</td>\n",
              "      <td>0.000</td>\n",
              "      <td>0.001</td>\n",
              "      <td>0.001</td>\n",
              "      <td>0.000</td>\n",
              "      <td>0.000</td>\n",
              "      <td>6064.0</td>\n",
              "      <td>2386.0</td>\n",
              "      <td>1.0</td>\n",
              "    </tr>\n",
              "    <tr>\n",
              "      <th>c_fl</th>\n",
              "      <td>20.002</td>\n",
              "      <td>2.076</td>\n",
              "      <td>16.152</td>\n",
              "      <td>23.965</td>\n",
              "      <td>0.022</td>\n",
              "      <td>0.016</td>\n",
              "      <td>8751.0</td>\n",
              "      <td>2743.0</td>\n",
              "      <td>1.0</td>\n",
              "    </tr>\n",
              "  </tbody>\n",
              "</table>\n",
              "</div>\n",
              "      <button class=\"colab-df-convert\" onclick=\"convertToInteractive('df-d7ede94a-c025-4b37-b122-e3e758dbb429')\"\n",
              "              title=\"Convert this dataframe to an interactive table.\"\n",
              "              style=\"display:none;\">\n",
              "        \n",
              "  <svg xmlns=\"http://www.w3.org/2000/svg\" height=\"24px\"viewBox=\"0 0 24 24\"\n",
              "       width=\"24px\">\n",
              "    <path d=\"M0 0h24v24H0V0z\" fill=\"none\"/>\n",
              "    <path d=\"M18.56 5.44l.94 2.06.94-2.06 2.06-.94-2.06-.94-.94-2.06-.94 2.06-2.06.94zm-11 1L8.5 8.5l.94-2.06 2.06-.94-2.06-.94L8.5 2.5l-.94 2.06-2.06.94zm10 10l.94 2.06.94-2.06 2.06-.94-2.06-.94-.94-2.06-.94 2.06-2.06.94z\"/><path d=\"M17.41 7.96l-1.37-1.37c-.4-.4-.92-.59-1.43-.59-.52 0-1.04.2-1.43.59L10.3 9.45l-7.72 7.72c-.78.78-.78 2.05 0 2.83L4 21.41c.39.39.9.59 1.41.59.51 0 1.02-.2 1.41-.59l7.78-7.78 2.81-2.81c.8-.78.8-2.07 0-2.86zM5.41 20L4 18.59l7.72-7.72 1.47 1.35L5.41 20z\"/>\n",
              "  </svg>\n",
              "      </button>\n",
              "      \n",
              "  <style>\n",
              "    .colab-df-container {\n",
              "      display:flex;\n",
              "      flex-wrap:wrap;\n",
              "      gap: 12px;\n",
              "    }\n",
              "\n",
              "    .colab-df-convert {\n",
              "      background-color: #E8F0FE;\n",
              "      border: none;\n",
              "      border-radius: 50%;\n",
              "      cursor: pointer;\n",
              "      display: none;\n",
              "      fill: #1967D2;\n",
              "      height: 32px;\n",
              "      padding: 0 0 0 0;\n",
              "      width: 32px;\n",
              "    }\n",
              "\n",
              "    .colab-df-convert:hover {\n",
              "      background-color: #E2EBFA;\n",
              "      box-shadow: 0px 1px 2px rgba(60, 64, 67, 0.3), 0px 1px 3px 1px rgba(60, 64, 67, 0.15);\n",
              "      fill: #174EA6;\n",
              "    }\n",
              "\n",
              "    [theme=dark] .colab-df-convert {\n",
              "      background-color: #3B4455;\n",
              "      fill: #D2E3FC;\n",
              "    }\n",
              "\n",
              "    [theme=dark] .colab-df-convert:hover {\n",
              "      background-color: #434B5C;\n",
              "      box-shadow: 0px 1px 3px 1px rgba(0, 0, 0, 0.15);\n",
              "      filter: drop-shadow(0px 1px 2px rgba(0, 0, 0, 0.3));\n",
              "      fill: #FFFFFF;\n",
              "    }\n",
              "  </style>\n",
              "\n",
              "      <script>\n",
              "        const buttonEl =\n",
              "          document.querySelector('#df-d7ede94a-c025-4b37-b122-e3e758dbb429 button.colab-df-convert');\n",
              "        buttonEl.style.display =\n",
              "          google.colab.kernel.accessAllowed ? 'block' : 'none';\n",
              "\n",
              "        async function convertToInteractive(key) {\n",
              "          const element = document.querySelector('#df-d7ede94a-c025-4b37-b122-e3e758dbb429');\n",
              "          const dataTable =\n",
              "            await google.colab.kernel.invokeFunction('convertToInteractive',\n",
              "                                                     [key], {});\n",
              "          if (!dataTable) return;\n",
              "\n",
              "          const docLinkHtml = 'Like what you see? Visit the ' +\n",
              "            '<a target=\"_blank\" href=https://colab.research.google.com/notebooks/data_table.ipynb>data table notebook</a>'\n",
              "            + ' to learn more about interactive tables.';\n",
              "          element.innerHTML = '';\n",
              "          dataTable['output_type'] = 'display_data';\n",
              "          await google.colab.output.renderOutput(dataTable, element);\n",
              "          const docLink = document.createElement('div');\n",
              "          docLink.innerHTML = docLinkHtml;\n",
              "          element.appendChild(docLink);\n",
              "        }\n",
              "      </script>\n",
              "    </div>\n",
              "  </div>\n",
              "  "
            ]
          },
          "metadata": {},
          "execution_count": 52
        }
      ]
    },
    {
      "cell_type": "code",
      "source": [
        "#@title STEP 5: Posterior predictive check { run: \"auto\" }\n",
        "#@markdown The shaded area represent the High Density Interval (95%) of the posterior predictions.\n",
        "#@markdown <p> Choose the capillary to analyse:\n",
        "Cap_display = \"1\" #@param [\"1\", \"2\", \"3\", \"4\", \"5\", \"6\", \"7\", \"8\", \"9\", \"10\", \"11\", \"12\", \"13\", \"14\", \"15\", \"16\"]\n",
        "\n",
        "plt.plot(onedtime[start:end],fluorescence[int(Cap_display)-1].astype(float).iloc[start:end], color='gray')\n",
        "plt.plot(onedtime[start:end],np.mean(ppc['P'][:,:,int(Cap_display)-1], axis=0))\n",
        "plt.fill_between(np.array(onedtime[start:end],dtype=float), np.array(pm.stats.hdi(ppc['P'][:,:,int(Cap_display)-1])[:,0],dtype=float) ,np.array(pm.stats.hdi(ppc['P'][:,:,int(Cap_display)-1])[:,1],dtype=float) , alpha=0.5)\n"
      ],
      "metadata": {
        "colab": {
          "base_uri": "https://localhost:8080/",
          "height": 337
        },
        "id": "1MjwpdO-NhSi",
        "outputId": "824a02fd-4e99-4712-892f-9327a99fd3d2",
        "cellView": "form"
      },
      "execution_count": null,
      "outputs": [
        {
          "output_type": "stream",
          "name": "stderr",
          "text": [
            "/usr/local/lib/python3.7/dist-packages/ipykernel_launcher.py:8: FutureWarning: hdi currently interprets 2d data as (draw, shape) but this will change in a future release to (chain, draw) for coherence with other functions\n",
            "  \n"
          ]
        },
        {
          "output_type": "execute_result",
          "data": {
            "text/plain": [
              "<matplotlib.collections.PolyCollection at 0x7fa9d75da250>"
            ]
          },
          "metadata": {},
          "execution_count": 53
        },
        {
          "output_type": "display_data",
          "data": {
            "text/plain": [
              "<Figure size 432x288 with 1 Axes>"
            ],
            "image/png": "[encoded data removed]"
          },
          "metadata": {
            "needs_background": "light"
          }
        }
      ]
    },
    {
      "cell_type": "code",
      "source": [
        "#@title STEP 6: Concentration dependence of the kinetic parameters. { run: \"auto\" }\n",
        "#@markdown The error bars represent the High Density Interval (95%) of the posterior distribution.<p>\n",
        "#@markdown Choose the variable name:\n",
        "parameter = \"A_total\" #@param [\"A_total\",\"I\", \"rate1\", \"rate2\", \"A_1\", \"A_2\", \"L\"]\n",
        "fig=plt.subplot(111)\n",
        "plt.errorbar(cideal,np.median(trace[parameter],axis=0),yerr=np.abs(pm.hdi(trace[parameter]).T-np.median(trace[parameter],axis=0)))\n",
        "fig.set_xscale('log')"
      ],
      "metadata": {
        "colab": {
          "base_uri": "https://localhost:8080/",
          "height": 324
        },
        "id": "jy6L8---Yu3g",
        "outputId": "1022b14a-23c1-4af7-8423-96ca233b5c9e",
        "cellView": "form"
      },
      "execution_count": null,
      "outputs": [
        {
          "output_type": "stream",
          "name": "stderr",
          "text": [
            "/usr/local/lib/python3.7/dist-packages/ipykernel_launcher.py:6: FutureWarning: hdi currently interprets 2d data as (draw, shape) but this will change in a future release to (chain, draw) for coherence with other functions\n",
            "  \n"
          ]
        },
        {
          "output_type": "display_data",
          "data": {
            "text/plain": [
              "<Figure size 432x288 with 1 Axes>"
            ],
            "image/png": "[encoded data removed]"
          },
          "metadata": {
            "needs_background": "light"
          }
        }
      ]
    },
    {
      "cell_type": "code",
      "source": [
        "#@title STEP 7: Posterior distribution of model parameters (left), parameter trace (right). { run: \"auto\" }\n",
        "#@markdown Ideally the parameter traces fluctuate around a stable value.<p> \n",
        "#@markdown Choose the parameter name:\n",
        "parameter = \"K_D\" #@param [\"K_D\",\"B\",\"U\",\"epsilon\",\"A_total\",\"I\", \"rate1\", \"rate2\", \"A_1\", \"A_2\", \"L\"]\n",
        "with model:\n",
        "  ax=pm.plot_trace(trace[0:],[parameter],combined=True)"
      ],
      "metadata": {
        "colab": {
          "base_uri": "https://localhost:8080/",
          "height": 171
        },
        "id": "i7Pl-BazZxcB",
        "outputId": "6ecdd2f0-c00a-4203-97ee-8035fb7ba11e",
        "cellView": "form"
      },
      "execution_count": null,
      "outputs": [
        {
          "output_type": "display_data",
          "data": {
            "text/plain": [
              "<Figure size 864x144 with 2 Axes>"
            ],
            "image/png": "[encoded data removed]"
          },
          "metadata": {
            "needs_background": "light"
          }
        }
      ]
    }
  ]
}