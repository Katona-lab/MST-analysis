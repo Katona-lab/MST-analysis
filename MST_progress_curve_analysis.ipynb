{
  "nbformat": 4,
  "nbformat_minor": 0,
  "metadata": {
    "colab": {
      "name": "MST_progress_curve_analysis.ipynb",
      "provenance": [],
      "authorship_tag": "ABX9TyNxS4tpC+1kaGH2JaU3lo2A",
      "include_colab_link": true
    },
    "kernelspec": {
      "name": "python3",
      "display_name": "Python 3"
    },
    "language_info": {
      "name": "python"
    },
    "widgets": {
      "application/vnd.jupyter.widget-state+json": {
        "17689d87103d46d1b5a5b1c3bb7672c4": {
          "model_module": "@jupyter-widgets/controls",
          "model_name": "HBoxModel",
          "model_module_version": "1.5.0",
          "state": {
            "_dom_classes": [],
            "_model_module": "@jupyter-widgets/controls",
            "_model_module_version": "1.5.0",
            "_model_name": "HBoxModel",
            "_view_count": null,
            "_view_module": "@jupyter-widgets/controls",
            "_view_module_version": "1.5.0",
            "_view_name": "HBoxView",
            "box_style": "",
            "children": [
              "IPY_MODEL_57a99d2a9cc945bbb433862bc315a6b0",
              "IPY_MODEL_8b548c5871514f519231e5c673c2a8c8"
            ],
            "layout": "IPY_MODEL_ca67359fd11141249d993958921a5f4b"
          }
        },
        "57a99d2a9cc945bbb433862bc315a6b0": {
          "model_module": "@jupyter-widgets/controls",
          "model_name": "VBoxModel",
          "model_module_version": "1.5.0",
          "state": {
            "_dom_classes": [],
            "_model_module": "@jupyter-widgets/controls",
            "_model_module_version": "1.5.0",
            "_model_name": "VBoxModel",
            "_view_count": null,
            "_view_module": "@jupyter-widgets/controls",
            "_view_module_version": "1.5.0",
            "_view_name": "VBoxView",
            "box_style": "",
            "children": [
              "IPY_MODEL_f33eadfb272b4f5193006cd7518e540a",
              "IPY_MODEL_7c6c1ccf5b924f6996b8d09f8576404a"
            ],
            "layout": "IPY_MODEL_8399eda0816b4cb4b4477853e7d5a0bc"
          }
        },
        "8b548c5871514f519231e5c673c2a8c8": {
          "model_module": "@jupyter-widgets/output",
          "model_name": "OutputModel",
          "model_module_version": "1.0.0",
          "state": {
            "_dom_classes": [],
            "_model_module": "@jupyter-widgets/output",
            "_model_module_version": "1.0.0",
            "_model_name": "OutputModel",
            "_view_count": null,
            "_view_module": "@jupyter-widgets/output",
            "_view_module_version": "1.0.0",
            "_view_name": "OutputView",
            "layout": "IPY_MODEL_ecfd4ede74e24232a873eacf54632221",
            "msg_id": "",
            "outputs": [
              {
                "output_type": "display_data",
                "data": {
                  "text/plain": "<Figure size 432x288 with 1 Axes>",
                  "image/png": "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\n"
                },
                "metadata": {
                  "needs_background": "light"
                }
              }
            ]
          }
        },
        "ca67359fd11141249d993958921a5f4b": {
          "model_module": "@jupyter-widgets/base",
          "model_name": "LayoutModel",
          "model_module_version": "1.2.0",
          "state": {
            "_model_module": "@jupyter-widgets/base",
            "_model_module_version": "1.2.0",
            "_model_name": "LayoutModel",
            "_view_count": null,
            "_view_module": "@jupyter-widgets/base",
            "_view_module_version": "1.2.0",
            "_view_name": "LayoutView",
            "align_content": null,
            "align_items": null,
            "align_self": null,
            "border": null,
            "bottom": null,
            "display": null,
            "flex": null,
            "flex_flow": null,
            "grid_area": null,
            "grid_auto_columns": null,
            "grid_auto_flow": null,
            "grid_auto_rows": null,
            "grid_column": null,
            "grid_gap": null,
            "grid_row": null,
            "grid_template_areas": null,
            "grid_template_columns": null,
            "grid_template_rows": null,
            "height": null,
            "justify_content": null,
            "justify_items": null,
            "left": null,
            "margin": null,
            "max_height": null,
            "max_width": null,
            "min_height": null,
            "min_width": null,
            "object_fit": null,
            "object_position": null,
            "order": null,
            "overflow": null,
            "overflow_x": null,
            "overflow_y": null,
            "padding": null,
            "right": null,
            "top": null,
            "visibility": null,
            "width": null
          }
        },
        "f33eadfb272b4f5193006cd7518e540a": {
          "model_module": "@jupyter-widgets/controls",
          "model_name": "IntRangeSliderModel",
          "model_module_version": "1.5.0",
          "state": {
            "_dom_classes": [],
            "_model_module": "@jupyter-widgets/controls",
            "_model_module_version": "1.5.0",
            "_model_name": "IntRangeSliderModel",
            "_view_count": null,
            "_view_module": "@jupyter-widgets/controls",
            "_view_module_version": "1.5.0",
            "_view_name": "IntRangeSliderView",
            "continuous_update": false,
            "description": "Data_range:",
            "description_tooltip": null,
            "disabled": false,
            "layout": "IPY_MODEL_38d5fb6346c444b88efb1d8f9c22ebd6",
            "max": 543,
            "min": 0,
            "orientation": "horizontal",
            "readout": true,
            "readout_format": "d",
            "step": 1,
            "style": "IPY_MODEL_57ff368b8ccd4fd8bc7d850f4fb4654d",
            "value": [
              0,
              456
            ]
          }
        },
        "7c6c1ccf5b924f6996b8d09f8576404a": {
          "model_module": "@jupyter-widgets/controls",
          "model_name": "IntSliderModel",
          "model_module_version": "1.5.0",
          "state": {
            "_dom_classes": [],
            "_model_module": "@jupyter-widgets/controls",
            "_model_module_version": "1.5.0",
            "_model_name": "IntSliderModel",
            "_view_count": null,
            "_view_module": "@jupyter-widgets/controls",
            "_view_module_version": "1.5.0",
            "_view_name": "IntSliderView",
            "continuous_update": true,
            "description": "IR_pos:",
            "description_tooltip": null,
            "disabled": false,
            "layout": "IPY_MODEL_dc4f011eaa444cf2acf560d1cd53fefb",
            "max": 543,
            "min": 0,
            "orientation": "horizontal",
            "readout": true,
            "readout_format": "d",
            "step": 1,
            "style": "IPY_MODEL_0e469d8fd2204890af54e9ca4e5b3606",
            "value": 75
          }
        },
        "8399eda0816b4cb4b4477853e7d5a0bc": {
          "model_module": "@jupyter-widgets/base",
          "model_name": "LayoutModel",
          "model_module_version": "1.2.0",
          "state": {
            "_model_module": "@jupyter-widgets/base",
            "_model_module_version": "1.2.0",
            "_model_name": "LayoutModel",
            "_view_count": null,
            "_view_module": "@jupyter-widgets/base",
            "_view_module_version": "1.2.0",
            "_view_name": "LayoutView",
            "align_content": null,
            "align_items": null,
            "align_self": null,
            "border": null,
            "bottom": null,
            "display": null,
            "flex": null,
            "flex_flow": null,
            "grid_area": null,
            "grid_auto_columns": null,
            "grid_auto_flow": null,
            "grid_auto_rows": null,
            "grid_column": null,
            "grid_gap": null,
            "grid_row": null,
            "grid_template_areas": null,
            "grid_template_columns": null,
            "grid_template_rows": null,
            "height": null,
            "justify_content": null,
            "justify_items": null,
            "left": null,
            "margin": null,
            "max_height": null,
            "max_width": null,
            "min_height": null,
            "min_width": null,
            "object_fit": null,
            "object_position": null,
            "order": null,
            "overflow": null,
            "overflow_x": null,
            "overflow_y": null,
            "padding": null,
            "right": null,
            "top": null,
            "visibility": null,
            "width": null
          }
        },
        "38d5fb6346c444b88efb1d8f9c22ebd6": {
          "model_module": "@jupyter-widgets/base",
          "model_name": "LayoutModel",
          "model_module_version": "1.2.0",
          "state": {
            "_model_module": "@jupyter-widgets/base",
            "_model_module_version": "1.2.0",
            "_model_name": "LayoutModel",
            "_view_count": null,
            "_view_module": "@jupyter-widgets/base",
            "_view_module_version": "1.2.0",
            "_view_name": "LayoutView",
            "align_content": null,
            "align_items": null,
            "align_self": null,
            "border": null,
            "bottom": null,
            "display": null,
            "flex": null,
            "flex_flow": null,
            "grid_area": null,
            "grid_auto_columns": null,
            "grid_auto_flow": null,
            "grid_auto_rows": null,
            "grid_column": null,
            "grid_gap": null,
            "grid_row": null,
            "grid_template_areas": null,
            "grid_template_columns": null,
            "grid_template_rows": null,
            "height": null,
            "justify_content": null,
            "justify_items": null,
            "left": null,
            "margin": null,
            "max_height": null,
            "max_width": null,
            "min_height": null,
            "min_width": null,
            "object_fit": null,
            "object_position": null,
            "order": null,
            "overflow": null,
            "overflow_x": null,
            "overflow_y": null,
            "padding": null,
            "right": null,
            "top": null,
            "visibility": null,
            "width": null
          }
        },
        "57ff368b8ccd4fd8bc7d850f4fb4654d": {
          "model_module": "@jupyter-widgets/controls",
          "model_name": "SliderStyleModel",
          "model_module_version": "1.5.0",
          "state": {
            "_model_module": "@jupyter-widgets/controls",
            "_model_module_version": "1.5.0",
            "_model_name": "SliderStyleModel",
            "_view_count": null,
            "_view_module": "@jupyter-widgets/base",
            "_view_module_version": "1.2.0",
            "_view_name": "StyleView",
            "description_width": "",
            "handle_color": null
          }
        },
        "dc4f011eaa444cf2acf560d1cd53fefb": {
          "model_module": "@jupyter-widgets/base",
          "model_name": "LayoutModel",
          "model_module_version": "1.2.0",
          "state": {
            "_model_module": "@jupyter-widgets/base",
            "_model_module_version": "1.2.0",
            "_model_name": "LayoutModel",
            "_view_count": null,
            "_view_module": "@jupyter-widgets/base",
            "_view_module_version": "1.2.0",
            "_view_name": "LayoutView",
            "align_content": null,
            "align_items": null,
            "align_self": null,
            "border": null,
            "bottom": null,
            "display": null,
            "flex": null,
            "flex_flow": null,
            "grid_area": null,
            "grid_auto_columns": null,
            "grid_auto_flow": null,
            "grid_auto_rows": null,
            "grid_column": null,
            "grid_gap": null,
            "grid_row": null,
            "grid_template_areas": null,
            "grid_template_columns": null,
            "grid_template_rows": null,
            "height": null,
            "justify_content": null,
            "justify_items": null,
            "left": null,
            "margin": null,
            "max_height": null,
            "max_width": null,
            "min_height": null,
            "min_width": null,
            "object_fit": null,
            "object_position": null,
            "order": null,
            "overflow": null,
            "overflow_x": null,
            "overflow_y": null,
            "padding": null,
            "right": null,
            "top": null,
            "visibility": null,
            "width": null
          }
        },
        "0e469d8fd2204890af54e9ca4e5b3606": {
          "model_module": "@jupyter-widgets/controls",
          "model_name": "SliderStyleModel",
          "model_module_version": "1.5.0",
          "state": {
            "_model_module": "@jupyter-widgets/controls",
            "_model_module_version": "1.5.0",
            "_model_name": "SliderStyleModel",
            "_view_count": null,
            "_view_module": "@jupyter-widgets/base",
            "_view_module_version": "1.2.0",
            "_view_name": "StyleView",
            "description_width": "",
            "handle_color": null
          }
        },
        "ecfd4ede74e24232a873eacf54632221": {
          "model_module": "@jupyter-widgets/base",
          "model_name": "LayoutModel",
          "model_module_version": "1.2.0",
          "state": {
            "_model_module": "@jupyter-widgets/base",
            "_model_module_version": "1.2.0",
            "_model_name": "LayoutModel",
            "_view_count": null,
            "_view_module": "@jupyter-widgets/base",
            "_view_module_version": "1.2.0",
            "_view_name": "LayoutView",
            "align_content": null,
            "align_items": null,
            "align_self": null,
            "border": null,
            "bottom": null,
            "display": null,
            "flex": null,
            "flex_flow": null,
            "grid_area": null,
            "grid_auto_columns": null,
            "grid_auto_flow": null,
            "grid_auto_rows": null,
            "grid_column": null,
            "grid_gap": null,
            "grid_row": null,
            "grid_template_areas": null,
            "grid_template_columns": null,
            "grid_template_rows": null,
            "height": null,
            "justify_content": null,
            "justify_items": null,
            "left": null,
            "margin": null,
            "max_height": null,
            "max_width": null,
            "min_height": null,
            "min_width": null,
            "object_fit": null,
            "object_position": null,
            "order": null,
            "overflow": null,
            "overflow_x": null,
            "overflow_y": null,
            "padding": null,
            "right": null,
            "top": null,
            "visibility": null,
            "width": null
          }
        }
      }
    }
  },
  "cells": [
    {
      "cell_type": "markdown",
      "metadata": {
        "id": "view-in-github",
        "colab_type": "text"
      },
      "source": [
        "<a href=\"https://colab.research.google.com/github/Katona-lab/MST-anlysis/blob/main/MST_progress_curve_analysis.ipynb\" target=\"_parent\"><img src=\"https://colab.research.google.com/assets/colab-badge.svg\" alt=\"Open In Colab\"/></a>"
      ]
    },
    {
      "cell_type": "code",
      "source": [
        "#@title STEP 1: Start here by selecting an Excel MST file exported by the Nanotemper software.\n",
        "#@markdown To activate a step press the Play button on the left. Run the steps sequentially, but chose only one alternative if alternative steps are offered.<p>\n",
        "#@markdown Please cite this article: <p>\n",
        "#@markdown Atsarina Larasati Anindya, Maria-Jose Garcia-Bonete, Maja Jensen, Christian V. Recktenwald, Maria Bokarewa and Gergely Katona <i>Bayesian Progress Curve Analysis of MicroScale Thermophoresis Data.</i>\n",
        "#@markdown (2022) <b><i>Digital discovery</i></b>\n",
        "# (c) 2022 Gergely Katona <gergely.katona@gu.se>\n",
        "import io\n",
        "import pandas as pd\n",
        "from google.colab import files\n",
        "import numpy as np\n",
        "import pymc3 as pm\n",
        "import pylab as plt\n",
        "import theano.tensor as T\n",
        "from pymc3.math import switch\n",
        "\n",
        "#Experimental data description \n",
        "uploaded = files.upload()\n",
        "\n",
        "df=pd.read_excel(io.BytesIO(uploaded[list(uploaded.keys())[0]]))\n",
        "\n",
        "ligpos=df.loc[df.iloc[:,0] == 'Ligand Concentration:'].index[0]\n",
        "firsttimepos=df.loc[df.iloc[:,0] == 'Time [s]'].index[0]\n",
        "targind=df.loc[df.iloc[:,0] == 'TargetConcentration:'].index[0]\n",
        "FluoConc=df.iloc[targind,1]\n",
        "\n",
        "cideal=df.iloc[ligpos,1::3]\n",
        "onedtime=df.iloc[firsttimepos+1:,0].reset_index(drop=True)\n",
        "firstIRtimepos=onedtime.loc[onedtime==0].index[0]\n",
        "fluorescence=df.iloc[firsttimepos+1:,1::3].reset_index(drop=True)\n",
        "fluorescence=fluorescence.T.reset_index(drop=True).T\n",
        "Capillary=len(cideal)\n",
        "start_t=onedtime.iloc[0]\n",
        "end_t=onedtime.iloc[-1]\n",
        "print (\"The data starts at position %i, which corresponds to %f s.\" % (0,start_t))\n",
        "print (\"The data ends at position %i, which corresponds to %f s.\" % (len(onedtime),end_t))\n",
        "print (\"The IR laser is supposed to be ON from position %i, which corresponds to 0 s.\"% (firstIRtimepos))\n",
        "print (\"The target concentration is %E .\"% FluoConc)\n",
        "if FluoConc < 1:\n",
        "  print (\"I guess you are using units of M?\")\n",
        "if FluoConc > 1:\n",
        "  print (\"I guess you are using units of nM?\")\n",
        "print (\"%i capillaries were used.\" % Capillary)\n",
        "print (\"The ligand concentrations are %s . \"% list(cideal))\n",
        "print (\"Units hopefully are in nM (due to the numerical limits of KD prior) and the KD will be expressed in the same unit. If these concentrations are invalid, please edit them in the input excel file.\")"
      ],
      "metadata": {
        "colab": {
          "resources": {
            "http://localhost:8080/nbextensions/google.colab/files.js": {
              "data": "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",
              "ok": true,
              "headers": [
                [
                  "content-type",
                  "application/javascript"
                ]
              ],
              "status": 200,
              "status_text": "OK"
            }
          },
          "base_uri": "https://localhost:8080/",
          "height": 232
        },
        "id": "ZCsUQyVH106b",
        "outputId": "7f2fad49-c978-4c8e-8158-83a5af44437e",
        "cellView": "form"
      },
      "execution_count": 1,
      "outputs": [
        {
          "output_type": "display_data",
          "data": {
            "text/plain": [
              "<IPython.core.display.HTML object>"
            ],
            "text/html": [
              "\n",
              "     <input type=\"file\" id=\"files-640cd84a-5e66-4297-982b-d2b5070a8bc4\" name=\"files[]\" multiple disabled\n",
              "        style=\"border:none\" />\n",
              "     <output id=\"result-640cd84a-5e66-4297-982b-d2b5070a8bc4\">\n",
              "      Upload widget is only available when the cell has been executed in the\n",
              "      current browser session. Please rerun this cell to enable.\n",
              "      </output>\n",
              "      <script src=\"/nbextensions/google.colab/files.js\"></script> "
            ]
          },
          "metadata": {}
        },
        {
          "output_type": "stream",
          "name": "stdout",
          "text": [
            "Saving MSTTraces_Sgo2_run1.xlsx to MSTTraces_Sgo2_run1.xlsx\n",
            "The data starts at position 0, which corresponds to -5.514154 s.\n",
            "The data ends at position 543, which corresponds to 34.947815 s.\n",
            "The IR laser is supposed to be ON from position 73, which corresponds to 0 s.\n",
            "The target concentration is 2.000000E+01 .\n",
            "I guess you are using units of nM?\n",
            "16 capillaries were used.\n",
            "The ligand concentrations are [500000, 250000, 125000, 62500, 31250, 15625, 7812.5, 3906.25, 1953.125, 976.5625, 488.2813, 244.1406, 122.0703, 61.0352, 30.5176, 15.2588] . \n",
            "Units hopefully are in nM (due to the numerical limits of KD prior) and the KD will be expressed in the same unit. If these concentrations are invalid, please edit them in the input excel file.\n"
          ]
        }
      ]
    },
    {
      "cell_type": "code",
      "source": [
        "#@title STEP 2: Displaying and verifying the data. Adjusting data range and laser start. { run: \"auto\" }\n",
        "import ipywidgets as widgets\n",
        "from IPython.display import display\n",
        "#@markdown Step 2.1: Inspect the progress curve. Is this the data you want to model? The program tries to guess a suitable end point automatically, by choosing the minimum of Fnorm. This initial guess will vary from capillary to capillary, but once you start modelling the last displayed end data point will be used for for all capillaries. Please feel free to override data range according to your wishes, keep in mind that linear kinetic processes can increase Fnorm after the exponential processes finished and the model has a chance to deal with them. In that case, feel free to extend the data range beyond the time Fnorm reaches the absolute minimum.<p>\n",
        "#@markdown Step 2.2: Zoom in with the sliders to the laser start point and adjust to the point where the Fnorm starts to drop rapidly. Experience shows that there is a few ms delay between time 0 of the instrument and the first sign of response in Fnorm. An empirical delay is already automatically applied to the laser start.<p>\n",
        "#@markdown Step 2.3: Reset the end slider to the end of the IR irradiation period or any point earlier. The model does not take into account the recovery phase after the IR laser is swiched off.\n",
        "Cap_display = \"1\" #@param [\"1\", \"2\", \"3\", \"4\", \"5\", \"6\", \"7\", \"8\", \"9\", \"10\", \"11\", \"12\", \"13\", \"14\", \"15\", \"16\"]\n",
        "\n",
        "Data_range=widgets.IntRangeSlider(\n",
        "    value=[0, fluorescence[int(Capillary)-1].astype(float).idxmin()],\n",
        "    min=0,\n",
        "    max=len(onedtime),\n",
        "    step=1,\n",
        "    description='Data_range:',\n",
        "    disabled=False,\n",
        "    continuous_update=False,\n",
        "    orientation='horizontal',\n",
        "    readout=True,\n",
        "    readout_format='d',\n",
        ")\n",
        "\n",
        "\n",
        "IR_pos=widgets.IntSlider(\n",
        "    value=firstIRtimepos+2,\n",
        "    min=0,\n",
        "    max=len(onedtime),\n",
        "    step=1,\n",
        "    description='IR_pos:',\n",
        "    disabled=False\n",
        ")\n",
        "\n",
        "def f(Data_range, IR_pos):\n",
        "    Start_pos,End_pos=Data_range\n",
        "    fig, ax = plt.subplots()\n",
        "    ax.plot(onedtime[Start_pos:End_pos],fluorescence[int(Cap_display)-1].astype(float).iloc[Start_pos:End_pos], color='gray')\n",
        "    ax.annotate('IR laser', \n",
        "            xy=(onedtime[IR_pos], 1), \n",
        "            xytext=(onedtime[IR_pos], 0.95), \n",
        "            arrowprops = dict(facecolor='red', shrink=0.05)\n",
        "    )\n",
        "    plt.xlabel (\"Time (s)\")\n",
        "    plt.ylabel (r\"$F_{norm}$\")\n",
        "out = widgets.interactive_output(f, {'Data_range': Data_range, 'IR_pos': IR_pos})\n",
        "\n",
        "widgets.HBox([widgets.VBox([Data_range, IR_pos]), out])\n",
        "\n"
      ],
      "metadata": {
        "id": "ZlemQ5w9m5KJ",
        "outputId": "f6ef9ec3-46ce-4071-9bba-ebc4d6a01f65",
        "colab": {
          "base_uri": "https://localhost:8080/",
          "height": 279,
          "referenced_widgets": [
            "17689d87103d46d1b5a5b1c3bb7672c4",
            "57a99d2a9cc945bbb433862bc315a6b0",
            "8b548c5871514f519231e5c673c2a8c8",
            "ca67359fd11141249d993958921a5f4b",
            "f33eadfb272b4f5193006cd7518e540a",
            "7c6c1ccf5b924f6996b8d09f8576404a",
            "8399eda0816b4cb4b4477853e7d5a0bc",
            "38d5fb6346c444b88efb1d8f9c22ebd6",
            "57ff368b8ccd4fd8bc7d850f4fb4654d",
            "dc4f011eaa444cf2acf560d1cd53fefb",
            "0e469d8fd2204890af54e9ca4e5b3606",
            "ecfd4ede74e24232a873eacf54632221"
          ]
        },
        "cellView": "form"
      },
      "execution_count": 42,
      "outputs": [
        {
          "output_type": "display_data",
          "data": {
            "text/plain": [
              "HBox(children=(VBox(children=(IntRangeSlider(value=(0, 456), continuous_update=False, description='Data_range:…"
            ],
            "application/vnd.jupyter.widget-view+json": {
              "version_major": 2,
              "version_minor": 0,
              "model_id": "17689d87103d46d1b5a5b1c3bb7672c4"
            }
          },
          "metadata": {}
        }
      ]
    },
    {
      "cell_type": "code",
      "source": [
        "#@title STEP 3.1 (Alternative 1): Perform the MCMC sampling (linear phase starts before the IR irradiation)\n",
        "#@markdown Use scenario: The fluroescence signal (Fnorm) is not stable at 1 before IR irradiation. Possible reasons: photodamage, unstable protein, not fully equilibrated target:ligand interaction.\n",
        "\n",
        "#@markdown Choose the concentration units to provide appropriate prior distribution for K_D.\n",
        "\n",
        "K_D_prior=\"informative uniform prior for nM units\" #@param [\"informative uniform prior for nM units\", \"informative uniform prior for M units\", \"flat exponential prior for any unit\"]\n",
        "\n",
        "#@markdown Enter the number of tuning and sampling steps for the Markov Chain Monte Carlo algorithm. Decrease these only if you know what you are doing.\n",
        "Tuning = 1000 #@param {type:\"number\"}\n",
        "Samples = 2000 #@param {type:\"number\"}\n",
        "\n",
        "IR=IR_pos.value\n",
        "start,end=Data_range.value\n",
        "cap=int(Capillary)\n",
        "time=np.array([onedtime[:,]]*cap,dtype=float).transpose()\n",
        "with pm.Model() as model:\n",
        "    if K_D_prior==\"informative uniform prior for nM units\":\n",
        "        K_D = pm.Uniform('K_D', 1, 1e6)\n",
        "    if K_D_prior==\"informative uniform prior for M units\":\n",
        "        K_D = pm.Uniform('K_D', 1e-9, 1e-3)\n",
        "    if K_D_prior==\"flat exponential prior for any unit\":\n",
        "        K_D = pm.Exponential('K_D', 1e-3)\n",
        "    BoundedNormal = pm.Bound(pm.Normal, lower=0, upper=1e8)\n",
        "    c_fl = BoundedNormal('c_fl',mu=FluoConc,sd=FluoConc/10.0)\n",
        "\n",
        "    U=pm.Beta('U',alpha=1,beta=1)\n",
        "    B=pm.Beta('B',alpha=1,beta=1)\n",
        "    A_total=pm.Deterministic('A_total', U + (B-U)*((c_fl + cideal.astype(float) + K_D - pm.math.sqrt(pm.math.sqr(c_fl + cideal.astype(float) + K_D) - 4.0*c_fl*cideal.astype(float)))/(2*c_fl)))\n",
        "    \n",
        "    L=pm.Uniform('L',-1,1, shape=cap)\n",
        "    I=pm.Deterministic('I',1+L*start_t-A_total)\n",
        "    R=pm.Beta('R',alpha=2,beta=1, shape=cap)\n",
        "    A_1=pm.Deterministic('A_1',A_total*R)\n",
        "    A_2=pm.Deterministic('A_2',A_total*(1-R))\n",
        "    rate1=pm.Lognormal('rate1',0,1, shape=cap)\n",
        "    rate2=pm.Lognormal('rate2',0,1, shape=cap)\n",
        "\n",
        "    linearphase=L*(time-start_t)\n",
        "    E_1=A_1*pm.math.exp(-1.0*rate1*time)\n",
        "    E_2=A_2*pm.math.exp(-1.0*rate2*time)\n",
        "\n",
        "    epsilon = pm.Lognormal('epsilon', 0, 1)\n",
        "    laseron=np.tile(np.arange(0, len(onedtime)), (cap,1)).T\n",
        "\n",
        "    pr = switch(IR >= laseron, 1.0+linearphase, linearphase+I+E_1+E_2)\n",
        "\n",
        "\n",
        "    P = pm.Normal('P', mu=pr[start:end], sd=epsilon, observed=fluorescence.astype(float).iloc[start:end])\n",
        "\n",
        "\n",
        "with model:\n",
        "    trace = pm.sampling.sample(Samples, tune=Tuning,\n",
        "                      init='ADVI'\n",
        "                     )\n",
        "    \n",
        "with model:\n",
        "    ppc = pm.sample_posterior_predictive(trace, samples=1000 ,model=model)"
      ],
      "metadata": {
        "id": "smyOSMXv5QpD",
        "outputId": "742622f9-d796-4279-b4f8-0b02f754d9cd",
        "colab": {
          "base_uri": "https://localhost:8080/",
          "height": 309
        },
        "cellView": "form"
      },
      "execution_count": 43,
      "outputs": [
        {
          "output_type": "stream",
          "name": "stderr",
          "text": [
            "/usr/local/lib/python3.7/dist-packages/ipykernel_launcher.py:53: FutureWarning: In v4.0, pm.sample will return an `arviz.InferenceData` object instead of a `MultiTrace` by default. You can pass return_inferencedata=True or return_inferencedata=False to be safe and silence this warning.\n",
            "Auto-assigning NUTS sampler...\n",
            "Initializing NUTS using advi...\n"
          ]
        },
        {
          "output_type": "display_data",
          "data": {
            "text/plain": [
              "<IPython.core.display.HTML object>"
            ],
            "text/html": [
              "\n",
              "<style>\n",
              "    /* Turns off some styling */\n",
              "    progress {\n",
              "        /* gets rid of default border in Firefox and Opera. */\n",
              "        border: none;\n",
              "        /* Needs to be in here for Safari polyfill so background images work as expected. */\n",
              "        background-size: auto;\n",
              "    }\n",
              "    .progress-bar-interrupted, .progress-bar-interrupted::-webkit-progress-bar {\n",
              "        background: #F44336;\n",
              "    }\n",
              "</style>\n"
            ]
          },
          "metadata": {}
        },
        {
          "output_type": "display_data",
          "data": {
            "text/plain": [
              "<IPython.core.display.HTML object>"
            ],
            "text/html": [
              "\n",
              "    <div>\n",
              "      <progress value='68251' class='' max='200000' style='width:300px; height:20px; vertical-align: middle;'></progress>\n",
              "      34.13% [68251/200000 01:14<02:24 Average Loss = -33,735]\n",
              "    </div>\n",
              "    "
            ]
          },
          "metadata": {}
        },
        {
          "output_type": "stream",
          "name": "stderr",
          "text": [
            "Convergence achieved at 68400\n",
            "Interrupted at 68,399 [34%]: Average Loss = 1.4449e+13\n",
            "Sequential sampling (2 chains in 1 job)\n",
            "NUTS: [epsilon, rate2, rate1, R, L, B, U, c_fl, K_D]\n"
          ]
        },
        {
          "output_type": "display_data",
          "data": {
            "text/plain": [
              "<IPython.core.display.HTML object>"
            ],
            "text/html": [
              "\n",
              "<style>\n",
              "    /* Turns off some styling */\n",
              "    progress {\n",
              "        /* gets rid of default border in Firefox and Opera. */\n",
              "        border: none;\n",
              "        /* Needs to be in here for Safari polyfill so background images work as expected. */\n",
              "        background-size: auto;\n",
              "    }\n",
              "    .progress-bar-interrupted, .progress-bar-interrupted::-webkit-progress-bar {\n",
              "        background: #F44336;\n",
              "    }\n",
              "</style>\n"
            ]
          },
          "metadata": {}
        },
        {
          "output_type": "display_data",
          "data": {
            "text/plain": [
              "<IPython.core.display.HTML object>"
            ],
            "text/html": [
              "\n",
              "    <div>\n",
              "      <progress value='3000' class='' max='3000' style='width:300px; height:20px; vertical-align: middle;'></progress>\n",
              "      100.00% [3000/3000 21:49<00:00 Sampling chain 0, 0 divergences]\n",
              "    </div>\n",
              "    "
            ]
          },
          "metadata": {}
        },
        {
          "output_type": "display_data",
          "data": {
            "text/plain": [
              "<IPython.core.display.HTML object>"
            ],
            "text/html": [
              "\n",
              "<style>\n",
              "    /* Turns off some styling */\n",
              "    progress {\n",
              "        /* gets rid of default border in Firefox and Opera. */\n",
              "        border: none;\n",
              "        /* Needs to be in here for Safari polyfill so background images work as expected. */\n",
              "        background-size: auto;\n",
              "    }\n",
              "    .progress-bar-interrupted, .progress-bar-interrupted::-webkit-progress-bar {\n",
              "        background: #F44336;\n",
              "    }\n",
              "</style>\n"
            ]
          },
          "metadata": {}
        },
        {
          "output_type": "display_data",
          "data": {
            "text/plain": [
              "<IPython.core.display.HTML object>"
            ],
            "text/html": [
              "\n",
              "    <div>\n",
              "      <progress value='3000' class='' max='3000' style='width:300px; height:20px; vertical-align: middle;'></progress>\n",
              "      100.00% [3000/3000 24:08<00:00 Sampling chain 1, 0 divergences]\n",
              "    </div>\n",
              "    "
            ]
          },
          "metadata": {}
        },
        {
          "output_type": "stream",
          "name": "stderr",
          "text": [
            "Sampling 2 chains for 1_000 tune and 2_000 draw iterations (2_000 + 4_000 draws total) took 2758 seconds.\n",
            "The number of effective samples is smaller than 25% for some parameters.\n",
            "/usr/local/lib/python3.7/dist-packages/pymc3/sampling.py:1690: UserWarning: samples parameter is smaller than nchains times ndraws, some draws and/or chains may not be represented in the returned posterior predictive sample\n",
            "  \"samples parameter is smaller than nchains times ndraws, some draws \"\n"
          ]
        },
        {
          "output_type": "display_data",
          "data": {
            "text/plain": [
              "<IPython.core.display.HTML object>"
            ],
            "text/html": [
              "\n",
              "<style>\n",
              "    /* Turns off some styling */\n",
              "    progress {\n",
              "        /* gets rid of default border in Firefox and Opera. */\n",
              "        border: none;\n",
              "        /* Needs to be in here for Safari polyfill so background images work as expected. */\n",
              "        background-size: auto;\n",
              "    }\n",
              "    .progress-bar-interrupted, .progress-bar-interrupted::-webkit-progress-bar {\n",
              "        background: #F44336;\n",
              "    }\n",
              "</style>\n"
            ]
          },
          "metadata": {}
        },
        {
          "output_type": "display_data",
          "data": {
            "text/plain": [
              "<IPython.core.display.HTML object>"
            ],
            "text/html": [
              "\n",
              "    <div>\n",
              "      <progress value='1000' class='' max='1000' style='width:300px; height:20px; vertical-align: middle;'></progress>\n",
              "      100.00% [1000/1000 00:04<00:00]\n",
              "    </div>\n",
              "    "
            ]
          },
          "metadata": {}
        }
      ]
    },
    {
      "cell_type": "code",
      "source": [
        "#@title STEP 3.2 (Alternative 2): Perform the MCMC sampling (linear phase starts at time 0)\n",
        "#@markdown Use scenario: Fnorm is stable at 1 before IR irradiation, but after irradiation there is a trendlike increase or decrease in at least some of the progress curves. Possible causes: temperature induced denaturation of proteins, direct IR absorption in protein results in an electrodynamic interaction between the target and the ligand.\n",
        "\n",
        "#@markdown Choose the concentration units to provide appropriate prior distribution for K_D.\n",
        "\n",
        "K_D_prior=\"informative uniform prior for nM units\" #@param [\"informative uniform prior for nM units\", \"informative uniform prior for M units\", \"flat exponential prior for any unit\"]\n",
        "\n",
        "\n",
        "#@markdown Enter the number of tuning and sampling steps for the Markov Chain Monte Carlo algorithm. Decrease these only if you know what you are doing.\n",
        "Tuning = 1000 #@param {type:\"number\"}\n",
        "Samples = 2000 #@param {type:\"number\"}\n",
        "\n",
        "IR=IR_pos.value\n",
        "start,end=Data_range.value\n",
        "cap=int(Capillary)\n",
        "time=np.array([onedtime[:,]]*cap,dtype=float).transpose()\n",
        "with pm.Model() as model:\n",
        "    if K_D_prior==\"informative uniform prior for nM units\":\n",
        "        K_D = pm.Uniform('K_D', 1, 1e6)\n",
        "    if K_D_prior==\"informative uniform prior for M units\":\n",
        "        K_D = pm.Uniform('K_D', 1e-9, 1e-3)\n",
        "    if K_D_prior==\"flat exponential prior for any unit\":\n",
        "        K_D = pm.Exponential('K_D', 1e-3)\n",
        "    BoundedNormal = pm.Bound(pm.Normal, lower=0, upper=1e8)\n",
        "    c_fl = BoundedNormal('c_fl',mu=FluoConc,sd=FluoConc/10.0)\n",
        "\n",
        "    U=pm.Beta('U',alpha=1,beta=1)\n",
        "    B=pm.Beta('B',alpha=1,beta=1)\n",
        "    A_total=pm.Deterministic('A_total', U + (B-U)*((c_fl + cideal.astype(float) + K_D - pm.math.sqrt(pm.math.sqr(c_fl + cideal.astype(float) + K_D) - 4.0*c_fl*cideal.astype(float)))/(2*c_fl)))\n",
        "    \n",
        "    L=pm.Uniform('L',-1,1, shape=cap)\n",
        "    I=pm.Deterministic('I',1-A_total)\n",
        "    R=pm.Beta('R',alpha=2,beta=1, shape=cap)\n",
        "    A_1=pm.Deterministic('A_1',A_total*R)\n",
        "    A_2=pm.Deterministic('A_2',A_total*(1-R))\n",
        "    rate1=pm.Lognormal('rate1',0,1, shape=cap)\n",
        "    rate2=pm.Lognormal('rate2',0,1, shape=cap)\n",
        "\n",
        "    linearphase=L*(time)\n",
        "    E_1=A_1*pm.math.exp(-1.0*rate1*time)\n",
        "    E_2=A_2*pm.math.exp(-1.0*rate2*time)\n",
        "\n",
        "    epsilon = pm.Lognormal('epsilon', 0, 1)\n",
        "    laseron=np.tile(np.arange(0, len(onedtime)), (cap,1)).T\n",
        "\n",
        "    pr = switch(IR >= laseron, 1.0, linearphase+I+E_1+E_2)\n",
        "\n",
        "\n",
        "    P = pm.Normal('P', mu=pr[start:end], sd=epsilon, observed=fluorescence.astype(float).iloc[start:end])\n",
        "  \n",
        "with model:\n",
        "    trace = pm.sampling.sample(Samples, tune=Tuning,\n",
        "                      init='ADVI'\n",
        "                     )\n",
        "    \n",
        "with model:\n",
        "    ppc = pm.sample_posterior_predictive(trace, samples=1000 ,model=model)"
      ],
      "metadata": {
        "id": "OgMcYdCRcc_R",
        "cellView": "form"
      },
      "execution_count": null,
      "outputs": []
    },
    {
      "cell_type": "code",
      "source": [
        "#@title STEP 4: Statistics of global variables\n",
        "#@markdown If you are finished with Step 1-3, the later steps do not have to follow in strict order. <p>\n",
        "#@markdown K_D and c_fl units are traditionally expressed in nM in the Nanotemper software, the amplitudes and sigma is expressed as Fnorm.  \n",
        "pm.stats.summary(trace,var_names=['K_D','B','U', 'epsilon','c_fl'])\n"
      ],
      "metadata": {
        "colab": {
          "base_uri": "https://localhost:8080/",
          "height": 278
        },
        "id": "59F3JTPXdNR4",
        "outputId": "0d419840-9af1-43cd-994a-e9ab83cfdef8",
        "cellView": "form"
      },
      "execution_count": 44,
      "outputs": [
        {
          "output_type": "stream",
          "name": "stderr",
          "text": [
            "Got error No model on context stack. trying to find log_likelihood in translation.\n",
            "/usr/local/lib/python3.7/dist-packages/arviz/data/io_pymc3_3x.py:102: FutureWarning: Using `from_pymc3` without the model will be deprecated in a future release. Not using the model will return less accurate and less useful results. Make sure you use the model argument or call from_pymc3 within a model context.\n",
            "  FutureWarning,\n"
          ]
        },
        {
          "output_type": "execute_result",
          "data": {
            "text/plain": [
              "             mean       sd    hdi_3%   hdi_97%  mcse_mean  mcse_sd  ess_bulk  \\\n",
              "K_D      2095.105  228.582  1668.135  2511.298      6.467    4.574    1249.0   \n",
              "B           0.279    0.000     0.278     0.280      0.000    0.000    1721.0   \n",
              "U           0.252    0.000     0.251     0.253      0.000    0.000     633.0   \n",
              "epsilon     0.001    0.000     0.001     0.001      0.000    0.000    4913.0   \n",
              "c_fl       19.960    1.989    16.111    23.584      0.024    0.017    6630.0   \n",
              "\n",
              "         ess_tail  r_hat  \n",
              "K_D        1808.0    1.0  \n",
              "B          2268.0    1.0  \n",
              "U           845.0    1.0  \n",
              "epsilon    2523.0    1.0  \n",
              "c_fl       2375.0    1.0  "
            ],
            "text/html": [
              "\n",
              "  <div id=\"df-c33055f7-70db-4ab4-a108-045c9f7d9290\">\n",
              "    <div class=\"colab-df-container\">\n",
              "      <div>\n",
              "<style scoped>\n",
              "    .dataframe tbody tr th:only-of-type {\n",
              "        vertical-align: middle;\n",
              "    }\n",
              "\n",
              "    .dataframe tbody tr th {\n",
              "        vertical-align: top;\n",
              "    }\n",
              "\n",
              "    .dataframe thead th {\n",
              "        text-align: right;\n",
              "    }\n",
              "</style>\n",
              "<table border=\"1\" class=\"dataframe\">\n",
              "  <thead>\n",
              "    <tr style=\"text-align: right;\">\n",
              "      <th></th>\n",
              "      <th>mean</th>\n",
              "      <th>sd</th>\n",
              "      <th>hdi_3%</th>\n",
              "      <th>hdi_97%</th>\n",
              "      <th>mcse_mean</th>\n",
              "      <th>mcse_sd</th>\n",
              "      <th>ess_bulk</th>\n",
              "      <th>ess_tail</th>\n",
              "      <th>r_hat</th>\n",
              "    </tr>\n",
              "  </thead>\n",
              "  <tbody>\n",
              "    <tr>\n",
              "      <th>K_D</th>\n",
              "      <td>2095.105</td>\n",
              "      <td>228.582</td>\n",
              "      <td>1668.135</td>\n",
              "      <td>2511.298</td>\n",
              "      <td>6.467</td>\n",
              "      <td>4.574</td>\n",
              "      <td>1249.0</td>\n",
              "      <td>1808.0</td>\n",
              "      <td>1.0</td>\n",
              "    </tr>\n",
              "    <tr>\n",
              "      <th>B</th>\n",
              "      <td>0.279</td>\n",
              "      <td>0.000</td>\n",
              "      <td>0.278</td>\n",
              "      <td>0.280</td>\n",
              "      <td>0.000</td>\n",
              "      <td>0.000</td>\n",
              "      <td>1721.0</td>\n",
              "      <td>2268.0</td>\n",
              "      <td>1.0</td>\n",
              "    </tr>\n",
              "    <tr>\n",
              "      <th>U</th>\n",
              "      <td>0.252</td>\n",
              "      <td>0.000</td>\n",
              "      <td>0.251</td>\n",
              "      <td>0.253</td>\n",
              "      <td>0.000</td>\n",
              "      <td>0.000</td>\n",
              "      <td>633.0</td>\n",
              "      <td>845.0</td>\n",
              "      <td>1.0</td>\n",
              "    </tr>\n",
              "    <tr>\n",
              "      <th>epsilon</th>\n",
              "      <td>0.001</td>\n",
              "      <td>0.000</td>\n",
              "      <td>0.001</td>\n",
              "      <td>0.001</td>\n",
              "      <td>0.000</td>\n",
              "      <td>0.000</td>\n",
              "      <td>4913.0</td>\n",
              "      <td>2523.0</td>\n",
              "      <td>1.0</td>\n",
              "    </tr>\n",
              "    <tr>\n",
              "      <th>c_fl</th>\n",
              "      <td>19.960</td>\n",
              "      <td>1.989</td>\n",
              "      <td>16.111</td>\n",
              "      <td>23.584</td>\n",
              "      <td>0.024</td>\n",
              "      <td>0.017</td>\n",
              "      <td>6630.0</td>\n",
              "      <td>2375.0</td>\n",
              "      <td>1.0</td>\n",
              "    </tr>\n",
              "  </tbody>\n",
              "</table>\n",
              "</div>\n",
              "      <button class=\"colab-df-convert\" onclick=\"convertToInteractive('df-c33055f7-70db-4ab4-a108-045c9f7d9290')\"\n",
              "              title=\"Convert this dataframe to an interactive table.\"\n",
              "              style=\"display:none;\">\n",
              "        \n",
              "  <svg xmlns=\"http://www.w3.org/2000/svg\" height=\"24px\"viewBox=\"0 0 24 24\"\n",
              "       width=\"24px\">\n",
              "    <path d=\"M0 0h24v24H0V0z\" fill=\"none\"/>\n",
              "    <path d=\"M18.56 5.44l.94 2.06.94-2.06 2.06-.94-2.06-.94-.94-2.06-.94 2.06-2.06.94zm-11 1L8.5 8.5l.94-2.06 2.06-.94-2.06-.94L8.5 2.5l-.94 2.06-2.06.94zm10 10l.94 2.06.94-2.06 2.06-.94-2.06-.94-.94-2.06-.94 2.06-2.06.94z\"/><path d=\"M17.41 7.96l-1.37-1.37c-.4-.4-.92-.59-1.43-.59-.52 0-1.04.2-1.43.59L10.3 9.45l-7.72 7.72c-.78.78-.78 2.05 0 2.83L4 21.41c.39.39.9.59 1.41.59.51 0 1.02-.2 1.41-.59l7.78-7.78 2.81-2.81c.8-.78.8-2.07 0-2.86zM5.41 20L4 18.59l7.72-7.72 1.47 1.35L5.41 20z\"/>\n",
              "  </svg>\n",
              "      </button>\n",
              "      \n",
              "  <style>\n",
              "    .colab-df-container {\n",
              "      display:flex;\n",
              "      flex-wrap:wrap;\n",
              "      gap: 12px;\n",
              "    }\n",
              "\n",
              "    .colab-df-convert {\n",
              "      background-color: #E8F0FE;\n",
              "      border: none;\n",
              "      border-radius: 50%;\n",
              "      cursor: pointer;\n",
              "      display: none;\n",
              "      fill: #1967D2;\n",
              "      height: 32px;\n",
              "      padding: 0 0 0 0;\n",
              "      width: 32px;\n",
              "    }\n",
              "\n",
              "    .colab-df-convert:hover {\n",
              "      background-color: #E2EBFA;\n",
              "      box-shadow: 0px 1px 2px rgba(60, 64, 67, 0.3), 0px 1px 3px 1px rgba(60, 64, 67, 0.15);\n",
              "      fill: #174EA6;\n",
              "    }\n",
              "\n",
              "    [theme=dark] .colab-df-convert {\n",
              "      background-color: #3B4455;\n",
              "      fill: #D2E3FC;\n",
              "    }\n",
              "\n",
              "    [theme=dark] .colab-df-convert:hover {\n",
              "      background-color: #434B5C;\n",
              "      box-shadow: 0px 1px 3px 1px rgba(0, 0, 0, 0.15);\n",
              "      filter: drop-shadow(0px 1px 2px rgba(0, 0, 0, 0.3));\n",
              "      fill: #FFFFFF;\n",
              "    }\n",
              "  </style>\n",
              "\n",
              "      <script>\n",
              "        const buttonEl =\n",
              "          document.querySelector('#df-c33055f7-70db-4ab4-a108-045c9f7d9290 button.colab-df-convert');\n",
              "        buttonEl.style.display =\n",
              "          google.colab.kernel.accessAllowed ? 'block' : 'none';\n",
              "\n",
              "        async function convertToInteractive(key) {\n",
              "          const element = document.querySelector('#df-c33055f7-70db-4ab4-a108-045c9f7d9290');\n",
              "          const dataTable =\n",
              "            await google.colab.kernel.invokeFunction('convertToInteractive',\n",
              "                                                     [key], {});\n",
              "          if (!dataTable) return;\n",
              "\n",
              "          const docLinkHtml = 'Like what you see? Visit the ' +\n",
              "            '<a target=\"_blank\" href=https://colab.research.google.com/notebooks/data_table.ipynb>data table notebook</a>'\n",
              "            + ' to learn more about interactive tables.';\n",
              "          element.innerHTML = '';\n",
              "          dataTable['output_type'] = 'display_data';\n",
              "          await google.colab.output.renderOutput(dataTable, element);\n",
              "          const docLink = document.createElement('div');\n",
              "          docLink.innerHTML = docLinkHtml;\n",
              "          element.appendChild(docLink);\n",
              "        }\n",
              "      </script>\n",
              "    </div>\n",
              "  </div>\n",
              "  "
            ]
          },
          "metadata": {},
          "execution_count": 44
        }
      ]
    },
    {
      "cell_type": "code",
      "source": [
        "#@title STEP 5: Posterior predictive check { run: \"auto\" }\n",
        "#@markdown The shaded area represent the High Density Interval (95%) of the posterior predictions.\n",
        "#@markdown <p> Choose the capillary to analyse:\n",
        "Cap_display = \"1\" #@param [\"1\", \"2\", \"3\", \"4\", \"5\", \"6\", \"7\", \"8\", \"9\", \"10\", \"11\", \"12\", \"13\", \"14\", \"15\", \"16\"]\n",
        "\n",
        "plt.plot(onedtime[start:end],fluorescence[int(Cap_display)-1].astype(float).iloc[start:end], color='gray')\n",
        "plt.plot(onedtime[start:end],np.mean(ppc['P'][:,:,int(Cap_display)-1], axis=0))\n",
        "plt.fill_between(np.array(onedtime[start:end],dtype=float), np.array(pm.stats.hdi(ppc['P'][:,:,int(Cap_display)-1])[:,0],dtype=float) ,np.array(pm.stats.hdi(ppc['P'][:,:,int(Cap_display)-1])[:,1],dtype=float) , alpha=0.5)\n"
      ],
      "metadata": {
        "colab": {
          "base_uri": "https://localhost:8080/",
          "height": 337
        },
        "id": "1MjwpdO-NhSi",
        "outputId": "0c826266-29e8-438e-f228-e1bc0c326533",
        "cellView": "form"
      },
      "execution_count": 45,
      "outputs": [
        {
          "output_type": "stream",
          "name": "stderr",
          "text": [
            "/usr/local/lib/python3.7/dist-packages/ipykernel_launcher.py:8: FutureWarning: hdi currently interprets 2d data as (draw, shape) but this will change in a future release to (chain, draw) for coherence with other functions\n",
            "  \n"
          ]
        },
        {
          "output_type": "execute_result",
          "data": {
            "text/plain": [
              "<matplotlib.collections.PolyCollection at 0x7fa9d8bc9310>"
            ]
          },
          "metadata": {},
          "execution_count": 45
        },
        {
          "output_type": "display_data",
          "data": {
            "text/plain": [
              "<Figure size 432x288 with 1 Axes>"
            ],
            "image/png": "[encoded data removed]"
          },
          "metadata": {
            "needs_background": "light"
          }
        }
      ]
    },
    {
      "cell_type": "code",
      "source": [
        "#@title STEP 6: Concentration dependence of the kinetic parameters. { run: \"auto\" }\n",
        "#@markdown The error bars represent the High Density Interval (95%) of the posterior distribution.<p>\n",
        "#@markdown Choose the variable name:\n",
        "parameter = \"A_total\" #@param [\"A_total\",\"I\", \"rate1\", \"rate2\", \"A_1\", \"A_2\", \"L\"]\n",
        "fig=plt.subplot(111)\n",
        "plt.errorbar(cideal,np.median(trace[parameter],axis=0),yerr=np.abs(pm.hdi(trace[parameter]).T-np.median(trace[parameter],axis=0)))\n",
        "fig.set_xscale('log')"
      ],
      "metadata": {
        "colab": {
          "base_uri": "https://localhost:8080/",
          "height": 324
        },
        "id": "jy6L8---Yu3g",
        "outputId": "14a4c374-9dd8-45fa-ec5f-c8f619427625",
        "cellView": "form"
      },
      "execution_count": 46,
      "outputs": [
        {
          "output_type": "stream",
          "name": "stderr",
          "text": [
            "/usr/local/lib/python3.7/dist-packages/ipykernel_launcher.py:6: FutureWarning: hdi currently interprets 2d data as (draw, shape) but this will change in a future release to (chain, draw) for coherence with other functions\n",
            "  \n"
          ]
        },
        {
          "output_type": "display_data",
          "data": {
            "text/plain": [
              "<Figure size 432x288 with 1 Axes>"
            ],
            "image/png": "[encoded data removed]"
          },
          "metadata": {
            "needs_background": "light"
          }
        }
      ]
    },
    {
      "cell_type": "code",
      "source": [
        "#@title STEP 7: Posterior distribution of model parameters (left), parameter trace (right). { run: \"auto\" }\n",
        "#@markdown Ideally the parameter traces fluctuate around a stable value.<p> \n",
        "#@markdown Choose the parameter name:\n",
        "parameter = \"K_D\" #@param [\"K_D\",\"B\",\"U\",\"epsilon\",\"A_total\",\"I\", \"rate1\", \"rate2\", \"A_1\", \"A_2\", \"L\"]\n",
        "with model:\n",
        "  ax=pm.plot_trace(trace[0:],[parameter],combined=True)"
      ],
      "metadata": {
        "colab": {
          "base_uri": "https://localhost:8080/",
          "height": 171
        },
        "id": "i7Pl-BazZxcB",
        "outputId": "659f580d-2082-4348-d4b8-0a4c4f362631",
        "cellView": "form"
      },
      "execution_count": 47,
      "outputs": [
        {
          "output_type": "display_data",
          "data": {
            "text/plain": [
              "<Figure size 864x144 with 2 Axes>"
            ],
            "image/png": "[encoded data removed]"
          },
          "metadata": {
            "needs_background": "light"
          }
        }
      ]
    }
  ]
}