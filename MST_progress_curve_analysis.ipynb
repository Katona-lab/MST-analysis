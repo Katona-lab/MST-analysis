{
  "nbformat": 4,
  "nbformat_minor": 0,
  "metadata": {
    "colab": {
      "name": "MST_progress_curve_analysis.ipynb",
      "provenance": [],
      "authorship_tag": "ABX9TyNSxz0exjQbHLQngkVIJif6",
      "include_colab_link": true
    },
    "kernelspec": {
      "name": "python3",
      "display_name": "Python 3"
    },
    "language_info": {
      "name": "python"
    },
    "widgets": {
      "application/vnd.jupyter.widget-state+json": {
        "a045439535844e088f7d2c2e8920ea2d": {
          "model_module": "@jupyter-widgets/controls",
          "model_name": "HBoxModel",
          "model_module_version": "1.5.0",
          "state": {
            "_dom_classes": [],
            "_model_module": "@jupyter-widgets/controls",
            "_model_module_version": "1.5.0",
            "_model_name": "HBoxModel",
            "_view_count": null,
            "_view_module": "@jupyter-widgets/controls",
            "_view_module_version": "1.5.0",
            "_view_name": "HBoxView",
            "box_style": "",
            "children": [
              "IPY_MODEL_efd843f764084d42bccdeaf169fbb478",
              "IPY_MODEL_c8cf3cce21454ee1b2b8478d805a9305"
            ],
            "layout": "IPY_MODEL_da59e930e3174a92b9900850529a07cb"
          }
        },
        "efd843f764084d42bccdeaf169fbb478": {
          "model_module": "@jupyter-widgets/controls",
          "model_name": "VBoxModel",
          "model_module_version": "1.5.0",
          "state": {
            "_dom_classes": [],
            "_model_module": "@jupyter-widgets/controls",
            "_model_module_version": "1.5.0",
            "_model_name": "VBoxModel",
            "_view_count": null,
            "_view_module": "@jupyter-widgets/controls",
            "_view_module_version": "1.5.0",
            "_view_name": "VBoxView",
            "box_style": "",
            "children": [
              "IPY_MODEL_004a3a21623847668e94e6c9df3f3f68",
              "IPY_MODEL_3b50c97233dd4a418555aa1a36f27657"
            ],
            "layout": "IPY_MODEL_ccbcd879d6b14b5996f5e463a5e6020a"
          }
        },
        "c8cf3cce21454ee1b2b8478d805a9305": {
          "model_module": "@jupyter-widgets/output",
          "model_name": "OutputModel",
          "model_module_version": "1.0.0",
          "state": {
            "_dom_classes": [],
            "_model_module": "@jupyter-widgets/output",
            "_model_module_version": "1.0.0",
            "_model_name": "OutputModel",
            "_view_count": null,
            "_view_module": "@jupyter-widgets/output",
            "_view_module_version": "1.0.0",
            "_view_name": "OutputView",
            "layout": "IPY_MODEL_9393123295c1449cae9ef1b19b881422",
            "msg_id": "",
            "outputs": [
              {
                "output_type": "display_data",
                "data": {
                  "text/plain": "<Figure size 432x288 with 1 Axes>",
                  "image/png": "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\n"
                },
                "metadata": {
                  "needs_background": "light"
                }
              }
            ]
          }
        },
        "da59e930e3174a92b9900850529a07cb": {
          "model_module": "@jupyter-widgets/base",
          "model_name": "LayoutModel",
          "model_module_version": "1.2.0",
          "state": {
            "_model_module": "@jupyter-widgets/base",
            "_model_module_version": "1.2.0",
            "_model_name": "LayoutModel",
            "_view_count": null,
            "_view_module": "@jupyter-widgets/base",
            "_view_module_version": "1.2.0",
            "_view_name": "LayoutView",
            "align_content": null,
            "align_items": null,
            "align_self": null,
            "border": null,
            "bottom": null,
            "display": null,
            "flex": null,
            "flex_flow": null,
            "grid_area": null,
            "grid_auto_columns": null,
            "grid_auto_flow": null,
            "grid_auto_rows": null,
            "grid_column": null,
            "grid_gap": null,
            "grid_row": null,
            "grid_template_areas": null,
            "grid_template_columns": null,
            "grid_template_rows": null,
            "height": null,
            "justify_content": null,
            "justify_items": null,
            "left": null,
            "margin": null,
            "max_height": null,
            "max_width": null,
            "min_height": null,
            "min_width": null,
            "object_fit": null,
            "object_position": null,
            "order": null,
            "overflow": null,
            "overflow_x": null,
            "overflow_y": null,
            "padding": null,
            "right": null,
            "top": null,
            "visibility": null,
            "width": null
          }
        },
        "004a3a21623847668e94e6c9df3f3f68": {
          "model_module": "@jupyter-widgets/controls",
          "model_name": "IntRangeSliderModel",
          "model_module_version": "1.5.0",
          "state": {
            "_dom_classes": [],
            "_model_module": "@jupyter-widgets/controls",
            "_model_module_version": "1.5.0",
            "_model_name": "IntRangeSliderModel",
            "_view_count": null,
            "_view_module": "@jupyter-widgets/controls",
            "_view_module_version": "1.5.0",
            "_view_name": "IntRangeSliderView",
            "continuous_update": false,
            "description": "Data_range:",
            "description_tooltip": null,
            "disabled": false,
            "layout": "IPY_MODEL_f2fc1b2ab514447dbacedfb00e37e45b",
            "max": 543,
            "min": 0,
            "orientation": "horizontal",
            "readout": true,
            "readout_format": "d",
            "step": 1,
            "style": "IPY_MODEL_e99e2108cfb44fdcbc32f2ce419f91d1",
            "value": [
              0,
              477
            ]
          }
        },
        "3b50c97233dd4a418555aa1a36f27657": {
          "model_module": "@jupyter-widgets/controls",
          "model_name": "IntSliderModel",
          "model_module_version": "1.5.0",
          "state": {
            "_dom_classes": [],
            "_model_module": "@jupyter-widgets/controls",
            "_model_module_version": "1.5.0",
            "_model_name": "IntSliderModel",
            "_view_count": null,
            "_view_module": "@jupyter-widgets/controls",
            "_view_module_version": "1.5.0",
            "_view_name": "IntSliderView",
            "continuous_update": true,
            "description": "IR_pos:",
            "description_tooltip": null,
            "disabled": false,
            "layout": "IPY_MODEL_cac0c5e1a6a04431ad9f22174cd869d3",
            "max": 543,
            "min": 0,
            "orientation": "horizontal",
            "readout": true,
            "readout_format": "d",
            "step": 1,
            "style": "IPY_MODEL_1686aaaf12a24dd882b2c8e89feb362c",
            "value": 73
          }
        },
        "ccbcd879d6b14b5996f5e463a5e6020a": {
          "model_module": "@jupyter-widgets/base",
          "model_name": "LayoutModel",
          "model_module_version": "1.2.0",
          "state": {
            "_model_module": "@jupyter-widgets/base",
            "_model_module_version": "1.2.0",
            "_model_name": "LayoutModel",
            "_view_count": null,
            "_view_module": "@jupyter-widgets/base",
            "_view_module_version": "1.2.0",
            "_view_name": "LayoutView",
            "align_content": null,
            "align_items": null,
            "align_self": null,
            "border": null,
            "bottom": null,
            "display": null,
            "flex": null,
            "flex_flow": null,
            "grid_area": null,
            "grid_auto_columns": null,
            "grid_auto_flow": null,
            "grid_auto_rows": null,
            "grid_column": null,
            "grid_gap": null,
            "grid_row": null,
            "grid_template_areas": null,
            "grid_template_columns": null,
            "grid_template_rows": null,
            "height": null,
            "justify_content": null,
            "justify_items": null,
            "left": null,
            "margin": null,
            "max_height": null,
            "max_width": null,
            "min_height": null,
            "min_width": null,
            "object_fit": null,
            "object_position": null,
            "order": null,
            "overflow": null,
            "overflow_x": null,
            "overflow_y": null,
            "padding": null,
            "right": null,
            "top": null,
            "visibility": null,
            "width": null
          }
        },
        "f2fc1b2ab514447dbacedfb00e37e45b": {
          "model_module": "@jupyter-widgets/base",
          "model_name": "LayoutModel",
          "model_module_version": "1.2.0",
          "state": {
            "_model_module": "@jupyter-widgets/base",
            "_model_module_version": "1.2.0",
            "_model_name": "LayoutModel",
            "_view_count": null,
            "_view_module": "@jupyter-widgets/base",
            "_view_module_version": "1.2.0",
            "_view_name": "LayoutView",
            "align_content": null,
            "align_items": null,
            "align_self": null,
            "border": null,
            "bottom": null,
            "display": null,
            "flex": null,
            "flex_flow": null,
            "grid_area": null,
            "grid_auto_columns": null,
            "grid_auto_flow": null,
            "grid_auto_rows": null,
            "grid_column": null,
            "grid_gap": null,
            "grid_row": null,
            "grid_template_areas": null,
            "grid_template_columns": null,
            "grid_template_rows": null,
            "height": null,
            "justify_content": null,
            "justify_items": null,
            "left": null,
            "margin": null,
            "max_height": null,
            "max_width": null,
            "min_height": null,
            "min_width": null,
            "object_fit": null,
            "object_position": null,
            "order": null,
            "overflow": null,
            "overflow_x": null,
            "overflow_y": null,
            "padding": null,
            "right": null,
            "top": null,
            "visibility": null,
            "width": null
          }
        },
        "e99e2108cfb44fdcbc32f2ce419f91d1": {
          "model_module": "@jupyter-widgets/controls",
          "model_name": "SliderStyleModel",
          "model_module_version": "1.5.0",
          "state": {
            "_model_module": "@jupyter-widgets/controls",
            "_model_module_version": "1.5.0",
            "_model_name": "SliderStyleModel",
            "_view_count": null,
            "_view_module": "@jupyter-widgets/base",
            "_view_module_version": "1.2.0",
            "_view_name": "StyleView",
            "description_width": "",
            "handle_color": null
          }
        },
        "cac0c5e1a6a04431ad9f22174cd869d3": {
          "model_module": "@jupyter-widgets/base",
          "model_name": "LayoutModel",
          "model_module_version": "1.2.0",
          "state": {
            "_model_module": "@jupyter-widgets/base",
            "_model_module_version": "1.2.0",
            "_model_name": "LayoutModel",
            "_view_count": null,
            "_view_module": "@jupyter-widgets/base",
            "_view_module_version": "1.2.0",
            "_view_name": "LayoutView",
            "align_content": null,
            "align_items": null,
            "align_self": null,
            "border": null,
            "bottom": null,
            "display": null,
            "flex": null,
            "flex_flow": null,
            "grid_area": null,
            "grid_auto_columns": null,
            "grid_auto_flow": null,
            "grid_auto_rows": null,
            "grid_column": null,
            "grid_gap": null,
            "grid_row": null,
            "grid_template_areas": null,
            "grid_template_columns": null,
            "grid_template_rows": null,
            "height": null,
            "justify_content": null,
            "justify_items": null,
            "left": null,
            "margin": null,
            "max_height": null,
            "max_width": null,
            "min_height": null,
            "min_width": null,
            "object_fit": null,
            "object_position": null,
            "order": null,
            "overflow": null,
            "overflow_x": null,
            "overflow_y": null,
            "padding": null,
            "right": null,
            "top": null,
            "visibility": null,
            "width": null
          }
        },
        "1686aaaf12a24dd882b2c8e89feb362c": {
          "model_module": "@jupyter-widgets/controls",
          "model_name": "SliderStyleModel",
          "model_module_version": "1.5.0",
          "state": {
            "_model_module": "@jupyter-widgets/controls",
            "_model_module_version": "1.5.0",
            "_model_name": "SliderStyleModel",
            "_view_count": null,
            "_view_module": "@jupyter-widgets/base",
            "_view_module_version": "1.2.0",
            "_view_name": "StyleView",
            "description_width": "",
            "handle_color": null
          }
        },
        "9393123295c1449cae9ef1b19b881422": {
          "model_module": "@jupyter-widgets/base",
          "model_name": "LayoutModel",
          "model_module_version": "1.2.0",
          "state": {
            "_model_module": "@jupyter-widgets/base",
            "_model_module_version": "1.2.0",
            "_model_name": "LayoutModel",
            "_view_count": null,
            "_view_module": "@jupyter-widgets/base",
            "_view_module_version": "1.2.0",
            "_view_name": "LayoutView",
            "align_content": null,
            "align_items": null,
            "align_self": null,
            "border": null,
            "bottom": null,
            "display": null,
            "flex": null,
            "flex_flow": null,
            "grid_area": null,
            "grid_auto_columns": null,
            "grid_auto_flow": null,
            "grid_auto_rows": null,
            "grid_column": null,
            "grid_gap": null,
            "grid_row": null,
            "grid_template_areas": null,
            "grid_template_columns": null,
            "grid_template_rows": null,
            "height": null,
            "justify_content": null,
            "justify_items": null,
            "left": null,
            "margin": null,
            "max_height": null,
            "max_width": null,
            "min_height": null,
            "min_width": null,
            "object_fit": null,
            "object_position": null,
            "order": null,
            "overflow": null,
            "overflow_x": null,
            "overflow_y": null,
            "padding": null,
            "right": null,
            "top": null,
            "visibility": null,
            "width": null
          }
        }
      }
    }
  },
  "cells": [
    {
      "cell_type": "markdown",
      "metadata": {
        "id": "view-in-github",
        "colab_type": "text"
      },
      "source": [
        "<a href=\"https://colab.research.google.com/github/Katona-lab/MST-anlysis/blob/main/MST_progress_curve_analysis.ipynb\" target=\"_parent\"><img src=\"https://colab.research.google.com/assets/colab-badge.svg\" alt=\"Open In Colab\"/></a>"
      ]
    },
    {
      "cell_type": "code",
      "source": [
        "#@title Start here by selecting Excel MST file exported by the Nanotemper software\n",
        "#@markdown Please cite this article: <br>\n",
        "#@markdown Atsarina Larasati Anindya, Maria-Jose Garcia-Bonete, Maja Jensen, Christian V. Recktenwald, Maria Bokarewa and Gergely Katona <i>Bayesian Progress Curve Analysis of MicroScale Thermophoresis Data.</i>\n",
        "#@markdown (2022) <b><i>Digital discovery</i></b>\n",
        "# (c) 2022 Gergely Katona <gergely.katona@gu.se>\n",
        "import io\n",
        "import pandas as pd\n",
        "from google.colab import files\n",
        "import numpy as np\n",
        "import pymc3 as pm\n",
        "import pylab as plt\n",
        "import theano.tensor as T\n",
        "from pymc3.math import switch\n",
        "\n",
        "#Experimental data description \n",
        "uploaded = files.upload()\n",
        "\n",
        "df=pd.read_excel(io.BytesIO(uploaded[list(uploaded.keys())[0]]))\n",
        "\n",
        "ligpos=df.loc[df.iloc[:,0] == 'Ligand Concentration:'].index[0]\n",
        "firsttimepos=df.loc[df.iloc[:,0] == 'Time [s]'].index[0]\n",
        "targind=df.loc[df.iloc[:,0] == 'TargetConcentration:'].index[0]\n",
        "FluoConc=df.iloc[targind,1]\n",
        "\n",
        "cideal=df.iloc[ligpos,1::3]\n",
        "onedtime=df.iloc[firsttimepos+1:,0].reset_index(drop=True)\n",
        "firstIRtimepos=onedtime.loc[onedtime==0].index[0]\n",
        "fluorescence=df.iloc[firsttimepos+1:,1::3].reset_index(drop=True)\n",
        "fluorescence=fluorescence.T.reset_index(drop=True).T\n",
        "Capillary=len(cideal)\n",
        "start_t=onedtime.iloc[0]\n",
        "end_t=onedtime.iloc[-1]\n",
        "print (\"The data start at position %i, which corresponds to %f s.\" % (0,start_t))\n",
        "print (\"The data ends at position %i, which corresponds to %f s.\" % (len(onedtime),end_t))\n",
        "print (\"The IR laser is on from position %i, which corresponds to 0 s.\"% (firstIRtimepos))\n"
      ],
      "metadata": {
        "colab": {
          "resources": {
            "http://localhost:8080/nbextensions/google.colab/files.js": {
              "data": "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",
              "ok": true,
              "headers": [
                [
                  "content-type",
                  "application/javascript"
                ]
              ],
              "status": 200,
              "status_text": "OK"
            }
          },
          "base_uri": "https://localhost:8080/",
          "height": 126
        },
        "cellView": "form",
        "id": "ZCsUQyVH106b",
        "outputId": "fdc41850-dae4-4239-c0b7-d01bb5dba660"
      },
      "execution_count": null,
      "outputs": [
        {
          "output_type": "display_data",
          "data": {
            "text/plain": [
              "<IPython.core.display.HTML object>"
            ],
            "text/html": [
              "\n",
              "     <input type=\"file\" id=\"files-e5f0e149-546d-47f1-b431-92c0ef06c71f\" name=\"files[]\" multiple disabled\n",
              "        style=\"border:none\" />\n",
              "     <output id=\"result-e5f0e149-546d-47f1-b431-92c0ef06c71f\">\n",
              "      Upload widget is only available when the cell has been executed in the\n",
              "      current browser session. Please rerun this cell to enable.\n",
              "      </output>\n",
              "      <script src=\"/nbextensions/google.colab/files.js\"></script> "
            ]
          },
          "metadata": {}
        },
        {
          "output_type": "stream",
          "name": "stdout",
          "text": [
            "Saving MSTTraces_Sgo2_run1.xlsx to MSTTraces_Sgo2_run1 (5).xlsx\n",
            "The data start at position 0, which corresponds to -5.514154 s.\n",
            "The data ends at position 543, which corresponds to 34.947815 s.\n",
            "The IR laser is on from position 73, which corresponds to 0 s.\n"
          ]
        }
      ]
    },
    {
      "cell_type": "code",
      "source": [
        "#@title Displaying and verifying the data. Adjusting data range and laser start. { run: \"auto\" }\n",
        "import ipywidgets as widgets\n",
        "from IPython.display import display\n",
        "#@markdown Step 1: Inspect the progress curve. Is this the data you want to model? The program tries to guess a suitable end point automatically. This initial guess will vary from capillary to capillary, but once you start modelling the last displayed end data point will be used for for all capillaries. Please feel free to override data range according to your wishes.<p>\n",
        "#@markdown Step 2: Zoom in with the sliders to the laser start point and adjust to the point where the Fnorm starts to drop rapidly. Experience shows that there is a few ms delay between time 0 of the instrument and first sign of response in Fnorm. An empirical delay is already automatically applied to laser start.<p>\n",
        "#@markdown Step 3: Reset the end slider to the end of the IR irradiation period or any point earlier. The model does not take into account the recovery phase after the IR laser is swiched off.\n",
        "Capillary = \"1\" #@param [\"1\", \"2\", \"3\", \"4\", \"5\", \"6\", \"7\", \"8\", \"9\", \"10\", \"11\", \"12\", \"13\", \"14\", \"15\", \"16\"]\n",
        "\n",
        "Data_range=widgets.IntRangeSlider(\n",
        "    value=[0, fluorescence[int(Capillary)].astype(float).idxmin()],\n",
        "    min=0,\n",
        "    max=len(onedtime),\n",
        "    step=1,\n",
        "    description='Data_range:',\n",
        "    disabled=False,\n",
        "    continuous_update=False,\n",
        "    orientation='horizontal',\n",
        "    readout=True,\n",
        "    readout_format='d',\n",
        ")\n",
        "\n",
        "Start_pos=widgets.IntSlider(\n",
        "    value=0,\n",
        "    min=0,\n",
        "    max=len(onedtime),\n",
        "    step=1,\n",
        "    description='Start_pos:',\n",
        "    disabled=False\n",
        ")\n",
        "\n",
        "End_pos=widgets.IntSlider(\n",
        "    value=len(onedtime),\n",
        "    min=0,\n",
        "    max=len(onedtime),\n",
        "    step=1,\n",
        "    description='End_pos:',\n",
        "    disabled=False\n",
        ")\n",
        "\n",
        "IR_pos=widgets.IntSlider(\n",
        "    value=firstIRtimepos,\n",
        "    min=0,\n",
        "    max=len(onedtime),\n",
        "    step=1,\n",
        "    description='IR_pos:',\n",
        "    disabled=False\n",
        ")\n",
        "\n",
        "def f(Data_range, IR_pos):\n",
        "    Start_pos,End_pos=Data_range\n",
        "    fig, ax = plt.subplots()\n",
        "    ax.plot(onedtime[Start_pos:End_pos],fluorescence[int(Capillary)].astype(float).iloc[Start_pos:End_pos], color='gray')\n",
        "    ax.annotate('IR laser', \n",
        "            xy=(onedtime[IR_pos], 1), \n",
        "            xytext=(onedtime[IR_pos], 0.95), \n",
        "            arrowprops = dict(facecolor='red', shrink=0.05)\n",
        "    )\n",
        "    plt.xlabel (\"Time (s)\")\n",
        "    plt.ylabel (r\"$F_{norm}$\")\n",
        "out = widgets.interactive_output(f, {'Data_range': Data_range, 'IR_pos': IR_pos})\n",
        "\n",
        "widgets.HBox([widgets.VBox([Data_range, IR_pos]), out])\n",
        "\n",
        "\n",
        "\n",
        "\n",
        "\n",
        "\n",
        "\n"
      ],
      "metadata": {
        "id": "ZlemQ5w9m5KJ",
        "outputId": "9c9eba70-fbb2-4905-9dd4-d412c9520a4b",
        "colab": {
          "base_uri": "https://localhost:8080/",
          "height": 279,
          "referenced_widgets": [
            "a045439535844e088f7d2c2e8920ea2d",
            "efd843f764084d42bccdeaf169fbb478",
            "c8cf3cce21454ee1b2b8478d805a9305",
            "da59e930e3174a92b9900850529a07cb",
            "004a3a21623847668e94e6c9df3f3f68",
            "3b50c97233dd4a418555aa1a36f27657",
            "ccbcd879d6b14b5996f5e463a5e6020a",
            "f2fc1b2ab514447dbacedfb00e37e45b",
            "e99e2108cfb44fdcbc32f2ce419f91d1",
            "cac0c5e1a6a04431ad9f22174cd869d3",
            "1686aaaf12a24dd882b2c8e89feb362c",
            "9393123295c1449cae9ef1b19b881422"
          ]
        }
      },
      "execution_count": null,
      "outputs": [
        {
          "output_type": "display_data",
          "data": {
            "text/plain": [
              "HBox(children=(VBox(children=(IntRangeSlider(value=(0, 477), continuous_update=False, description='Data_range:…"
            ],
            "application/vnd.jupyter.widget-view+json": {
              "version_major": 2,
              "version_minor": 0,
              "model_id": "a045439535844e088f7d2c2e8920ea2d"
            }
          },
          "metadata": {}
        }
      ]
    },
    {
      "cell_type": "code",
      "source": [
        "IR_pos.value"
      ],
      "metadata": {
        "id": "U7w2iraIUzPn",
        "outputId": "23ac4101-321f-4900-bbce-cd238889a29f",
        "colab": {
          "base_uri": "https://localhost:8080/"
        }
      },
      "execution_count": null,
      "outputs": [
        {
          "output_type": "execute_result",
          "data": {
            "text/plain": [
              "73"
            ]
          },
          "metadata": {},
          "execution_count": 132
        }
      ]
    },
    {
      "cell_type": "code",
      "source": [
        "#@title Alternative 1: Perform the MCMC sampling (linear phase starts before the IR irradiation)\n",
        "#@markdown Use scenario: The fluroescence signal (Fnorm) is not stable at 1 before IR irradiation. Possible reasons: photodamage, unstable protein, not fully equilibrated protein:ligand interaction\n",
        "\n",
        "##@markdown Enter labeled protein concentration in units of nM:\n",
        "#FluoConc =  20#@param {type:\"number\"}\n",
        "##@markdown Enter the number of capillaries used in the experiment. The concentration of the ligand will be infered from the data file.\n",
        "#Capillary = \"16\" #@param [\"1\", \"2\", \"3\", \"4\", \"5\", \"6\", \"7\", \"8\", \"9\", \"10\", \"11\", \"12\", \"13\", \"14\", \"15\", \"16\"]\n",
        "\n",
        "IR=IR_pos.value\n",
        "start,end=Data_range.value\n",
        "cap=int(Capillary)\n",
        "time=np.array([onedtime[:,]]*cap,dtype=float).transpose()\n",
        "with pm.Model() as model:\n",
        "    K_D = pm.Uniform('K_D', 1, 1e6)\n",
        "    BoundedNormal = pm.Bound(pm.Normal, lower=0, upper=1e8)\n",
        "    c_fl = BoundedNormal('c_fl',mu=FluoConc,sd=FluoConc/10.0)\n",
        "\n",
        "    U=pm.Beta('U',alpha=1,beta=1)\n",
        "    B=pm.Beta('B',alpha=1,beta=1)\n",
        "    A_total=pm.Deterministic('A_total', U + (B-U)*((c_fl + cideal.astype(float) + K_D - pm.math.sqrt(pm.math.sqr(c_fl + cideal.astype(float) + K_D) - 4.0*c_fl*cideal.astype(float)))/(2*c_fl)))\n",
        "    \n",
        "    L=pm.Uniform('L',-1,1, shape=cap)\n",
        "    I=pm.Deterministic('I',1+L*start_t-A_total)\n",
        "    R=pm.Beta('R',alpha=2,beta=1, shape=cap)\n",
        "    A_1=pm.Deterministic('A_1',A_total*R)\n",
        "    A_2=pm.Deterministic('A_2',A_total*(1-R))\n",
        "    rate1=pm.Lognormal('rate1',0,1, shape=cap)\n",
        "    rate2=pm.Lognormal('rate2',0,1, shape=cap)\n",
        "\n",
        "    linearphase=L*(time-start_t)\n",
        "    E_1=A_1*pm.math.exp(-1.0*rate1*time)\n",
        "    E_2=A_2*pm.math.exp(-1.0*rate2*time)\n",
        "\n",
        "    epsilon = pm.Lognormal('epsilon', 0, 1)\n",
        "    laseron=np.tile(np.arange(0, len(onedtime)), (cap,1)).T\n",
        "\n",
        "    pr = switch(IR >= laseron, 1.0+linearphase, linearphase+I+E_1+E_2)\n",
        "\n",
        "\n",
        "    P = pm.Normal('P', mu=pr[start:end], sd=epsilon, observed=fluorescence.astype(float).iloc[start:end])\n",
        "\n",
        "\n",
        "with model:\n",
        "    trace = pm.sampling.sample(200, tune=100,\n",
        "                      init='ADVI'\n",
        "                     )\n",
        "    \n",
        "with model:\n",
        "    ppc = pm.sample_posterior_predictive(trace, samples=1000 ,model=model)"
      ],
      "metadata": {
        "id": "smyOSMXv5QpD",
        "outputId": "ed4305c9-3fe8-49b2-efe5-af17847c4427",
        "colab": {
          "base_uri": "https://localhost:8080/",
          "height": 344
        }
      },
      "execution_count": null,
      "outputs": [
        {
          "output_type": "stream",
          "name": "stderr",
          "text": [
            "/usr/local/lib/python3.7/dist-packages/ipykernel_launcher.py:43: FutureWarning: In v4.0, pm.sample will return an `arviz.InferenceData` object instead of a `MultiTrace` by default. You can pass return_inferencedata=True or return_inferencedata=False to be safe and silence this warning.\n",
            "Only 200 samples in chain.\n",
            "Auto-assigning NUTS sampler...\n",
            "Initializing NUTS using advi...\n"
          ]
        },
        {
          "output_type": "display_data",
          "data": {
            "text/plain": [
              "<IPython.core.display.HTML object>"
            ],
            "text/html": [
              "\n",
              "<style>\n",
              "    /* Turns off some styling */\n",
              "    progress {\n",
              "        /* gets rid of default border in Firefox and Opera. */\n",
              "        border: none;\n",
              "        /* Needs to be in here for Safari polyfill so background images work as expected. */\n",
              "        background-size: auto;\n",
              "    }\n",
              "    .progress-bar-interrupted, .progress-bar-interrupted::-webkit-progress-bar {\n",
              "        background: #F44336;\n",
              "    }\n",
              "</style>\n"
            ]
          },
          "metadata": {}
        },
        {
          "output_type": "display_data",
          "data": {
            "text/plain": [
              "<IPython.core.display.HTML object>"
            ],
            "text/html": [
              "\n",
              "    <div>\n",
              "      <progress value='67094' class='' max='200000' style='width:300px; height:20px; vertical-align: middle;'></progress>\n",
              "      33.55% [67094/200000 01:28<02:56 Average Loss = -34,121]\n",
              "    </div>\n",
              "    "
            ]
          },
          "metadata": {}
        },
        {
          "output_type": "stream",
          "name": "stderr",
          "text": [
            "Convergence achieved at 67100\n",
            "Interrupted at 67,099 [33%]: Average Loss = 1.4577e+13\n",
            "Sequential sampling (2 chains in 1 job)\n",
            "NUTS: [epsilon, rate2, rate1, R, L, B, U, c_fl, K_D]\n"
          ]
        },
        {
          "output_type": "display_data",
          "data": {
            "text/plain": [
              "<IPython.core.display.HTML object>"
            ],
            "text/html": [
              "\n",
              "<style>\n",
              "    /* Turns off some styling */\n",
              "    progress {\n",
              "        /* gets rid of default border in Firefox and Opera. */\n",
              "        border: none;\n",
              "        /* Needs to be in here for Safari polyfill so background images work as expected. */\n",
              "        background-size: auto;\n",
              "    }\n",
              "    .progress-bar-interrupted, .progress-bar-interrupted::-webkit-progress-bar {\n",
              "        background: #F44336;\n",
              "    }\n",
              "</style>\n"
            ]
          },
          "metadata": {}
        },
        {
          "output_type": "display_data",
          "data": {
            "text/plain": [
              "<IPython.core.display.HTML object>"
            ],
            "text/html": [
              "\n",
              "    <div>\n",
              "      <progress value='300' class='' max='300' style='width:300px; height:20px; vertical-align: middle;'></progress>\n",
              "      100.00% [300/300 02:37<00:00 Sampling chain 0, 0 divergences]\n",
              "    </div>\n",
              "    "
            ]
          },
          "metadata": {}
        },
        {
          "output_type": "display_data",
          "data": {
            "text/plain": [
              "<IPython.core.display.HTML object>"
            ],
            "text/html": [
              "\n",
              "<style>\n",
              "    /* Turns off some styling */\n",
              "    progress {\n",
              "        /* gets rid of default border in Firefox and Opera. */\n",
              "        border: none;\n",
              "        /* Needs to be in here for Safari polyfill so background images work as expected. */\n",
              "        background-size: auto;\n",
              "    }\n",
              "    .progress-bar-interrupted, .progress-bar-interrupted::-webkit-progress-bar {\n",
              "        background: #F44336;\n",
              "    }\n",
              "</style>\n"
            ]
          },
          "metadata": {}
        },
        {
          "output_type": "display_data",
          "data": {
            "text/plain": [
              "<IPython.core.display.HTML object>"
            ],
            "text/html": [
              "\n",
              "    <div>\n",
              "      <progress value='300' class='' max='300' style='width:300px; height:20px; vertical-align: middle;'></progress>\n",
              "      100.00% [300/300 02:33<00:00 Sampling chain 1, 0 divergences]\n",
              "    </div>\n",
              "    "
            ]
          },
          "metadata": {}
        },
        {
          "output_type": "stream",
          "name": "stderr",
          "text": [
            "Sampling 2 chains for 100 tune and 200 draw iterations (200 + 400 draws total) took 311 seconds.\n",
            "The acceptance probability does not match the target. It is 0.8978533048188355, but should be close to 0.8. Try to increase the number of tuning steps.\n",
            "The acceptance probability does not match the target. It is 0.8956089403854449, but should be close to 0.8. Try to increase the number of tuning steps.\n",
            "The rhat statistic is larger than 1.05 for some parameters. This indicates slight problems during sampling.\n",
            "The number of effective samples is smaller than 10% for some parameters.\n"
          ]
        },
        {
          "output_type": "display_data",
          "data": {
            "text/plain": [
              "<IPython.core.display.HTML object>"
            ],
            "text/html": [
              "\n",
              "<style>\n",
              "    /* Turns off some styling */\n",
              "    progress {\n",
              "        /* gets rid of default border in Firefox and Opera. */\n",
              "        border: none;\n",
              "        /* Needs to be in here for Safari polyfill so background images work as expected. */\n",
              "        background-size: auto;\n",
              "    }\n",
              "    .progress-bar-interrupted, .progress-bar-interrupted::-webkit-progress-bar {\n",
              "        background: #F44336;\n",
              "    }\n",
              "</style>\n"
            ]
          },
          "metadata": {}
        },
        {
          "output_type": "display_data",
          "data": {
            "text/plain": [
              "<IPython.core.display.HTML object>"
            ],
            "text/html": [
              "\n",
              "    <div>\n",
              "      <progress value='1000' class='' max='1000' style='width:300px; height:20px; vertical-align: middle;'></progress>\n",
              "      100.00% [1000/1000 00:07<00:00]\n",
              "    </div>\n",
              "    "
            ]
          },
          "metadata": {}
        }
      ]
    },
    {
      "cell_type": "code",
      "source": [
        "#@title Alternative 2: Perform the MCMC sampling (linear phase starts at time 0)\n",
        "#@markdown Use scenario: Fnorm is stable at 1 before IR irradiation, but after irradiation there is a trendlike increase or decrease in at least some of the progress curves. Possible causes: temperature induced denaturation, direct IR absorption in protein results in electrodynamic interaction between protein and ligand.\n",
        "\n",
        "#@markdown Enter labeled protein concentration in units of nM:\n",
        "FluoConc =  20#@param {type:\"number\"}\n",
        "#@markdown Enter the number of capillaries used in the experiment. The concentration of the ligand will be infered from the data file.\n",
        "Capillary = \"16\" #@param [\"1\", \"2\", \"3\", \"4\", \"5\", \"6\", \"7\", \"8\", \"9\", \"10\", \"11\", \"12\", \"13\", \"14\", \"15\", \"16\"]\n",
        "\n",
        "cap=int(Capillary)\n",
        "time=np.array([onedtime[:,]]*cap,dtype=float).transpose()\n",
        "with pm.Model() as model:\n",
        "    Kd = pm.Uniform('Kd', 1, 1e6)\n",
        "    BoundedNormal = pm.Bound(pm.Normal, lower=0, upper=1e8)\n",
        "    FC = BoundedNormal('FC',mu=FluoConc,sd=FluoConc/10.0)\n",
        "\n",
        "    ampunbound=pm.Beta('ampunbound',alpha=1,beta=1)\n",
        "    ampbound=pm.Beta('ampbound',alpha=1,beta=1)\n",
        "    totalamp=pm.Deterministic('totalamp', ampunbound + (ampbound-ampunbound)*((FC + cideal.astype(float) + Kd - pm.math.sqrt(pm.math.sqr(FC + cideal.astype(float) + Kd) - 4.0*FC*cideal.astype(float)))/(2*FC)))\n",
        "\n",
        "    \n",
        "    linslope=pm.Uniform('linslope',-1,1, shape=cap)\n",
        "    level=pm.Deterministic('level',1-totalamp)\n",
        "    ampfract=pm.Beta('ampfract',alpha=2,beta=1, shape=cap)\n",
        "    amp1=pm.Deterministic('amp1',totalamp*ampfract)\n",
        "    amp2=pm.Deterministic('amp2',totalamp*(1-ampfract))\n",
        "    rate1=pm.Lognormal('rate1',0,1, shape=cap)\n",
        "    rate2=pm.Lognormal('rate2',0,1, shape=cap)\n",
        "\n",
        "    linearphase=linslope*(time)\n",
        "    expcomp1=amp1*pm.math.exp(-1.0*rate1*time)\n",
        "    expcomp2=amp2*pm.math.exp(-1.0*rate2*time)\n",
        "\n",
        "    sigma = pm.Lognormal('sigma', 0, 1)\n",
        "    laseron=np.tile(np.arange(0, 543), (cap,1)).T\n",
        "\n",
        "    pr = switch(75 >= laseron, 1.0, linearphase+level+expcomp1+expcomp2)\n",
        "\n",
        "\n",
        "    pred = pm.Normal('pred', mu=pr[0:475], sd=sigma, observed=fluorescence.astype(float).iloc[0:475])\n",
        "\n",
        "\n",
        "with model:\n",
        "    trace = pm.sampling.sample(2000, tune=1000,\n",
        "                      init='ADVI'\n",
        "                     )\n",
        "    \n",
        "with model:\n",
        "    ppc = pm.sample_posterior_predictive(trace, samples=1000 ,model=model)"
      ],
      "metadata": {
        "colab": {
          "base_uri": "https://localhost:8080/",
          "height": 393
        },
        "id": "OgMcYdCRcc_R",
        "outputId": "4287e462-a291-416d-862b-a4022f3d130b"
      },
      "execution_count": null,
      "outputs": [
        {
          "output_type": "stream",
          "name": "stderr",
          "text": [
            "/usr/local/lib/python3.7/dist-packages/ipykernel_launcher.py:42: FutureWarning: In v4.0, pm.sample will return an `arviz.InferenceData` object instead of a `MultiTrace` by default. You can pass return_inferencedata=True or return_inferencedata=False to be safe and silence this warning.\n",
            "Auto-assigning NUTS sampler...\n",
            "Initializing NUTS using advi...\n"
          ]
        },
        {
          "output_type": "display_data",
          "data": {
            "text/html": [
              "\n",
              "<style>\n",
              "    /* Turns off some styling */\n",
              "    progress {\n",
              "        /* gets rid of default border in Firefox and Opera. */\n",
              "        border: none;\n",
              "        /* Needs to be in here for Safari polyfill so background images work as expected. */\n",
              "        background-size: auto;\n",
              "    }\n",
              "    .progress-bar-interrupted, .progress-bar-interrupted::-webkit-progress-bar {\n",
              "        background: #F44336;\n",
              "    }\n",
              "</style>\n"
            ],
            "text/plain": [
              "<IPython.core.display.HTML object>"
            ]
          },
          "metadata": {}
        },
        {
          "output_type": "display_data",
          "data": {
            "text/html": [
              "\n",
              "    <div>\n",
              "      <progress value='66087' class='' max='200000' style='width:300px; height:20px; vertical-align: middle;'></progress>\n",
              "      33.04% [66087/200000 01:18<02:38 Average Loss = -34,679]\n",
              "    </div>\n",
              "    "
            ],
            "text/plain": [
              "<IPython.core.display.HTML object>"
            ]
          },
          "metadata": {}
        },
        {
          "output_type": "stream",
          "name": "stderr",
          "text": [
            "Convergence achieved at 66200\n",
            "Interrupted at 66,199 [33%]: Average Loss = 1.4816e+13\n",
            "Sequential sampling (2 chains in 1 job)\n",
            "NUTS: [sigma, rate2, rate1, ampfract, linslope, ampbound, ampunbound, FC, Kd]\n"
          ]
        },
        {
          "output_type": "display_data",
          "data": {
            "text/html": [
              "\n",
              "<style>\n",
              "    /* Turns off some styling */\n",
              "    progress {\n",
              "        /* gets rid of default border in Firefox and Opera. */\n",
              "        border: none;\n",
              "        /* Needs to be in here for Safari polyfill so background images work as expected. */\n",
              "        background-size: auto;\n",
              "    }\n",
              "    .progress-bar-interrupted, .progress-bar-interrupted::-webkit-progress-bar {\n",
              "        background: #F44336;\n",
              "    }\n",
              "</style>\n"
            ],
            "text/plain": [
              "<IPython.core.display.HTML object>"
            ]
          },
          "metadata": {}
        },
        {
          "output_type": "display_data",
          "data": {
            "text/html": [
              "\n",
              "    <div>\n",
              "      <progress value='3000' class='' max='3000' style='width:300px; height:20px; vertical-align: middle;'></progress>\n",
              "      100.00% [3000/3000 29:21<00:00 Sampling chain 0, 1 divergences]\n",
              "    </div>\n",
              "    "
            ],
            "text/plain": [
              "<IPython.core.display.HTML object>"
            ]
          },
          "metadata": {}
        },
        {
          "output_type": "display_data",
          "data": {
            "text/html": [
              "\n",
              "<style>\n",
              "    /* Turns off some styling */\n",
              "    progress {\n",
              "        /* gets rid of default border in Firefox and Opera. */\n",
              "        border: none;\n",
              "        /* Needs to be in here for Safari polyfill so background images work as expected. */\n",
              "        background-size: auto;\n",
              "    }\n",
              "    .progress-bar-interrupted, .progress-bar-interrupted::-webkit-progress-bar {\n",
              "        background: #F44336;\n",
              "    }\n",
              "</style>\n"
            ],
            "text/plain": [
              "<IPython.core.display.HTML object>"
            ]
          },
          "metadata": {}
        },
        {
          "output_type": "display_data",
          "data": {
            "text/html": [
              "\n",
              "    <div>\n",
              "      <progress value='3000' class='' max='3000' style='width:300px; height:20px; vertical-align: middle;'></progress>\n",
              "      100.00% [3000/3000 33:21<00:00 Sampling chain 1, 0 divergences]\n",
              "    </div>\n",
              "    "
            ],
            "text/plain": [
              "<IPython.core.display.HTML object>"
            ]
          },
          "metadata": {}
        },
        {
          "output_type": "stream",
          "name": "stderr",
          "text": [
            "Sampling 2 chains for 1_000 tune and 2_000 draw iterations (2_000 + 4_000 draws total) took 3763 seconds.\n",
            "There was 1 divergence after tuning. Increase `target_accept` or reparameterize.\n",
            "The chain reached the maximum tree depth. Increase max_treedepth, increase target_accept or reparameterize.\n",
            "There was 1 divergence after tuning. Increase `target_accept` or reparameterize.\n",
            "The chain reached the maximum tree depth. Increase max_treedepth, increase target_accept or reparameterize.\n",
            "The number of effective samples is smaller than 25% for some parameters.\n",
            "/usr/local/lib/python3.7/dist-packages/pymc3/sampling.py:1690: UserWarning: samples parameter is smaller than nchains times ndraws, some draws and/or chains may not be represented in the returned posterior predictive sample\n",
            "  \"samples parameter is smaller than nchains times ndraws, some draws \"\n"
          ]
        },
        {
          "output_type": "display_data",
          "data": {
            "text/html": [
              "\n",
              "<style>\n",
              "    /* Turns off some styling */\n",
              "    progress {\n",
              "        /* gets rid of default border in Firefox and Opera. */\n",
              "        border: none;\n",
              "        /* Needs to be in here for Safari polyfill so background images work as expected. */\n",
              "        background-size: auto;\n",
              "    }\n",
              "    .progress-bar-interrupted, .progress-bar-interrupted::-webkit-progress-bar {\n",
              "        background: #F44336;\n",
              "    }\n",
              "</style>\n"
            ],
            "text/plain": [
              "<IPython.core.display.HTML object>"
            ]
          },
          "metadata": {}
        },
        {
          "output_type": "display_data",
          "data": {
            "text/html": [
              "\n",
              "    <div>\n",
              "      <progress value='1000' class='' max='1000' style='width:300px; height:20px; vertical-align: middle;'></progress>\n",
              "      100.00% [1000/1000 00:06<00:00]\n",
              "    </div>\n",
              "    "
            ],
            "text/plain": [
              "<IPython.core.display.HTML object>"
            ]
          },
          "metadata": {}
        }
      ]
    },
    {
      "cell_type": "code",
      "source": [
        "#@title Statistics of global variables\n",
        "#@markdown Kd and FC units are traditionally expressed in nM in the Nanotemper software, the amplitudes and sigma is expressed as Fnorm  \n",
        "pm.stats.summary(trace,var_names=['K_D','B','U', 'epsilon','c_fl'])\n"
      ],
      "metadata": {
        "colab": {
          "base_uri": "https://localhost:8080/",
          "height": 278
        },
        "id": "59F3JTPXdNR4",
        "outputId": "8c1be010-2d41-42d2-b1bb-4c5b3fe64fd3",
        "cellView": "form"
      },
      "execution_count": null,
      "outputs": [
        {
          "output_type": "stream",
          "name": "stderr",
          "text": [
            "Got error No model on context stack. trying to find log_likelihood in translation.\n",
            "/usr/local/lib/python3.7/dist-packages/arviz/data/io_pymc3_3x.py:102: FutureWarning: Using `from_pymc3` without the model will be deprecated in a future release. Not using the model will return less accurate and less useful results. Make sure you use the model argument or call from_pymc3 within a model context.\n",
            "  FutureWarning,\n"
          ]
        },
        {
          "output_type": "execute_result",
          "data": {
            "text/plain": [
              "             mean       sd    hdi_3%   hdi_97%  mcse_mean  mcse_sd  ess_bulk  \\\n",
              "K_D      1790.307  278.176  1374.915  2367.676     26.618   18.872     107.0   \n",
              "B           0.281    0.001     0.280     0.282      0.000    0.000     217.0   \n",
              "U           0.253    0.001     0.252     0.254      0.000    0.000      35.0   \n",
              "epsilon     0.002    0.000     0.002     0.002      0.000    0.000     501.0   \n",
              "c_fl       19.887    1.852    16.579    23.204      0.085    0.060     468.0   \n",
              "\n",
              "         ess_tail  r_hat  \n",
              "K_D         238.0   1.03  \n",
              "B           262.0   1.01  \n",
              "U            66.0   1.07  \n",
              "epsilon     204.0   1.00  \n",
              "c_fl        335.0   1.00  "
            ],
            "text/html": [
              "\n",
              "  <div id=\"df-27c331b5-9684-4f89-9972-8a04709bf5bf\">\n",
              "    <div class=\"colab-df-container\">\n",
              "      <div>\n",
              "<style scoped>\n",
              "    .dataframe tbody tr th:only-of-type {\n",
              "        vertical-align: middle;\n",
              "    }\n",
              "\n",
              "    .dataframe tbody tr th {\n",
              "        vertical-align: top;\n",
              "    }\n",
              "\n",
              "    .dataframe thead th {\n",
              "        text-align: right;\n",
              "    }\n",
              "</style>\n",
              "<table border=\"1\" class=\"dataframe\">\n",
              "  <thead>\n",
              "    <tr style=\"text-align: right;\">\n",
              "      <th></th>\n",
              "      <th>mean</th>\n",
              "      <th>sd</th>\n",
              "      <th>hdi_3%</th>\n",
              "      <th>hdi_97%</th>\n",
              "      <th>mcse_mean</th>\n",
              "      <th>mcse_sd</th>\n",
              "      <th>ess_bulk</th>\n",
              "      <th>ess_tail</th>\n",
              "      <th>r_hat</th>\n",
              "    </tr>\n",
              "  </thead>\n",
              "  <tbody>\n",
              "    <tr>\n",
              "      <th>K_D</th>\n",
              "      <td>1790.307</td>\n",
              "      <td>278.176</td>\n",
              "      <td>1374.915</td>\n",
              "      <td>2367.676</td>\n",
              "      <td>26.618</td>\n",
              "      <td>18.872</td>\n",
              "      <td>107.0</td>\n",
              "      <td>238.0</td>\n",
              "      <td>1.03</td>\n",
              "    </tr>\n",
              "    <tr>\n",
              "      <th>B</th>\n",
              "      <td>0.281</td>\n",
              "      <td>0.001</td>\n",
              "      <td>0.280</td>\n",
              "      <td>0.282</td>\n",
              "      <td>0.000</td>\n",
              "      <td>0.000</td>\n",
              "      <td>217.0</td>\n",
              "      <td>262.0</td>\n",
              "      <td>1.01</td>\n",
              "    </tr>\n",
              "    <tr>\n",
              "      <th>U</th>\n",
              "      <td>0.253</td>\n",
              "      <td>0.001</td>\n",
              "      <td>0.252</td>\n",
              "      <td>0.254</td>\n",
              "      <td>0.000</td>\n",
              "      <td>0.000</td>\n",
              "      <td>35.0</td>\n",
              "      <td>66.0</td>\n",
              "      <td>1.07</td>\n",
              "    </tr>\n",
              "    <tr>\n",
              "      <th>epsilon</th>\n",
              "      <td>0.002</td>\n",
              "      <td>0.000</td>\n",
              "      <td>0.002</td>\n",
              "      <td>0.002</td>\n",
              "      <td>0.000</td>\n",
              "      <td>0.000</td>\n",
              "      <td>501.0</td>\n",
              "      <td>204.0</td>\n",
              "      <td>1.00</td>\n",
              "    </tr>\n",
              "    <tr>\n",
              "      <th>c_fl</th>\n",
              "      <td>19.887</td>\n",
              "      <td>1.852</td>\n",
              "      <td>16.579</td>\n",
              "      <td>23.204</td>\n",
              "      <td>0.085</td>\n",
              "      <td>0.060</td>\n",
              "      <td>468.0</td>\n",
              "      <td>335.0</td>\n",
              "      <td>1.00</td>\n",
              "    </tr>\n",
              "  </tbody>\n",
              "</table>\n",
              "</div>\n",
              "      <button class=\"colab-df-convert\" onclick=\"convertToInteractive('df-27c331b5-9684-4f89-9972-8a04709bf5bf')\"\n",
              "              title=\"Convert this dataframe to an interactive table.\"\n",
              "              style=\"display:none;\">\n",
              "        \n",
              "  <svg xmlns=\"http://www.w3.org/2000/svg\" height=\"24px\"viewBox=\"0 0 24 24\"\n",
              "       width=\"24px\">\n",
              "    <path d=\"M0 0h24v24H0V0z\" fill=\"none\"/>\n",
              "    <path d=\"M18.56 5.44l.94 2.06.94-2.06 2.06-.94-2.06-.94-.94-2.06-.94 2.06-2.06.94zm-11 1L8.5 8.5l.94-2.06 2.06-.94-2.06-.94L8.5 2.5l-.94 2.06-2.06.94zm10 10l.94 2.06.94-2.06 2.06-.94-2.06-.94-.94-2.06-.94 2.06-2.06.94z\"/><path d=\"M17.41 7.96l-1.37-1.37c-.4-.4-.92-.59-1.43-.59-.52 0-1.04.2-1.43.59L10.3 9.45l-7.72 7.72c-.78.78-.78 2.05 0 2.83L4 21.41c.39.39.9.59 1.41.59.51 0 1.02-.2 1.41-.59l7.78-7.78 2.81-2.81c.8-.78.8-2.07 0-2.86zM5.41 20L4 18.59l7.72-7.72 1.47 1.35L5.41 20z\"/>\n",
              "  </svg>\n",
              "      </button>\n",
              "      \n",
              "  <style>\n",
              "    .colab-df-container {\n",
              "      display:flex;\n",
              "      flex-wrap:wrap;\n",
              "      gap: 12px;\n",
              "    }\n",
              "\n",
              "    .colab-df-convert {\n",
              "      background-color: #E8F0FE;\n",
              "      border: none;\n",
              "      border-radius: 50%;\n",
              "      cursor: pointer;\n",
              "      display: none;\n",
              "      fill: #1967D2;\n",
              "      height: 32px;\n",
              "      padding: 0 0 0 0;\n",
              "      width: 32px;\n",
              "    }\n",
              "\n",
              "    .colab-df-convert:hover {\n",
              "      background-color: #E2EBFA;\n",
              "      box-shadow: 0px 1px 2px rgba(60, 64, 67, 0.3), 0px 1px 3px 1px rgba(60, 64, 67, 0.15);\n",
              "      fill: #174EA6;\n",
              "    }\n",
              "\n",
              "    [theme=dark] .colab-df-convert {\n",
              "      background-color: #3B4455;\n",
              "      fill: #D2E3FC;\n",
              "    }\n",
              "\n",
              "    [theme=dark] .colab-df-convert:hover {\n",
              "      background-color: #434B5C;\n",
              "      box-shadow: 0px 1px 3px 1px rgba(0, 0, 0, 0.15);\n",
              "      filter: drop-shadow(0px 1px 2px rgba(0, 0, 0, 0.3));\n",
              "      fill: #FFFFFF;\n",
              "    }\n",
              "  </style>\n",
              "\n",
              "      <script>\n",
              "        const buttonEl =\n",
              "          document.querySelector('#df-27c331b5-9684-4f89-9972-8a04709bf5bf button.colab-df-convert');\n",
              "        buttonEl.style.display =\n",
              "          google.colab.kernel.accessAllowed ? 'block' : 'none';\n",
              "\n",
              "        async function convertToInteractive(key) {\n",
              "          const element = document.querySelector('#df-27c331b5-9684-4f89-9972-8a04709bf5bf');\n",
              "          const dataTable =\n",
              "            await google.colab.kernel.invokeFunction('convertToInteractive',\n",
              "                                                     [key], {});\n",
              "          if (!dataTable) return;\n",
              "\n",
              "          const docLinkHtml = 'Like what you see? Visit the ' +\n",
              "            '<a target=\"_blank\" href=https://colab.research.google.com/notebooks/data_table.ipynb>data table notebook</a>'\n",
              "            + ' to learn more about interactive tables.';\n",
              "          element.innerHTML = '';\n",
              "          dataTable['output_type'] = 'display_data';\n",
              "          await google.colab.output.renderOutput(dataTable, element);\n",
              "          const docLink = document.createElement('div');\n",
              "          docLink.innerHTML = docLinkHtml;\n",
              "          element.appendChild(docLink);\n",
              "        }\n",
              "      </script>\n",
              "    </div>\n",
              "  </div>\n",
              "  "
            ]
          },
          "metadata": {},
          "execution_count": 46
        }
      ]
    },
    {
      "cell_type": "code",
      "source": [
        "#@title Posterior predictive check { run: \"auto\" }\n",
        "#@markdown Choose the capillary to analyse:\n",
        "Capillary = \"6\" #@param [\"1\", \"2\", \"3\", \"4\", \"5\", \"6\", \"7\", \"8\", \"9\", \"10\", \"11\", \"12\", \"13\", \"14\", \"15\", \"16\"]\n",
        "\n",
        "plt.plot(onedtime[:475],fluorescence[int(Capillary)].astype(float).iloc[0:475], color='gray')\n",
        "plt.plot(onedtime[:475],np.mean(ppc['P'][:,:,int(Capillary)-1], axis=0))\n",
        "plt.fill_between(np.array(onedtime[:475],dtype=float), np.array(pm.stats.hdi(ppc['P'][:,:,int(Capillary)-1])[:,0],dtype=float) ,np.array(pm.stats.hdi(ppc['P'][:,:,int(Capillary)-1])[:,1],dtype=float) , alpha=0.5)\n"
      ],
      "metadata": {
        "colab": {
          "base_uri": "https://localhost:8080/",
          "height": 337
        },
        "id": "1MjwpdO-NhSi",
        "outputId": "aaf8c800-cab9-4e5e-ab59-bad344d677a1"
      },
      "execution_count": null,
      "outputs": [
        {
          "output_type": "stream",
          "name": "stderr",
          "text": [
            "/usr/local/lib/python3.7/dist-packages/ipykernel_launcher.py:7: FutureWarning: hdi currently interprets 2d data as (draw, shape) but this will change in a future release to (chain, draw) for coherence with other functions\n",
            "  import sys\n"
          ]
        },
        {
          "output_type": "execute_result",
          "data": {
            "text/plain": [
              "<matplotlib.collections.PolyCollection at 0x7f861d143310>"
            ]
          },
          "metadata": {},
          "execution_count": 59
        },
        {
          "output_type": "display_data",
          "data": {
            "text/plain": [
              "<Figure size 432x288 with 1 Axes>"
            ],
            "image/png": "[encoded data removed]"
          },
          "metadata": {
            "needs_background": "light"
          }
        }
      ]
    },
    {
      "cell_type": "code",
      "source": [
        "fluorescence"
      ],
      "metadata": {
        "id": "A4v_KuEi0_8I",
        "outputId": "7b6cbcb4-5a5c-48ac-d4c2-55c787832e87",
        "colab": {
          "base_uri": "https://localhost:8080/",
          "height": 505
        }
      },
      "execution_count": null,
      "outputs": [
        {
          "output_type": "execute_result",
          "data": {
            "text/plain": [
              "    NanoTemper Technologies.1 Unnamed: 4 Unnamed: 7 Unnamed: 10 Unnamed: 13  \\\n",
              "0                    1.001723   0.997642   1.000468    0.997507    0.998625   \n",
              "1                    0.999152   1.001489   0.998536    0.999687    1.001364   \n",
              "2                    1.001331   1.000538   1.000017    1.001528    1.002331   \n",
              "3                    0.999283   1.000956   1.000546    1.000831    0.997973   \n",
              "4                    1.002078   0.998798   0.998863    1.002002    0.998903   \n",
              "..                        ...        ...        ...         ...         ...   \n",
              "538                  0.896745   0.900451   0.899821    0.898078    0.898737   \n",
              "539                  0.898365   0.898314   0.901775    0.898775    0.896349   \n",
              "540                  0.901988   0.903488   0.901732    0.897996    0.899176   \n",
              "541                  0.901858   0.902229   0.904231    0.902132    0.899535   \n",
              "542                  0.900596   0.903784    0.90498     0.90064    0.903436   \n",
              "\n",
              "    Unnamed: 16 Unnamed: 19 Unnamed: 22 Unnamed: 25 Unnamed: 28 Unnamed: 31  \\\n",
              "0      0.997517    1.000453    0.999429    0.999199    0.999144    1.000779   \n",
              "1      1.001993    0.998387    1.001346     1.00189    0.998562    1.000301   \n",
              "2      1.001108     0.99825     1.00008    0.996793    0.999876    0.999912   \n",
              "3      0.999157     1.00218     1.00029    1.000345    0.998692    1.002187   \n",
              "4      1.001125    1.002892    1.001704    0.998551    0.999767    0.998391   \n",
              "..          ...         ...         ...         ...         ...         ...   \n",
              "538    0.899341    0.904167     0.90282    0.934527    0.908036    0.908358   \n",
              "539    0.898173    0.902757    0.905427    0.936075    0.907212    0.909811   \n",
              "540     0.89912    0.903672     0.90555     0.93834    0.908355    0.911661   \n",
              "541    0.899649    0.906314    0.905715    0.939989    0.911096    0.911557   \n",
              "542    0.902179    0.908767    0.907014    0.940937    0.910301    0.915104   \n",
              "\n",
              "    Unnamed: 34 Unnamed: 37 Unnamed: 40 Unnamed: 43 Unnamed: 46  \n",
              "0        0.9994    0.997883    0.999281    0.999722    1.001121  \n",
              "1      0.998452    1.000142    1.000299    0.999014    0.999616  \n",
              "2      0.999081    1.000335    0.997249    1.001848    1.003206  \n",
              "3      1.000256    0.999698    0.999508    1.000812    0.998571  \n",
              "4      1.000572    1.000867    0.998522    1.000259    0.998662  \n",
              "..          ...         ...         ...         ...         ...  \n",
              "538    0.907624     0.90825    0.909877    0.914866     0.91249  \n",
              "539    0.907789    0.910408    0.910548    0.916074    0.917994  \n",
              "540    0.911626     0.91199    0.911194    0.915839     0.91767  \n",
              "541    0.911923    0.912441    0.912533    0.916944    0.916911  \n",
              "542    0.912422    0.913317    0.915164     0.91859    0.915552  \n",
              "\n",
              "[543 rows x 16 columns]"
            ],
            "text/html": [
              "\n",
              "  <div id=\"df-e74b5343-e1ac-463e-97e8-ab4cbe774e71\">\n",
              "    <div class=\"colab-df-container\">\n",
              "      <div>\n",
              "<style scoped>\n",
              "    .dataframe tbody tr th:only-of-type {\n",
              "        vertical-align: middle;\n",
              "    }\n",
              "\n",
              "    .dataframe tbody tr th {\n",
              "        vertical-align: top;\n",
              "    }\n",
              "\n",
              "    .dataframe thead th {\n",
              "        text-align: right;\n",
              "    }\n",
              "</style>\n",
              "<table border=\"1\" class=\"dataframe\">\n",
              "  <thead>\n",
              "    <tr style=\"text-align: right;\">\n",
              "      <th></th>\n",
              "      <th>NanoTemper Technologies.1</th>\n",
              "      <th>Unnamed: 4</th>\n",
              "      <th>Unnamed: 7</th>\n",
              "      <th>Unnamed: 10</th>\n",
              "      <th>Unnamed: 13</th>\n",
              "      <th>Unnamed: 16</th>\n",
              "      <th>Unnamed: 19</th>\n",
              "      <th>Unnamed: 22</th>\n",
              "      <th>Unnamed: 25</th>\n",
              "      <th>Unnamed: 28</th>\n",
              "      <th>Unnamed: 31</th>\n",
              "      <th>Unnamed: 34</th>\n",
              "      <th>Unnamed: 37</th>\n",
              "      <th>Unnamed: 40</th>\n",
              "      <th>Unnamed: 43</th>\n",
              "      <th>Unnamed: 46</th>\n",
              "    </tr>\n",
              "  </thead>\n",
              "  <tbody>\n",
              "    <tr>\n",
              "      <th>0</th>\n",
              "      <td>1.001723</td>\n",
              "      <td>0.997642</td>\n",
              "      <td>1.000468</td>\n",
              "      <td>0.997507</td>\n",
              "      <td>0.998625</td>\n",
              "      <td>0.997517</td>\n",
              "      <td>1.000453</td>\n",
              "      <td>0.999429</td>\n",
              "      <td>0.999199</td>\n",
              "      <td>0.999144</td>\n",
              "      <td>1.000779</td>\n",
              "      <td>0.9994</td>\n",
              "      <td>0.997883</td>\n",
              "      <td>0.999281</td>\n",
              "      <td>0.999722</td>\n",
              "      <td>1.001121</td>\n",
              "    </tr>\n",
              "    <tr>\n",
              "      <th>1</th>\n",
              "      <td>0.999152</td>\n",
              "      <td>1.001489</td>\n",
              "      <td>0.998536</td>\n",
              "      <td>0.999687</td>\n",
              "      <td>1.001364</td>\n",
              "      <td>1.001993</td>\n",
              "      <td>0.998387</td>\n",
              "      <td>1.001346</td>\n",
              "      <td>1.00189</td>\n",
              "      <td>0.998562</td>\n",
              "      <td>1.000301</td>\n",
              "      <td>0.998452</td>\n",
              "      <td>1.000142</td>\n",
              "      <td>1.000299</td>\n",
              "      <td>0.999014</td>\n",
              "      <td>0.999616</td>\n",
              "    </tr>\n",
              "    <tr>\n",
              "      <th>2</th>\n",
              "      <td>1.001331</td>\n",
              "      <td>1.000538</td>\n",
              "      <td>1.000017</td>\n",
              "      <td>1.001528</td>\n",
              "      <td>1.002331</td>\n",
              "      <td>1.001108</td>\n",
              "      <td>0.99825</td>\n",
              "      <td>1.00008</td>\n",
              "      <td>0.996793</td>\n",
              "      <td>0.999876</td>\n",
              "      <td>0.999912</td>\n",
              "      <td>0.999081</td>\n",
              "      <td>1.000335</td>\n",
              "      <td>0.997249</td>\n",
              "      <td>1.001848</td>\n",
              "      <td>1.003206</td>\n",
              "    </tr>\n",
              "    <tr>\n",
              "      <th>3</th>\n",
              "      <td>0.999283</td>\n",
              "      <td>1.000956</td>\n",
              "      <td>1.000546</td>\n",
              "      <td>1.000831</td>\n",
              "      <td>0.997973</td>\n",
              "      <td>0.999157</td>\n",
              "      <td>1.00218</td>\n",
              "      <td>1.00029</td>\n",
              "      <td>1.000345</td>\n",
              "      <td>0.998692</td>\n",
              "      <td>1.002187</td>\n",
              "      <td>1.000256</td>\n",
              "      <td>0.999698</td>\n",
              "      <td>0.999508</td>\n",
              "      <td>1.000812</td>\n",
              "      <td>0.998571</td>\n",
              "    </tr>\n",
              "    <tr>\n",
              "      <th>4</th>\n",
              "      <td>1.002078</td>\n",
              "      <td>0.998798</td>\n",
              "      <td>0.998863</td>\n",
              "      <td>1.002002</td>\n",
              "      <td>0.998903</td>\n",
              "      <td>1.001125</td>\n",
              "      <td>1.002892</td>\n",
              "      <td>1.001704</td>\n",
              "      <td>0.998551</td>\n",
              "      <td>0.999767</td>\n",
              "      <td>0.998391</td>\n",
              "      <td>1.000572</td>\n",
              "      <td>1.000867</td>\n",
              "      <td>0.998522</td>\n",
              "      <td>1.000259</td>\n",
              "      <td>0.998662</td>\n",
              "    </tr>\n",
              "    <tr>\n",
              "      <th>...</th>\n",
              "      <td>...</td>\n",
              "      <td>...</td>\n",
              "      <td>...</td>\n",
              "      <td>...</td>\n",
              "      <td>...</td>\n",
              "      <td>...</td>\n",
              "      <td>...</td>\n",
              "      <td>...</td>\n",
              "      <td>...</td>\n",
              "      <td>...</td>\n",
              "      <td>...</td>\n",
              "      <td>...</td>\n",
              "      <td>...</td>\n",
              "      <td>...</td>\n",
              "      <td>...</td>\n",
              "      <td>...</td>\n",
              "    </tr>\n",
              "    <tr>\n",
              "      <th>538</th>\n",
              "      <td>0.896745</td>\n",
              "      <td>0.900451</td>\n",
              "      <td>0.899821</td>\n",
              "      <td>0.898078</td>\n",
              "      <td>0.898737</td>\n",
              "      <td>0.899341</td>\n",
              "      <td>0.904167</td>\n",
              "      <td>0.90282</td>\n",
              "      <td>0.934527</td>\n",
              "      <td>0.908036</td>\n",
              "      <td>0.908358</td>\n",
              "      <td>0.907624</td>\n",
              "      <td>0.90825</td>\n",
              "      <td>0.909877</td>\n",
              "      <td>0.914866</td>\n",
              "      <td>0.91249</td>\n",
              "    </tr>\n",
              "    <tr>\n",
              "      <th>539</th>\n",
              "      <td>0.898365</td>\n",
              "      <td>0.898314</td>\n",
              "      <td>0.901775</td>\n",
              "      <td>0.898775</td>\n",
              "      <td>0.896349</td>\n",
              "      <td>0.898173</td>\n",
              "      <td>0.902757</td>\n",
              "      <td>0.905427</td>\n",
              "      <td>0.936075</td>\n",
              "      <td>0.907212</td>\n",
              "      <td>0.909811</td>\n",
              "      <td>0.907789</td>\n",
              "      <td>0.910408</td>\n",
              "      <td>0.910548</td>\n",
              "      <td>0.916074</td>\n",
              "      <td>0.917994</td>\n",
              "    </tr>\n",
              "    <tr>\n",
              "      <th>540</th>\n",
              "      <td>0.901988</td>\n",
              "      <td>0.903488</td>\n",
              "      <td>0.901732</td>\n",
              "      <td>0.897996</td>\n",
              "      <td>0.899176</td>\n",
              "      <td>0.89912</td>\n",
              "      <td>0.903672</td>\n",
              "      <td>0.90555</td>\n",
              "      <td>0.93834</td>\n",
              "      <td>0.908355</td>\n",
              "      <td>0.911661</td>\n",
              "      <td>0.911626</td>\n",
              "      <td>0.91199</td>\n",
              "      <td>0.911194</td>\n",
              "      <td>0.915839</td>\n",
              "      <td>0.91767</td>\n",
              "    </tr>\n",
              "    <tr>\n",
              "      <th>541</th>\n",
              "      <td>0.901858</td>\n",
              "      <td>0.902229</td>\n",
              "      <td>0.904231</td>\n",
              "      <td>0.902132</td>\n",
              "      <td>0.899535</td>\n",
              "      <td>0.899649</td>\n",
              "      <td>0.906314</td>\n",
              "      <td>0.905715</td>\n",
              "      <td>0.939989</td>\n",
              "      <td>0.911096</td>\n",
              "      <td>0.911557</td>\n",
              "      <td>0.911923</td>\n",
              "      <td>0.912441</td>\n",
              "      <td>0.912533</td>\n",
              "      <td>0.916944</td>\n",
              "      <td>0.916911</td>\n",
              "    </tr>\n",
              "    <tr>\n",
              "      <th>542</th>\n",
              "      <td>0.900596</td>\n",
              "      <td>0.903784</td>\n",
              "      <td>0.90498</td>\n",
              "      <td>0.90064</td>\n",
              "      <td>0.903436</td>\n",
              "      <td>0.902179</td>\n",
              "      <td>0.908767</td>\n",
              "      <td>0.907014</td>\n",
              "      <td>0.940937</td>\n",
              "      <td>0.910301</td>\n",
              "      <td>0.915104</td>\n",
              "      <td>0.912422</td>\n",
              "      <td>0.913317</td>\n",
              "      <td>0.915164</td>\n",
              "      <td>0.91859</td>\n",
              "      <td>0.915552</td>\n",
              "    </tr>\n",
              "  </tbody>\n",
              "</table>\n",
              "<p>543 rows × 16 columns</p>\n",
              "</div>\n",
              "      <button class=\"colab-df-convert\" onclick=\"convertToInteractive('df-e74b5343-e1ac-463e-97e8-ab4cbe774e71')\"\n",
              "              title=\"Convert this dataframe to an interactive table.\"\n",
              "              style=\"display:none;\">\n",
              "        \n",
              "  <svg xmlns=\"http://www.w3.org/2000/svg\" height=\"24px\"viewBox=\"0 0 24 24\"\n",
              "       width=\"24px\">\n",
              "    <path d=\"M0 0h24v24H0V0z\" fill=\"none\"/>\n",
              "    <path d=\"M18.56 5.44l.94 2.06.94-2.06 2.06-.94-2.06-.94-.94-2.06-.94 2.06-2.06.94zm-11 1L8.5 8.5l.94-2.06 2.06-.94-2.06-.94L8.5 2.5l-.94 2.06-2.06.94zm10 10l.94 2.06.94-2.06 2.06-.94-2.06-.94-.94-2.06-.94 2.06-2.06.94z\"/><path d=\"M17.41 7.96l-1.37-1.37c-.4-.4-.92-.59-1.43-.59-.52 0-1.04.2-1.43.59L10.3 9.45l-7.72 7.72c-.78.78-.78 2.05 0 2.83L4 21.41c.39.39.9.59 1.41.59.51 0 1.02-.2 1.41-.59l7.78-7.78 2.81-2.81c.8-.78.8-2.07 0-2.86zM5.41 20L4 18.59l7.72-7.72 1.47 1.35L5.41 20z\"/>\n",
              "  </svg>\n",
              "      </button>\n",
              "      \n",
              "  <style>\n",
              "    .colab-df-container {\n",
              "      display:flex;\n",
              "      flex-wrap:wrap;\n",
              "      gap: 12px;\n",
              "    }\n",
              "\n",
              "    .colab-df-convert {\n",
              "      background-color: #E8F0FE;\n",
              "      border: none;\n",
              "      border-radius: 50%;\n",
              "      cursor: pointer;\n",
              "      display: none;\n",
              "      fill: #1967D2;\n",
              "      height: 32px;\n",
              "      padding: 0 0 0 0;\n",
              "      width: 32px;\n",
              "    }\n",
              "\n",
              "    .colab-df-convert:hover {\n",
              "      background-color: #E2EBFA;\n",
              "      box-shadow: 0px 1px 2px rgba(60, 64, 67, 0.3), 0px 1px 3px 1px rgba(60, 64, 67, 0.15);\n",
              "      fill: #174EA6;\n",
              "    }\n",
              "\n",
              "    [theme=dark] .colab-df-convert {\n",
              "      background-color: #3B4455;\n",
              "      fill: #D2E3FC;\n",
              "    }\n",
              "\n",
              "    [theme=dark] .colab-df-convert:hover {\n",
              "      background-color: #434B5C;\n",
              "      box-shadow: 0px 1px 3px 1px rgba(0, 0, 0, 0.15);\n",
              "      filter: drop-shadow(0px 1px 2px rgba(0, 0, 0, 0.3));\n",
              "      fill: #FFFFFF;\n",
              "    }\n",
              "  </style>\n",
              "\n",
              "      <script>\n",
              "        const buttonEl =\n",
              "          document.querySelector('#df-e74b5343-e1ac-463e-97e8-ab4cbe774e71 button.colab-df-convert');\n",
              "        buttonEl.style.display =\n",
              "          google.colab.kernel.accessAllowed ? 'block' : 'none';\n",
              "\n",
              "        async function convertToInteractive(key) {\n",
              "          const element = document.querySelector('#df-e74b5343-e1ac-463e-97e8-ab4cbe774e71');\n",
              "          const dataTable =\n",
              "            await google.colab.kernel.invokeFunction('convertToInteractive',\n",
              "                                                     [key], {});\n",
              "          if (!dataTable) return;\n",
              "\n",
              "          const docLinkHtml = 'Like what you see? Visit the ' +\n",
              "            '<a target=\"_blank\" href=https://colab.research.google.com/notebooks/data_table.ipynb>data table notebook</a>'\n",
              "            + ' to learn more about interactive tables.';\n",
              "          element.innerHTML = '';\n",
              "          dataTable['output_type'] = 'display_data';\n",
              "          await google.colab.output.renderOutput(dataTable, element);\n",
              "          const docLink = document.createElement('div');\n",
              "          docLink.innerHTML = docLinkHtml;\n",
              "          element.appendChild(docLink);\n",
              "        }\n",
              "      </script>\n",
              "    </div>\n",
              "  </div>\n",
              "  "
            ]
          },
          "metadata": {},
          "execution_count": 50
        }
      ]
    },
    {
      "cell_type": "code",
      "source": [
        "#@title Concentration dependence of the kinetic parameters. { run: \"auto\" }\n",
        "\n",
        "#@markdown Choose the variable name:\n",
        "string = \"L\" #@param [\"A_total\",\"I\", \"rate1\", \"rate2\", \"A_1\", \"A_2\", \"L\"]\n",
        "fig=plt.subplot(111)\n",
        "plt.errorbar(cideal,np.median(trace[string],axis=0),yerr=np.abs(pm.hdi(trace[string]).T-np.median(trace[string],axis=0)))\n",
        "fig.set_xscale('log')"
      ],
      "metadata": {
        "colab": {
          "base_uri": "https://localhost:8080/",
          "height": 324
        },
        "id": "jy6L8---Yu3g",
        "outputId": "7ca8205e-d5f0-46d5-a006-a62054d10bfb"
      },
      "execution_count": null,
      "outputs": [
        {
          "output_type": "stream",
          "name": "stderr",
          "text": [
            "/usr/local/lib/python3.7/dist-packages/ipykernel_launcher.py:6: FutureWarning: hdi currently interprets 2d data as (draw, shape) but this will change in a future release to (chain, draw) for coherence with other functions\n",
            "  \n"
          ]
        },
        {
          "output_type": "display_data",
          "data": {
            "text/plain": [
              "<Figure size 432x288 with 1 Axes>"
            ],
            "image/png": "[encoded data removed]"
          },
          "metadata": {
            "needs_background": "light"
          }
        }
      ]
    },
    {
      "cell_type": "code",
      "source": [
        "#@title Posterior distribution of model parameters. { run: \"auto\" }\n",
        "\n",
        "#@markdown Choose the variable name:\n",
        "string = \"U\" #@param [\"K_D\",\"B\",\"U\",\"epsilon\",\"A_total\",\"I\", \"rate1\", \"rate2\", \"A_1\", \"A_2\", \"L\"]\n",
        "with model:\n",
        "  ax=pm.traceplot(trace[0:],[string],combined=True)"
      ],
      "metadata": {
        "colab": {
          "base_uri": "https://localhost:8080/",
          "height": 226
        },
        "id": "i7Pl-BazZxcB",
        "outputId": "98c76e21-a1a5-4faa-ea7e-e75ab0f905a7"
      },
      "execution_count": null,
      "outputs": [
        {
          "output_type": "stream",
          "name": "stderr",
          "text": [
            "/usr/local/lib/python3.7/dist-packages/ipykernel_launcher.py:6: DeprecationWarning: The function `traceplot` from PyMC3 is just an alias for `plot_trace` from ArviZ. Please switch to `pymc3.plot_trace` or `arviz.plot_trace`.\n",
            "  \n"
          ]
        },
        {
          "output_type": "display_data",
          "data": {
            "text/plain": [
              "<Figure size 864x144 with 2 Axes>"
            ],
            "image/png": "[encoded data removed]"
          },
          "metadata": {
            "needs_background": "light"
          }
        }
      ]
    }
  ]
}