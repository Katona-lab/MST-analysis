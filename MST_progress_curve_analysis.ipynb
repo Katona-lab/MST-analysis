{
  "nbformat": 4,
  "nbformat_minor": 0,
  "metadata": {
    "colab": {
      "name": "MST_progress_curve_analysis.ipynb",
      "provenance": [],
      "authorship_tag": "ABX9TyO1Az6mpZtvd662SX+1SUy8",
      "include_colab_link": true
    },
    "kernelspec": {
      "name": "python3",
      "display_name": "Python 3"
    },
    "language_info": {
      "name": "python"
    },
    "widgets": {
      "application/vnd.jupyter.widget-state+json": {
        "f37e65bebe1a4895aa3a31ca12b4cfd2": {
          "model_module": "@jupyter-widgets/controls",
          "model_name": "HBoxModel",
          "model_module_version": "1.5.0",
          "state": {
            "_dom_classes": [],
            "_model_module": "@jupyter-widgets/controls",
            "_model_module_version": "1.5.0",
            "_model_name": "HBoxModel",
            "_view_count": null,
            "_view_module": "@jupyter-widgets/controls",
            "_view_module_version": "1.5.0",
            "_view_name": "HBoxView",
            "box_style": "",
            "children": [
              "IPY_MODEL_bbec6fa06d4841b78c9018d6ebd93c3d",
              "IPY_MODEL_4641cfdad041434f8820f75144caf631"
            ],
            "layout": "IPY_MODEL_65359c46d09d4f2ea29decb3c7dfe3b5"
          }
        },
        "bbec6fa06d4841b78c9018d6ebd93c3d": {
          "model_module": "@jupyter-widgets/controls",
          "model_name": "VBoxModel",
          "model_module_version": "1.5.0",
          "state": {
            "_dom_classes": [],
            "_model_module": "@jupyter-widgets/controls",
            "_model_module_version": "1.5.0",
            "_model_name": "VBoxModel",
            "_view_count": null,
            "_view_module": "@jupyter-widgets/controls",
            "_view_module_version": "1.5.0",
            "_view_name": "VBoxView",
            "box_style": "",
            "children": [
              "IPY_MODEL_55c3f42eaa544ebaab83697dc8480de9",
              "IPY_MODEL_05eb915c950748e5b515217595cd7f71"
            ],
            "layout": "IPY_MODEL_2f1d7a0dd4af442eb9b547f7198aa98a"
          }
        },
        "4641cfdad041434f8820f75144caf631": {
          "model_module": "@jupyter-widgets/output",
          "model_name": "OutputModel",
          "model_module_version": "1.0.0",
          "state": {
            "_dom_classes": [],
            "_model_module": "@jupyter-widgets/output",
            "_model_module_version": "1.0.0",
            "_model_name": "OutputModel",
            "_view_count": null,
            "_view_module": "@jupyter-widgets/output",
            "_view_module_version": "1.0.0",
            "_view_name": "OutputView",
            "layout": "IPY_MODEL_9bf8d754c78447a8bbadd8fd8c069106",
            "msg_id": "",
            "outputs": [
              {
                "output_type": "display_data",
                "data": {
                  "text/plain": "<Figure size 432x288 with 1 Axes>",
                  "image/png": "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\n"
                },
                "metadata": {
                  "needs_background": "light"
                }
              }
            ]
          }
        },
        "65359c46d09d4f2ea29decb3c7dfe3b5": {
          "model_module": "@jupyter-widgets/base",
          "model_name": "LayoutModel",
          "model_module_version": "1.2.0",
          "state": {
            "_model_module": "@jupyter-widgets/base",
            "_model_module_version": "1.2.0",
            "_model_name": "LayoutModel",
            "_view_count": null,
            "_view_module": "@jupyter-widgets/base",
            "_view_module_version": "1.2.0",
            "_view_name": "LayoutView",
            "align_content": null,
            "align_items": null,
            "align_self": null,
            "border": null,
            "bottom": null,
            "display": null,
            "flex": null,
            "flex_flow": null,
            "grid_area": null,
            "grid_auto_columns": null,
            "grid_auto_flow": null,
            "grid_auto_rows": null,
            "grid_column": null,
            "grid_gap": null,
            "grid_row": null,
            "grid_template_areas": null,
            "grid_template_columns": null,
            "grid_template_rows": null,
            "height": null,
            "justify_content": null,
            "justify_items": null,
            "left": null,
            "margin": null,
            "max_height": null,
            "max_width": null,
            "min_height": null,
            "min_width": null,
            "object_fit": null,
            "object_position": null,
            "order": null,
            "overflow": null,
            "overflow_x": null,
            "overflow_y": null,
            "padding": null,
            "right": null,
            "top": null,
            "visibility": null,
            "width": null
          }
        },
        "55c3f42eaa544ebaab83697dc8480de9": {
          "model_module": "@jupyter-widgets/controls",
          "model_name": "IntRangeSliderModel",
          "model_module_version": "1.5.0",
          "state": {
            "_dom_classes": [],
            "_model_module": "@jupyter-widgets/controls",
            "_model_module_version": "1.5.0",
            "_model_name": "IntRangeSliderModel",
            "_view_count": null,
            "_view_module": "@jupyter-widgets/controls",
            "_view_module_version": "1.5.0",
            "_view_name": "IntRangeSliderView",
            "continuous_update": false,
            "description": "Data_range:",
            "description_tooltip": null,
            "disabled": false,
            "layout": "IPY_MODEL_938bb9bf4e9141fbb0d247f2c3ed4e13",
            "max": 543,
            "min": 0,
            "orientation": "horizontal",
            "readout": true,
            "readout_format": "d",
            "step": 1,
            "style": "IPY_MODEL_238eb659c7ba4614b8f9d3aeb7a796e6",
            "value": [
              0,
              456
            ]
          }
        },
        "05eb915c950748e5b515217595cd7f71": {
          "model_module": "@jupyter-widgets/controls",
          "model_name": "IntSliderModel",
          "model_module_version": "1.5.0",
          "state": {
            "_dom_classes": [],
            "_model_module": "@jupyter-widgets/controls",
            "_model_module_version": "1.5.0",
            "_model_name": "IntSliderModel",
            "_view_count": null,
            "_view_module": "@jupyter-widgets/controls",
            "_view_module_version": "1.5.0",
            "_view_name": "IntSliderView",
            "continuous_update": true,
            "description": "IR_pos:",
            "description_tooltip": null,
            "disabled": false,
            "layout": "IPY_MODEL_fb7d7deff1c447c29815c70f5470c8d5",
            "max": 543,
            "min": 0,
            "orientation": "horizontal",
            "readout": true,
            "readout_format": "d",
            "step": 1,
            "style": "IPY_MODEL_d988d9a2a5f74c0e9d6ffd6453bfb6e3",
            "value": 75
          }
        },
        "2f1d7a0dd4af442eb9b547f7198aa98a": {
          "model_module": "@jupyter-widgets/base",
          "model_name": "LayoutModel",
          "model_module_version": "1.2.0",
          "state": {
            "_model_module": "@jupyter-widgets/base",
            "_model_module_version": "1.2.0",
            "_model_name": "LayoutModel",
            "_view_count": null,
            "_view_module": "@jupyter-widgets/base",
            "_view_module_version": "1.2.0",
            "_view_name": "LayoutView",
            "align_content": null,
            "align_items": null,
            "align_self": null,
            "border": null,
            "bottom": null,
            "display": null,
            "flex": null,
            "flex_flow": null,
            "grid_area": null,
            "grid_auto_columns": null,
            "grid_auto_flow": null,
            "grid_auto_rows": null,
            "grid_column": null,
            "grid_gap": null,
            "grid_row": null,
            "grid_template_areas": null,
            "grid_template_columns": null,
            "grid_template_rows": null,
            "height": null,
            "justify_content": null,
            "justify_items": null,
            "left": null,
            "margin": null,
            "max_height": null,
            "max_width": null,
            "min_height": null,
            "min_width": null,
            "object_fit": null,
            "object_position": null,
            "order": null,
            "overflow": null,
            "overflow_x": null,
            "overflow_y": null,
            "padding": null,
            "right": null,
            "top": null,
            "visibility": null,
            "width": null
          }
        },
        "938bb9bf4e9141fbb0d247f2c3ed4e13": {
          "model_module": "@jupyter-widgets/base",
          "model_name": "LayoutModel",
          "model_module_version": "1.2.0",
          "state": {
            "_model_module": "@jupyter-widgets/base",
            "_model_module_version": "1.2.0",
            "_model_name": "LayoutModel",
            "_view_count": null,
            "_view_module": "@jupyter-widgets/base",
            "_view_module_version": "1.2.0",
            "_view_name": "LayoutView",
            "align_content": null,
            "align_items": null,
            "align_self": null,
            "border": null,
            "bottom": null,
            "display": null,
            "flex": null,
            "flex_flow": null,
            "grid_area": null,
            "grid_auto_columns": null,
            "grid_auto_flow": null,
            "grid_auto_rows": null,
            "grid_column": null,
            "grid_gap": null,
            "grid_row": null,
            "grid_template_areas": null,
            "grid_template_columns": null,
            "grid_template_rows": null,
            "height": null,
            "justify_content": null,
            "justify_items": null,
            "left": null,
            "margin": null,
            "max_height": null,
            "max_width": null,
            "min_height": null,
            "min_width": null,
            "object_fit": null,
            "object_position": null,
            "order": null,
            "overflow": null,
            "overflow_x": null,
            "overflow_y": null,
            "padding": null,
            "right": null,
            "top": null,
            "visibility": null,
            "width": null
          }
        },
        "238eb659c7ba4614b8f9d3aeb7a796e6": {
          "model_module": "@jupyter-widgets/controls",
          "model_name": "SliderStyleModel",
          "model_module_version": "1.5.0",
          "state": {
            "_model_module": "@jupyter-widgets/controls",
            "_model_module_version": "1.5.0",
            "_model_name": "SliderStyleModel",
            "_view_count": null,
            "_view_module": "@jupyter-widgets/base",
            "_view_module_version": "1.2.0",
            "_view_name": "StyleView",
            "description_width": "",
            "handle_color": null
          }
        },
        "fb7d7deff1c447c29815c70f5470c8d5": {
          "model_module": "@jupyter-widgets/base",
          "model_name": "LayoutModel",
          "model_module_version": "1.2.0",
          "state": {
            "_model_module": "@jupyter-widgets/base",
            "_model_module_version": "1.2.0",
            "_model_name": "LayoutModel",
            "_view_count": null,
            "_view_module": "@jupyter-widgets/base",
            "_view_module_version": "1.2.0",
            "_view_name": "LayoutView",
            "align_content": null,
            "align_items": null,
            "align_self": null,
            "border": null,
            "bottom": null,
            "display": null,
            "flex": null,
            "flex_flow": null,
            "grid_area": null,
            "grid_auto_columns": null,
            "grid_auto_flow": null,
            "grid_auto_rows": null,
            "grid_column": null,
            "grid_gap": null,
            "grid_row": null,
            "grid_template_areas": null,
            "grid_template_columns": null,
            "grid_template_rows": null,
            "height": null,
            "justify_content": null,
            "justify_items": null,
            "left": null,
            "margin": null,
            "max_height": null,
            "max_width": null,
            "min_height": null,
            "min_width": null,
            "object_fit": null,
            "object_position": null,
            "order": null,
            "overflow": null,
            "overflow_x": null,
            "overflow_y": null,
            "padding": null,
            "right": null,
            "top": null,
            "visibility": null,
            "width": null
          }
        },
        "d988d9a2a5f74c0e9d6ffd6453bfb6e3": {
          "model_module": "@jupyter-widgets/controls",
          "model_name": "SliderStyleModel",
          "model_module_version": "1.5.0",
          "state": {
            "_model_module": "@jupyter-widgets/controls",
            "_model_module_version": "1.5.0",
            "_model_name": "SliderStyleModel",
            "_view_count": null,
            "_view_module": "@jupyter-widgets/base",
            "_view_module_version": "1.2.0",
            "_view_name": "StyleView",
            "description_width": "",
            "handle_color": null
          }
        },
        "9bf8d754c78447a8bbadd8fd8c069106": {
          "model_module": "@jupyter-widgets/base",
          "model_name": "LayoutModel",
          "model_module_version": "1.2.0",
          "state": {
            "_model_module": "@jupyter-widgets/base",
            "_model_module_version": "1.2.0",
            "_model_name": "LayoutModel",
            "_view_count": null,
            "_view_module": "@jupyter-widgets/base",
            "_view_module_version": "1.2.0",
            "_view_name": "LayoutView",
            "align_content": null,
            "align_items": null,
            "align_self": null,
            "border": null,
            "bottom": null,
            "display": null,
            "flex": null,
            "flex_flow": null,
            "grid_area": null,
            "grid_auto_columns": null,
            "grid_auto_flow": null,
            "grid_auto_rows": null,
            "grid_column": null,
            "grid_gap": null,
            "grid_row": null,
            "grid_template_areas": null,
            "grid_template_columns": null,
            "grid_template_rows": null,
            "height": null,
            "justify_content": null,
            "justify_items": null,
            "left": null,
            "margin": null,
            "max_height": null,
            "max_width": null,
            "min_height": null,
            "min_width": null,
            "object_fit": null,
            "object_position": null,
            "order": null,
            "overflow": null,
            "overflow_x": null,
            "overflow_y": null,
            "padding": null,
            "right": null,
            "top": null,
            "visibility": null,
            "width": null
          }
        }
      }
    }
  },
  "cells": [
    {
      "cell_type": "markdown",
      "metadata": {
        "id": "view-in-github",
        "colab_type": "text"
      },
      "source": [
        "<a href=\"https://colab.research.google.com/github/Katona-lab/MST-anlysis/blob/main/MST_progress_curve_analysis.ipynb\" target=\"_parent\"><img src=\"https://colab.research.google.com/assets/colab-badge.svg\" alt=\"Open In Colab\"/></a>"
      ]
    },
    {
      "cell_type": "code",
      "source": [
        "#@title STEP 1: Start here by selecting an Excel MST file exported by the Nanotemper software.\n",
        "#@markdown To activate a step press the Play button on the left. Run the steps sequentially, but chose only one alternative if alternative steps are offered.<p>\n",
        "#@markdown Please cite this article: <p>\n",
        "#@markdown Atsarina Larasati Anindya, Maria-Jose Garcia-Bonete, Maja Jensen, Christian V. Recktenwald, Maria Bokarewa and Gergely Katona <i>Bayesian Progress Curve Analysis of MicroScale Thermophoresis Data.</i>\n",
        "#@markdown (2022) <b><i>Digital discovery</i></b>\n",
        "# (c) 2022 Gergely Katona <gergely.katona@gu.se>\n",
        "import io\n",
        "import pandas as pd\n",
        "from google.colab import files\n",
        "import numpy as np\n",
        "import pymc3 as pm\n",
        "import pylab as plt\n",
        "import theano.tensor as T\n",
        "from pymc3.math import switch\n",
        "\n",
        "#Experimental data description \n",
        "uploaded = files.upload()\n",
        "\n",
        "df=pd.read_excel(io.BytesIO(uploaded[list(uploaded.keys())[0]]))\n",
        "\n",
        "ligpos=df.loc[df.iloc[:,0] == 'Ligand Concentration:'].index[0]\n",
        "firsttimepos=df.loc[df.iloc[:,0] == 'Time [s]'].index[0]\n",
        "targind=df.loc[df.iloc[:,0] == 'TargetConcentration:'].index[0]\n",
        "FluoConc=df.iloc[targind,1]\n",
        "\n",
        "cideal=df.iloc[ligpos,1::3]\n",
        "onedtime=df.iloc[firsttimepos+1:,0].reset_index(drop=True)\n",
        "firstIRtimepos=onedtime.loc[onedtime==0].index[0]\n",
        "fluorescence=df.iloc[firsttimepos+1:,1::3].reset_index(drop=True)\n",
        "fluorescence=fluorescence.T.reset_index(drop=True).T\n",
        "Capillary=len(cideal)\n",
        "start_t=onedtime.iloc[0]\n",
        "end_t=onedtime.iloc[-1]\n",
        "print (\"The data starts at position %i, which corresponds to %f s.\" % (0,start_t))\n",
        "print (\"The data ends at position %i, which corresponds to %f s.\" % (len(onedtime),end_t))\n",
        "print (\"The IR laser is supposed to be ON from position %i, which corresponds to 0 s.\"% (firstIRtimepos))\n",
        "print (\"The target concentration is %E .\"% FluoConc)\n",
        "print (\"%i capillaries were used.\" % Capillary)\n",
        "print (\"The ligand concentrations are %s . \"% list(cideal))\n",
        "print (\"Units hopefully are in nM (due to the numerical limits of KD prior) and the KD will be expressed in the same unit. If these concentrations are invalid, please edit them in the input excel file.\")"
      ],
      "metadata": {
        "colab": {
          "resources": {
            "http://localhost:8080/nbextensions/google.colab/files.js": {
              "data": "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",
              "ok": true,
              "headers": [
                [
                  "content-type",
                  "application/javascript"
                ]
              ],
              "status": 200,
              "status_text": "OK"
            }
          },
          "base_uri": "https://localhost:8080/",
          "height": 215
        },
        "id": "ZCsUQyVH106b",
        "outputId": "71cd82a2-56ae-4e60-ed6d-b7c0721f97dc",
        "cellView": "form"
      },
      "execution_count": null,
      "outputs": [
        {
          "output_type": "display_data",
          "data": {
            "text/plain": [
              "<IPython.core.display.HTML object>"
            ],
            "text/html": [
              "\n",
              "     <input type=\"file\" id=\"files-5da11362-57c8-4e87-b776-b45499e7443c\" name=\"files[]\" multiple disabled\n",
              "        style=\"border:none\" />\n",
              "     <output id=\"result-5da11362-57c8-4e87-b776-b45499e7443c\">\n",
              "      Upload widget is only available when the cell has been executed in the\n",
              "      current browser session. Please rerun this cell to enable.\n",
              "      </output>\n",
              "      <script src=\"/nbextensions/google.colab/files.js\"></script> "
            ]
          },
          "metadata": {}
        },
        {
          "output_type": "stream",
          "name": "stdout",
          "text": [
            "Saving MSTTraces_Sgo2_run1.xlsx to MSTTraces_Sgo2_run1 (1).xlsx\n",
            "The data starts at position 0, which corresponds to -5.514154 s.\n",
            "The data ends at position 543, which corresponds to 34.947815 s.\n",
            "The IR laser is supposed to be ON from position 73, which corresponds to 0 s.\n",
            "The target concentration is 2.000000E+01 .\n",
            "16 capillaries were used.\n",
            "The ligand concentrations are [500000, 250000, 125000, 62500, 31250, 15625, 7812.5, 3906.25, 1953.125, 976.5625, 488.2813, 244.1406, 122.0703, 61.0352, 30.5176, 15.2588] . \n",
            "Units hopefully agree and the KD will be expressed in the same unit. If these concentrations are invalid, please edit them in the input excel file.\n"
          ]
        }
      ]
    },
    {
      "cell_type": "code",
      "source": [
        "#@title STEP 2: Displaying and verifying the data. Adjusting data range and laser start. { run: \"auto\" }\n",
        "import ipywidgets as widgets\n",
        "from IPython.display import display\n",
        "#@markdown Step 2.1: Inspect the progress curve. Is this the data you want to model? The program tries to guess a suitable end point automatically, by choosing the minimum of Fnorm. This initial guess will vary from capillary to capillary, but once you start modelling the last displayed end data point will be used for for all capillaries. Please feel free to override data range according to your wishes, keep in mind that linear kinetic processes can increase Fnorm after the exponential processes finished and the model has a chance to deal with them. In that case, feel free to extend the data range beyond the time Fnorm reaches the absolute minimum.<p>\n",
        "#@markdown Step 2.2: Zoom in with the sliders to the laser start point and adjust to the point where the Fnorm starts to drop rapidly. Experience shows that there is a few ms delay between time 0 of the instrument and the first sign of response in Fnorm. An empirical delay is already automatically applied to the laser start.<p>\n",
        "#@markdown Step 2.3: Reset the end slider to the end of the IR irradiation period or any point earlier. The model does not take into account the recovery phase after the IR laser is swiched off.\n",
        "Cap_display = \"16\" #@param [\"1\", \"2\", \"3\", \"4\", \"5\", \"6\", \"7\", \"8\", \"9\", \"10\", \"11\", \"12\", \"13\", \"14\", \"15\", \"16\"]\n",
        "\n",
        "Data_range=widgets.IntRangeSlider(\n",
        "    value=[0, fluorescence[int(Capillary)-1].astype(float).idxmin()],\n",
        "    min=0,\n",
        "    max=len(onedtime),\n",
        "    step=1,\n",
        "    description='Data_range:',\n",
        "    disabled=False,\n",
        "    continuous_update=False,\n",
        "    orientation='horizontal',\n",
        "    readout=True,\n",
        "    readout_format='d',\n",
        ")\n",
        "\n",
        "\n",
        "IR_pos=widgets.IntSlider(\n",
        "    value=firstIRtimepos+2,\n",
        "    min=0,\n",
        "    max=len(onedtime),\n",
        "    step=1,\n",
        "    description='IR_pos:',\n",
        "    disabled=False\n",
        ")\n",
        "\n",
        "def f(Data_range, IR_pos):\n",
        "    Start_pos,End_pos=Data_range\n",
        "    fig, ax = plt.subplots()\n",
        "    ax.plot(onedtime[Start_pos:End_pos],fluorescence[int(Cap_display)-1].astype(float).iloc[Start_pos:End_pos], color='gray')\n",
        "    ax.annotate('IR laser', \n",
        "            xy=(onedtime[IR_pos], 1), \n",
        "            xytext=(onedtime[IR_pos], 0.95), \n",
        "            arrowprops = dict(facecolor='red', shrink=0.05)\n",
        "    )\n",
        "    plt.xlabel (\"Time (s)\")\n",
        "    plt.ylabel (r\"$F_{norm}$\")\n",
        "out = widgets.interactive_output(f, {'Data_range': Data_range, 'IR_pos': IR_pos})\n",
        "\n",
        "widgets.HBox([widgets.VBox([Data_range, IR_pos]), out])\n",
        "\n"
      ],
      "metadata": {
        "id": "ZlemQ5w9m5KJ",
        "outputId": "40ee6a97-3fad-4b91-9287-1631c3bc3693",
        "colab": {
          "base_uri": "https://localhost:8080/",
          "height": 279,
          "referenced_widgets": [
            "f37e65bebe1a4895aa3a31ca12b4cfd2",
            "bbec6fa06d4841b78c9018d6ebd93c3d",
            "4641cfdad041434f8820f75144caf631",
            "65359c46d09d4f2ea29decb3c7dfe3b5",
            "55c3f42eaa544ebaab83697dc8480de9",
            "05eb915c950748e5b515217595cd7f71",
            "2f1d7a0dd4af442eb9b547f7198aa98a",
            "938bb9bf4e9141fbb0d247f2c3ed4e13",
            "238eb659c7ba4614b8f9d3aeb7a796e6",
            "fb7d7deff1c447c29815c70f5470c8d5",
            "d988d9a2a5f74c0e9d6ffd6453bfb6e3",
            "9bf8d754c78447a8bbadd8fd8c069106"
          ]
        },
        "cellView": "form"
      },
      "execution_count": null,
      "outputs": [
        {
          "output_type": "display_data",
          "data": {
            "text/plain": [
              "HBox(children=(VBox(children=(IntRangeSlider(value=(0, 456), continuous_update=False, description='Data_range:…"
            ],
            "application/vnd.jupyter.widget-view+json": {
              "version_major": 2,
              "version_minor": 0,
              "model_id": "f37e65bebe1a4895aa3a31ca12b4cfd2"
            }
          },
          "metadata": {}
        }
      ]
    },
    {
      "cell_type": "code",
      "source": [
        "#@title STEP 3.1 (Alternative 1): Perform the MCMC sampling (linear phase starts before the IR irradiation)\n",
        "#@markdown Use scenario: The fluroescence signal (Fnorm) is not stable at 1 before IR irradiation. Possible reasons: photodamage, unstable protein, not fully equilibrated target:ligand interaction.\n",
        "\n",
        "#@markdown Enter the number of tuning and sampling steps for the Markov Chain Monte Carlo algorithm. Decrease these only if you know what you are doing.\n",
        "Tuning = 1000 #@param {type:\"number\"}\n",
        "Samples = 2000 #@param {type:\"number\"}\n",
        "\n",
        "IR=IR_pos.value\n",
        "start,end=Data_range.value\n",
        "cap=int(Capillary)\n",
        "time=np.array([onedtime[:,]]*cap,dtype=float).transpose()\n",
        "with pm.Model() as model:\n",
        "    K_D = pm.Uniform('K_D', 1, 1e6)\n",
        "    BoundedNormal = pm.Bound(pm.Normal, lower=0, upper=1e8)\n",
        "    c_fl = BoundedNormal('c_fl',mu=FluoConc,sd=FluoConc/10.0)\n",
        "\n",
        "    U=pm.Beta('U',alpha=1,beta=1)\n",
        "    B=pm.Beta('B',alpha=1,beta=1)\n",
        "    A_total=pm.Deterministic('A_total', U + (B-U)*((c_fl + cideal.astype(float) + K_D - pm.math.sqrt(pm.math.sqr(c_fl + cideal.astype(float) + K_D) - 4.0*c_fl*cideal.astype(float)))/(2*c_fl)))\n",
        "    \n",
        "    L=pm.Uniform('L',-1,1, shape=cap)\n",
        "    I=pm.Deterministic('I',1+L*start_t-A_total)\n",
        "    R=pm.Beta('R',alpha=2,beta=1, shape=cap)\n",
        "    A_1=pm.Deterministic('A_1',A_total*R)\n",
        "    A_2=pm.Deterministic('A_2',A_total*(1-R))\n",
        "    rate1=pm.Lognormal('rate1',0,1, shape=cap)\n",
        "    rate2=pm.Lognormal('rate2',0,1, shape=cap)\n",
        "\n",
        "    linearphase=L*(time-start_t)\n",
        "    E_1=A_1*pm.math.exp(-1.0*rate1*time)\n",
        "    E_2=A_2*pm.math.exp(-1.0*rate2*time)\n",
        "\n",
        "    epsilon = pm.Lognormal('epsilon', 0, 1)\n",
        "    laseron=np.tile(np.arange(0, len(onedtime)), (cap,1)).T\n",
        "\n",
        "    pr = switch(IR >= laseron, 1.0+linearphase, linearphase+I+E_1+E_2)\n",
        "\n",
        "\n",
        "    P = pm.Normal('P', mu=pr[start:end], sd=epsilon, observed=fluorescence.astype(float).iloc[start:end])\n",
        "\n",
        "\n",
        "with model:\n",
        "    trace = pm.sampling.sample(Samples, tune=Tuning,\n",
        "                      init='ADVI'\n",
        "                     )\n",
        "    \n",
        "with model:\n",
        "    ppc = pm.sample_posterior_predictive(trace, samples=1000 ,model=model)"
      ],
      "metadata": {
        "id": "smyOSMXv5QpD",
        "outputId": "4ce778da-d6fb-442d-8017-b6ffded59160",
        "colab": {
          "base_uri": "https://localhost:8080/",
          "height": 323
        },
        "cellView": "form"
      },
      "execution_count": null,
      "outputs": [
        {
          "output_type": "stream",
          "name": "stderr",
          "text": [
            "/usr/local/lib/python3.7/dist-packages/ipykernel_launcher.py:44: FutureWarning: In v4.0, pm.sample will return an `arviz.InferenceData` object instead of a `MultiTrace` by default. You can pass return_inferencedata=True or return_inferencedata=False to be safe and silence this warning.\n",
            "Auto-assigning NUTS sampler...\n",
            "Initializing NUTS using advi...\n"
          ]
        },
        {
          "output_type": "display_data",
          "data": {
            "text/plain": [
              "<IPython.core.display.HTML object>"
            ],
            "text/html": [
              "\n",
              "<style>\n",
              "    /* Turns off some styling */\n",
              "    progress {\n",
              "        /* gets rid of default border in Firefox and Opera. */\n",
              "        border: none;\n",
              "        /* Needs to be in here for Safari polyfill so background images work as expected. */\n",
              "        background-size: auto;\n",
              "    }\n",
              "    .progress-bar-interrupted, .progress-bar-interrupted::-webkit-progress-bar {\n",
              "        background: #F44336;\n",
              "    }\n",
              "</style>\n"
            ]
          },
          "metadata": {}
        },
        {
          "output_type": "display_data",
          "data": {
            "text/plain": [
              "<IPython.core.display.HTML object>"
            ],
            "text/html": [
              "\n",
              "    <div>\n",
              "      <progress value='66512' class='' max='200000' style='width:300px; height:20px; vertical-align: middle;'></progress>\n",
              "      33.26% [66512/200000 01:18<02:38 Average Loss = -32,879]\n",
              "    </div>\n",
              "    "
            ]
          },
          "metadata": {}
        },
        {
          "output_type": "stream",
          "name": "stderr",
          "text": [
            "Convergence achieved at 66600\n",
            "Interrupted at 66,599 [33%]: Average Loss = 1.4737e+13\n",
            "Sequential sampling (2 chains in 1 job)\n",
            "NUTS: [epsilon, rate2, rate1, R, L, B, U, c_fl, K_D]\n"
          ]
        },
        {
          "output_type": "display_data",
          "data": {
            "text/plain": [
              "<IPython.core.display.HTML object>"
            ],
            "text/html": [
              "\n",
              "<style>\n",
              "    /* Turns off some styling */\n",
              "    progress {\n",
              "        /* gets rid of default border in Firefox and Opera. */\n",
              "        border: none;\n",
              "        /* Needs to be in here for Safari polyfill so background images work as expected. */\n",
              "        background-size: auto;\n",
              "    }\n",
              "    .progress-bar-interrupted, .progress-bar-interrupted::-webkit-progress-bar {\n",
              "        background: #F44336;\n",
              "    }\n",
              "</style>\n"
            ]
          },
          "metadata": {}
        },
        {
          "output_type": "display_data",
          "data": {
            "text/plain": [
              "<IPython.core.display.HTML object>"
            ],
            "text/html": [
              "\n",
              "    <div>\n",
              "      <progress value='3000' class='' max='3000' style='width:300px; height:20px; vertical-align: middle;'></progress>\n",
              "      100.00% [3000/3000 26:25<00:00 Sampling chain 0, 0 divergences]\n",
              "    </div>\n",
              "    "
            ]
          },
          "metadata": {}
        },
        {
          "output_type": "display_data",
          "data": {
            "text/plain": [
              "<IPython.core.display.HTML object>"
            ],
            "text/html": [
              "\n",
              "<style>\n",
              "    /* Turns off some styling */\n",
              "    progress {\n",
              "        /* gets rid of default border in Firefox and Opera. */\n",
              "        border: none;\n",
              "        /* Needs to be in here for Safari polyfill so background images work as expected. */\n",
              "        background-size: auto;\n",
              "    }\n",
              "    .progress-bar-interrupted, .progress-bar-interrupted::-webkit-progress-bar {\n",
              "        background: #F44336;\n",
              "    }\n",
              "</style>\n"
            ]
          },
          "metadata": {}
        },
        {
          "output_type": "display_data",
          "data": {
            "text/plain": [
              "<IPython.core.display.HTML object>"
            ],
            "text/html": [
              "\n",
              "    <div>\n",
              "      <progress value='3000' class='' max='3000' style='width:300px; height:20px; vertical-align: middle;'></progress>\n",
              "      100.00% [3000/3000 28:03<00:00 Sampling chain 1, 0 divergences]\n",
              "    </div>\n",
              "    "
            ]
          },
          "metadata": {}
        },
        {
          "output_type": "stream",
          "name": "stderr",
          "text": [
            "Sampling 2 chains for 1_000 tune and 2_000 draw iterations (2_000 + 4_000 draws total) took 3269 seconds.\n",
            "The number of effective samples is smaller than 25% for some parameters.\n",
            "/usr/local/lib/python3.7/dist-packages/pymc3/sampling.py:1690: UserWarning: samples parameter is smaller than nchains times ndraws, some draws and/or chains may not be represented in the returned posterior predictive sample\n",
            "  \"samples parameter is smaller than nchains times ndraws, some draws \"\n"
          ]
        },
        {
          "output_type": "display_data",
          "data": {
            "text/plain": [
              "<IPython.core.display.HTML object>"
            ],
            "text/html": [
              "\n",
              "<style>\n",
              "    /* Turns off some styling */\n",
              "    progress {\n",
              "        /* gets rid of default border in Firefox and Opera. */\n",
              "        border: none;\n",
              "        /* Needs to be in here for Safari polyfill so background images work as expected. */\n",
              "        background-size: auto;\n",
              "    }\n",
              "    .progress-bar-interrupted, .progress-bar-interrupted::-webkit-progress-bar {\n",
              "        background: #F44336;\n",
              "    }\n",
              "</style>\n"
            ]
          },
          "metadata": {}
        },
        {
          "output_type": "display_data",
          "data": {
            "text/plain": [
              "<IPython.core.display.HTML object>"
            ],
            "text/html": [
              "\n",
              "    <div>\n",
              "      <progress value='1000' class='' max='1000' style='width:300px; height:20px; vertical-align: middle;'></progress>\n",
              "      100.00% [1000/1000 00:07<00:00]\n",
              "    </div>\n",
              "    "
            ]
          },
          "metadata": {}
        }
      ]
    },
    {
      "cell_type": "code",
      "source": [
        "#@title STEP 3.2 (Alternative 2): Perform the MCMC sampling (linear phase starts at time 0)\n",
        "#@markdown Use scenario: Fnorm is stable at 1 before IR irradiation, but after irradiation there is a trendlike increase or decrease in at least some of the progress curves. Possible causes: temperature induced denaturation of proteins, direct IR absorption in protein results in an electrodynamic interaction between the target and the ligand.\n",
        "\n",
        "\n",
        "#@markdown Enter the number of tuning and sampling steps for the Markov Chain Monte Carlo algorithm. Decrease these only if you know what you are doing.\n",
        "Tuning = 1000 #@param {type:\"number\"}\n",
        "Samples = 2000 #@param {type:\"number\"}\n",
        "\n",
        "IR=IR_pos.value\n",
        "start,end=Data_range.value\n",
        "cap=int(Capillary)\n",
        "time=np.array([onedtime[:,]]*cap,dtype=float).transpose()\n",
        "with pm.Model() as model:\n",
        "    K_D = pm.Uniform('K_D', 1, 1e6)\n",
        "    BoundedNormal = pm.Bound(pm.Normal, lower=0, upper=1e8)\n",
        "    c_fl = BoundedNormal('c_fl',mu=FluoConc,sd=FluoConc/10.0)\n",
        "\n",
        "    U=pm.Beta('U',alpha=1,beta=1)\n",
        "    B=pm.Beta('B',alpha=1,beta=1)\n",
        "    A_total=pm.Deterministic('A_total', U + (B-U)*((c_fl + cideal.astype(float) + K_D - pm.math.sqrt(pm.math.sqr(c_fl + cideal.astype(float) + K_D) - 4.0*c_fl*cideal.astype(float)))/(2*c_fl)))\n",
        "    \n",
        "    L=pm.Uniform('L',-1,1, shape=cap)\n",
        "    I=pm.Deterministic('I',1-A_total)\n",
        "    R=pm.Beta('R',alpha=2,beta=1, shape=cap)\n",
        "    A_1=pm.Deterministic('A_1',A_total*R)\n",
        "    A_2=pm.Deterministic('A_2',A_total*(1-R))\n",
        "    rate1=pm.Lognormal('rate1',0,1, shape=cap)\n",
        "    rate2=pm.Lognormal('rate2',0,1, shape=cap)\n",
        "\n",
        "    linearphase=L*(time)\n",
        "    E_1=A_1*pm.math.exp(-1.0*rate1*time)\n",
        "    E_2=A_2*pm.math.exp(-1.0*rate2*time)\n",
        "\n",
        "    epsilon = pm.Lognormal('epsilon', 0, 1)\n",
        "    laseron=np.tile(np.arange(0, len(onedtime)), (cap,1)).T\n",
        "\n",
        "    pr = switch(IR >= laseron, 1.0, linearphase+I+E_1+E_2)\n",
        "\n",
        "\n",
        "    P = pm.Normal('P', mu=pr[start:end], sd=epsilon, observed=fluorescence.astype(float).iloc[start:end])\n",
        "  \n",
        "with model:\n",
        "    trace = pm.sampling.sample(Samples, tune=Tuning,\n",
        "                      init='ADVI'\n",
        "                     )\n",
        "    \n",
        "with model:\n",
        "    ppc = pm.sample_posterior_predictive(trace, samples=1000 ,model=model)"
      ],
      "metadata": {
        "id": "OgMcYdCRcc_R",
        "cellView": "form"
      },
      "execution_count": null,
      "outputs": []
    },
    {
      "cell_type": "code",
      "source": [
        "#@title STEP 4: Statistics of global variables\n",
        "#@markdown If you are finished with Step 1-3, the later steps do not have to follow in strict order. <p>\n",
        "#@markdown K_D and c_fl units are traditionally expressed in nM in the Nanotemper software, the amplitudes and sigma is expressed as Fnorm.  \n",
        "pm.stats.summary(trace,var_names=['K_D','B','U', 'epsilon','c_fl'])\n"
      ],
      "metadata": {
        "colab": {
          "base_uri": "https://localhost:8080/",
          "height": 278
        },
        "id": "59F3JTPXdNR4",
        "outputId": "81ecd43a-8203-4c3b-84fc-135149c27ae3",
        "cellView": "form"
      },
      "execution_count": null,
      "outputs": [
        {
          "output_type": "stream",
          "name": "stderr",
          "text": [
            "Got error No model on context stack. trying to find log_likelihood in translation.\n",
            "/usr/local/lib/python3.7/dist-packages/arviz/data/io_pymc3_3x.py:102: FutureWarning: Using `from_pymc3` without the model will be deprecated in a future release. Not using the model will return less accurate and less useful results. Make sure you use the model argument or call from_pymc3 within a model context.\n",
            "  FutureWarning,\n"
          ]
        },
        {
          "output_type": "execute_result",
          "data": {
            "text/plain": [
              "             mean       sd    hdi_3%   hdi_97%  mcse_mean  mcse_sd  ess_bulk  \\\n",
              "K_D      2388.338  364.104  1699.551  3019.708      9.887    6.993    1351.0   \n",
              "B           0.280    0.001     0.279     0.282      0.000    0.000    2036.0   \n",
              "U           0.254    0.001     0.253     0.256      0.000    0.000     577.0   \n",
              "epsilon     0.002    0.000     0.002     0.002      0.000    0.000    3925.0   \n",
              "c_fl       19.994    2.011    16.244    23.912      0.033    0.023    3695.0   \n",
              "\n",
              "         ess_tail  r_hat  \n",
              "K_D        2149.0    1.0  \n",
              "B          2260.0    1.0  \n",
              "U           880.0    1.0  \n",
              "epsilon    2224.0    1.0  \n",
              "c_fl       2005.0    1.0  "
            ],
            "text/html": [
              "\n",
              "  <div id=\"df-166f5374-58fa-4b91-b9ea-8c711491da16\">\n",
              "    <div class=\"colab-df-container\">\n",
              "      <div>\n",
              "<style scoped>\n",
              "    .dataframe tbody tr th:only-of-type {\n",
              "        vertical-align: middle;\n",
              "    }\n",
              "\n",
              "    .dataframe tbody tr th {\n",
              "        vertical-align: top;\n",
              "    }\n",
              "\n",
              "    .dataframe thead th {\n",
              "        text-align: right;\n",
              "    }\n",
              "</style>\n",
              "<table border=\"1\" class=\"dataframe\">\n",
              "  <thead>\n",
              "    <tr style=\"text-align: right;\">\n",
              "      <th></th>\n",
              "      <th>mean</th>\n",
              "      <th>sd</th>\n",
              "      <th>hdi_3%</th>\n",
              "      <th>hdi_97%</th>\n",
              "      <th>mcse_mean</th>\n",
              "      <th>mcse_sd</th>\n",
              "      <th>ess_bulk</th>\n",
              "      <th>ess_tail</th>\n",
              "      <th>r_hat</th>\n",
              "    </tr>\n",
              "  </thead>\n",
              "  <tbody>\n",
              "    <tr>\n",
              "      <th>K_D</th>\n",
              "      <td>2388.338</td>\n",
              "      <td>364.104</td>\n",
              "      <td>1699.551</td>\n",
              "      <td>3019.708</td>\n",
              "      <td>9.887</td>\n",
              "      <td>6.993</td>\n",
              "      <td>1351.0</td>\n",
              "      <td>2149.0</td>\n",
              "      <td>1.0</td>\n",
              "    </tr>\n",
              "    <tr>\n",
              "      <th>B</th>\n",
              "      <td>0.280</td>\n",
              "      <td>0.001</td>\n",
              "      <td>0.279</td>\n",
              "      <td>0.282</td>\n",
              "      <td>0.000</td>\n",
              "      <td>0.000</td>\n",
              "      <td>2036.0</td>\n",
              "      <td>2260.0</td>\n",
              "      <td>1.0</td>\n",
              "    </tr>\n",
              "    <tr>\n",
              "      <th>U</th>\n",
              "      <td>0.254</td>\n",
              "      <td>0.001</td>\n",
              "      <td>0.253</td>\n",
              "      <td>0.256</td>\n",
              "      <td>0.000</td>\n",
              "      <td>0.000</td>\n",
              "      <td>577.0</td>\n",
              "      <td>880.0</td>\n",
              "      <td>1.0</td>\n",
              "    </tr>\n",
              "    <tr>\n",
              "      <th>epsilon</th>\n",
              "      <td>0.002</td>\n",
              "      <td>0.000</td>\n",
              "      <td>0.002</td>\n",
              "      <td>0.002</td>\n",
              "      <td>0.000</td>\n",
              "      <td>0.000</td>\n",
              "      <td>3925.0</td>\n",
              "      <td>2224.0</td>\n",
              "      <td>1.0</td>\n",
              "    </tr>\n",
              "    <tr>\n",
              "      <th>c_fl</th>\n",
              "      <td>19.994</td>\n",
              "      <td>2.011</td>\n",
              "      <td>16.244</td>\n",
              "      <td>23.912</td>\n",
              "      <td>0.033</td>\n",
              "      <td>0.023</td>\n",
              "      <td>3695.0</td>\n",
              "      <td>2005.0</td>\n",
              "      <td>1.0</td>\n",
              "    </tr>\n",
              "  </tbody>\n",
              "</table>\n",
              "</div>\n",
              "      <button class=\"colab-df-convert\" onclick=\"convertToInteractive('df-166f5374-58fa-4b91-b9ea-8c711491da16')\"\n",
              "              title=\"Convert this dataframe to an interactive table.\"\n",
              "              style=\"display:none;\">\n",
              "        \n",
              "  <svg xmlns=\"http://www.w3.org/2000/svg\" height=\"24px\"viewBox=\"0 0 24 24\"\n",
              "       width=\"24px\">\n",
              "    <path d=\"M0 0h24v24H0V0z\" fill=\"none\"/>\n",
              "    <path d=\"M18.56 5.44l.94 2.06.94-2.06 2.06-.94-2.06-.94-.94-2.06-.94 2.06-2.06.94zm-11 1L8.5 8.5l.94-2.06 2.06-.94-2.06-.94L8.5 2.5l-.94 2.06-2.06.94zm10 10l.94 2.06.94-2.06 2.06-.94-2.06-.94-.94-2.06-.94 2.06-2.06.94z\"/><path d=\"M17.41 7.96l-1.37-1.37c-.4-.4-.92-.59-1.43-.59-.52 0-1.04.2-1.43.59L10.3 9.45l-7.72 7.72c-.78.78-.78 2.05 0 2.83L4 21.41c.39.39.9.59 1.41.59.51 0 1.02-.2 1.41-.59l7.78-7.78 2.81-2.81c.8-.78.8-2.07 0-2.86zM5.41 20L4 18.59l7.72-7.72 1.47 1.35L5.41 20z\"/>\n",
              "  </svg>\n",
              "      </button>\n",
              "      \n",
              "  <style>\n",
              "    .colab-df-container {\n",
              "      display:flex;\n",
              "      flex-wrap:wrap;\n",
              "      gap: 12px;\n",
              "    }\n",
              "\n",
              "    .colab-df-convert {\n",
              "      background-color: #E8F0FE;\n",
              "      border: none;\n",
              "      border-radius: 50%;\n",
              "      cursor: pointer;\n",
              "      display: none;\n",
              "      fill: #1967D2;\n",
              "      height: 32px;\n",
              "      padding: 0 0 0 0;\n",
              "      width: 32px;\n",
              "    }\n",
              "\n",
              "    .colab-df-convert:hover {\n",
              "      background-color: #E2EBFA;\n",
              "      box-shadow: 0px 1px 2px rgba(60, 64, 67, 0.3), 0px 1px 3px 1px rgba(60, 64, 67, 0.15);\n",
              "      fill: #174EA6;\n",
              "    }\n",
              "\n",
              "    [theme=dark] .colab-df-convert {\n",
              "      background-color: #3B4455;\n",
              "      fill: #D2E3FC;\n",
              "    }\n",
              "\n",
              "    [theme=dark] .colab-df-convert:hover {\n",
              "      background-color: #434B5C;\n",
              "      box-shadow: 0px 1px 3px 1px rgba(0, 0, 0, 0.15);\n",
              "      filter: drop-shadow(0px 1px 2px rgba(0, 0, 0, 0.3));\n",
              "      fill: #FFFFFF;\n",
              "    }\n",
              "  </style>\n",
              "\n",
              "      <script>\n",
              "        const buttonEl =\n",
              "          document.querySelector('#df-166f5374-58fa-4b91-b9ea-8c711491da16 button.colab-df-convert');\n",
              "        buttonEl.style.display =\n",
              "          google.colab.kernel.accessAllowed ? 'block' : 'none';\n",
              "\n",
              "        async function convertToInteractive(key) {\n",
              "          const element = document.querySelector('#df-166f5374-58fa-4b91-b9ea-8c711491da16');\n",
              "          const dataTable =\n",
              "            await google.colab.kernel.invokeFunction('convertToInteractive',\n",
              "                                                     [key], {});\n",
              "          if (!dataTable) return;\n",
              "\n",
              "          const docLinkHtml = 'Like what you see? Visit the ' +\n",
              "            '<a target=\"_blank\" href=https://colab.research.google.com/notebooks/data_table.ipynb>data table notebook</a>'\n",
              "            + ' to learn more about interactive tables.';\n",
              "          element.innerHTML = '';\n",
              "          dataTable['output_type'] = 'display_data';\n",
              "          await google.colab.output.renderOutput(dataTable, element);\n",
              "          const docLink = document.createElement('div');\n",
              "          docLink.innerHTML = docLinkHtml;\n",
              "          element.appendChild(docLink);\n",
              "        }\n",
              "      </script>\n",
              "    </div>\n",
              "  </div>\n",
              "  "
            ]
          },
          "metadata": {},
          "execution_count": 7
        }
      ]
    },
    {
      "cell_type": "code",
      "source": [
        "#@title STEP 5: Posterior predictive check { run: \"auto\" }\n",
        "#@markdown The shaded area represent the High Density Interval (95%) of the posterior predictions.\n",
        "#@markdown <p> Choose the capillary to analyse:\n",
        "Cap_display = \"1\" #@param [\"1\", \"2\", \"3\", \"4\", \"5\", \"6\", \"7\", \"8\", \"9\", \"10\", \"11\", \"12\", \"13\", \"14\", \"15\", \"16\"]\n",
        "\n",
        "plt.plot(onedtime[start:end],fluorescence[int(Cap_display)-1].astype(float).iloc[start:end], color='gray')\n",
        "plt.plot(onedtime[start:end],np.mean(ppc['P'][:,:,int(Cap_display)-1], axis=0))\n",
        "plt.fill_between(np.array(onedtime[start:end],dtype=float), np.array(pm.stats.hdi(ppc['P'][:,:,int(Cap_display)-1])[:,0],dtype=float) ,np.array(pm.stats.hdi(ppc['P'][:,:,int(Cap_display)-1])[:,1],dtype=float) , alpha=0.5)\n"
      ],
      "metadata": {
        "colab": {
          "base_uri": "https://localhost:8080/",
          "height": 337
        },
        "id": "1MjwpdO-NhSi",
        "outputId": "c98308fa-bc86-429d-ae02-f97aad4ea88d",
        "cellView": "form"
      },
      "execution_count": null,
      "outputs": [
        {
          "output_type": "stream",
          "name": "stderr",
          "text": [
            "/usr/local/lib/python3.7/dist-packages/ipykernel_launcher.py:8: FutureWarning: hdi currently interprets 2d data as (draw, shape) but this will change in a future release to (chain, draw) for coherence with other functions\n",
            "  \n"
          ]
        },
        {
          "output_type": "execute_result",
          "data": {
            "text/plain": [
              "<matplotlib.collections.PolyCollection at 0x7f059607cfd0>"
            ]
          },
          "metadata": {},
          "execution_count": 8
        },
        {
          "output_type": "display_data",
          "data": {
            "text/plain": [
              "<Figure size 432x288 with 1 Axes>"
            ],
            "image/png": "[encoded data removed]"
          },
          "metadata": {
            "needs_background": "light"
          }
        }
      ]
    },
    {
      "cell_type": "code",
      "source": [
        "#@title STEP 6: Concentration dependence of the kinetic parameters. { run: \"auto\" }\n",
        "#@markdown The error bars represent the High Density Interval (95%) of the posterior distribution.<p>\n",
        "#@markdown Choose the variable name:\n",
        "parameter = \"A_total\" #@param [\"A_total\",\"I\", \"rate1\", \"rate2\", \"A_1\", \"A_2\", \"L\"]\n",
        "fig=plt.subplot(111)\n",
        "plt.errorbar(cideal,np.median(trace[parameter],axis=0),yerr=np.abs(pm.hdi(trace[parameter]).T-np.median(trace[parameter],axis=0)))\n",
        "fig.set_xscale('log')"
      ],
      "metadata": {
        "colab": {
          "base_uri": "https://localhost:8080/",
          "height": 324
        },
        "id": "jy6L8---Yu3g",
        "outputId": "5f054174-cbe7-4b0f-86cc-3c6d42862c6c",
        "cellView": "form"
      },
      "execution_count": null,
      "outputs": [
        {
          "output_type": "stream",
          "name": "stderr",
          "text": [
            "/usr/local/lib/python3.7/dist-packages/ipykernel_launcher.py:6: FutureWarning: hdi currently interprets 2d data as (draw, shape) but this will change in a future release to (chain, draw) for coherence with other functions\n",
            "  \n"
          ]
        },
        {
          "output_type": "display_data",
          "data": {
            "text/plain": [
              "<Figure size 432x288 with 1 Axes>"
            ],
            "image/png": "[encoded data removed]"
          },
          "metadata": {
            "needs_background": "light"
          }
        }
      ]
    },
    {
      "cell_type": "code",
      "source": [
        "#@title STEP 7: Posterior distribution of model parameters (left), parameter trace (right). { run: \"auto\" }\n",
        "#@markdown Ideally the parameter traces fluctuate around a stable value.<p> \n",
        "#@markdown Choose the parameter name:\n",
        "parameter = \"K_D\" #@param [\"K_D\",\"B\",\"U\",\"epsilon\",\"A_total\",\"I\", \"rate1\", \"rate2\", \"A_1\", \"A_2\", \"L\"]\n",
        "with model:\n",
        "  ax=pm.plot_trace(trace[0:],[parameter],combined=True)"
      ],
      "metadata": {
        "colab": {
          "base_uri": "https://localhost:8080/",
          "height": 171
        },
        "id": "i7Pl-BazZxcB",
        "outputId": "28b175ed-50fb-41c3-b90f-88a25fe98d6e",
        "cellView": "form"
      },
      "execution_count": null,
      "outputs": [
        {
          "output_type": "display_data",
          "data": {
            "text/plain": [
              "<Figure size 864x144 with 2 Axes>"
            ],
            "image/png": "[encoded data removed]"
          },
          "metadata": {
            "needs_background": "light"
          }
        }
      ]
    }
  ]
}