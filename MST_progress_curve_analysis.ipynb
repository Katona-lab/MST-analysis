{
  "nbformat": 4,
  "nbformat_minor": 0,
  "metadata": {
    "colab": {
      "name": "MST_progress_curve_analysis.ipynb",
      "provenance": [],
      "authorship_tag": "ABX9TyOflLdYFf2wTQKjLNSiOkMJ",
      "include_colab_link": true
    },
    "kernelspec": {
      "name": "python3",
      "display_name": "Python 3"
    },
    "language_info": {
      "name": "python"
    },
    "widgets": {
      "application/vnd.jupyter.widget-state+json": {
        "f31f5f3b1e6b4dc5a0ba62a598a947fe": {
          "model_module": "@jupyter-widgets/controls",
          "model_name": "HBoxModel",
          "model_module_version": "1.5.0",
          "state": {
            "_dom_classes": [],
            "_model_module": "@jupyter-widgets/controls",
            "_model_module_version": "1.5.0",
            "_model_name": "HBoxModel",
            "_view_count": null,
            "_view_module": "@jupyter-widgets/controls",
            "_view_module_version": "1.5.0",
            "_view_name": "HBoxView",
            "box_style": "",
            "children": [
              "IPY_MODEL_dc841e53a404400ebb24af26eebcdd75",
              "IPY_MODEL_cb67eac9acd04be8b5528f500ab88aa8"
            ],
            "layout": "IPY_MODEL_6197c58be8364e9cb1e713a3cef2b5e8"
          }
        },
        "dc841e53a404400ebb24af26eebcdd75": {
          "model_module": "@jupyter-widgets/controls",
          "model_name": "VBoxModel",
          "model_module_version": "1.5.0",
          "state": {
            "_dom_classes": [],
            "_model_module": "@jupyter-widgets/controls",
            "_model_module_version": "1.5.0",
            "_model_name": "VBoxModel",
            "_view_count": null,
            "_view_module": "@jupyter-widgets/controls",
            "_view_module_version": "1.5.0",
            "_view_name": "VBoxView",
            "box_style": "",
            "children": [
              "IPY_MODEL_30d5050bdb53415387c9a2861273be49",
              "IPY_MODEL_0d02e70eb48b4204a9f84ae3ca57b7b3"
            ],
            "layout": "IPY_MODEL_60ff8e7645834cea8fab86bf21876cd2"
          }
        },
        "cb67eac9acd04be8b5528f500ab88aa8": {
          "model_module": "@jupyter-widgets/output",
          "model_name": "OutputModel",
          "model_module_version": "1.0.0",
          "state": {
            "_dom_classes": [],
            "_model_module": "@jupyter-widgets/output",
            "_model_module_version": "1.0.0",
            "_model_name": "OutputModel",
            "_view_count": null,
            "_view_module": "@jupyter-widgets/output",
            "_view_module_version": "1.0.0",
            "_view_name": "OutputView",
            "layout": "IPY_MODEL_cc377e55a0bc4bc483a15cb59e145c3a",
            "msg_id": "",
            "outputs": [
              {
                "output_type": "display_data",
                "data": {
                  "text/plain": "<Figure size 432x288 with 1 Axes>",
                  "image/png": "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\n"
                },
                "metadata": {
                  "needs_background": "light"
                }
              }
            ]
          }
        },
        "6197c58be8364e9cb1e713a3cef2b5e8": {
          "model_module": "@jupyter-widgets/base",
          "model_name": "LayoutModel",
          "model_module_version": "1.2.0",
          "state": {
            "_model_module": "@jupyter-widgets/base",
            "_model_module_version": "1.2.0",
            "_model_name": "LayoutModel",
            "_view_count": null,
            "_view_module": "@jupyter-widgets/base",
            "_view_module_version": "1.2.0",
            "_view_name": "LayoutView",
            "align_content": null,
            "align_items": null,
            "align_self": null,
            "border": null,
            "bottom": null,
            "display": null,
            "flex": null,
            "flex_flow": null,
            "grid_area": null,
            "grid_auto_columns": null,
            "grid_auto_flow": null,
            "grid_auto_rows": null,
            "grid_column": null,
            "grid_gap": null,
            "grid_row": null,
            "grid_template_areas": null,
            "grid_template_columns": null,
            "grid_template_rows": null,
            "height": null,
            "justify_content": null,
            "justify_items": null,
            "left": null,
            "margin": null,
            "max_height": null,
            "max_width": null,
            "min_height": null,
            "min_width": null,
            "object_fit": null,
            "object_position": null,
            "order": null,
            "overflow": null,
            "overflow_x": null,
            "overflow_y": null,
            "padding": null,
            "right": null,
            "top": null,
            "visibility": null,
            "width": null
          }
        },
        "30d5050bdb53415387c9a2861273be49": {
          "model_module": "@jupyter-widgets/controls",
          "model_name": "IntRangeSliderModel",
          "model_module_version": "1.5.0",
          "state": {
            "_dom_classes": [],
            "_model_module": "@jupyter-widgets/controls",
            "_model_module_version": "1.5.0",
            "_model_name": "IntRangeSliderModel",
            "_view_count": null,
            "_view_module": "@jupyter-widgets/controls",
            "_view_module_version": "1.5.0",
            "_view_name": "IntRangeSliderView",
            "continuous_update": false,
            "description": "Data_range:",
            "description_tooltip": null,
            "disabled": false,
            "layout": "IPY_MODEL_91ee0f36c55f4ceda784eb3c49eb3dff",
            "max": 341,
            "min": 0,
            "orientation": "horizontal",
            "readout": true,
            "readout_format": "d",
            "step": 1,
            "style": "IPY_MODEL_2d9f0c68d7ae4f069549416ed04bf5e9",
            "value": [
              0,
              327
            ]
          }
        },
        "0d02e70eb48b4204a9f84ae3ca57b7b3": {
          "model_module": "@jupyter-widgets/controls",
          "model_name": "IntSliderModel",
          "model_module_version": "1.5.0",
          "state": {
            "_dom_classes": [],
            "_model_module": "@jupyter-widgets/controls",
            "_model_module_version": "1.5.0",
            "_model_name": "IntSliderModel",
            "_view_count": null,
            "_view_module": "@jupyter-widgets/controls",
            "_view_module_version": "1.5.0",
            "_view_name": "IntSliderView",
            "continuous_update": true,
            "description": "IR_pos:",
            "description_tooltip": null,
            "disabled": false,
            "layout": "IPY_MODEL_a18b069e14d04a958cf328411514d389",
            "max": 341,
            "min": 0,
            "orientation": "horizontal",
            "readout": true,
            "readout_format": "d",
            "step": 1,
            "style": "IPY_MODEL_c69772ed7cb84ae694e9eb4922811e7b",
            "value": 48
          }
        },
        "60ff8e7645834cea8fab86bf21876cd2": {
          "model_module": "@jupyter-widgets/base",
          "model_name": "LayoutModel",
          "model_module_version": "1.2.0",
          "state": {
            "_model_module": "@jupyter-widgets/base",
            "_model_module_version": "1.2.0",
            "_model_name": "LayoutModel",
            "_view_count": null,
            "_view_module": "@jupyter-widgets/base",
            "_view_module_version": "1.2.0",
            "_view_name": "LayoutView",
            "align_content": null,
            "align_items": null,
            "align_self": null,
            "border": null,
            "bottom": null,
            "display": null,
            "flex": null,
            "flex_flow": null,
            "grid_area": null,
            "grid_auto_columns": null,
            "grid_auto_flow": null,
            "grid_auto_rows": null,
            "grid_column": null,
            "grid_gap": null,
            "grid_row": null,
            "grid_template_areas": null,
            "grid_template_columns": null,
            "grid_template_rows": null,
            "height": null,
            "justify_content": null,
            "justify_items": null,
            "left": null,
            "margin": null,
            "max_height": null,
            "max_width": null,
            "min_height": null,
            "min_width": null,
            "object_fit": null,
            "object_position": null,
            "order": null,
            "overflow": null,
            "overflow_x": null,
            "overflow_y": null,
            "padding": null,
            "right": null,
            "top": null,
            "visibility": null,
            "width": null
          }
        },
        "91ee0f36c55f4ceda784eb3c49eb3dff": {
          "model_module": "@jupyter-widgets/base",
          "model_name": "LayoutModel",
          "model_module_version": "1.2.0",
          "state": {
            "_model_module": "@jupyter-widgets/base",
            "_model_module_version": "1.2.0",
            "_model_name": "LayoutModel",
            "_view_count": null,
            "_view_module": "@jupyter-widgets/base",
            "_view_module_version": "1.2.0",
            "_view_name": "LayoutView",
            "align_content": null,
            "align_items": null,
            "align_self": null,
            "border": null,
            "bottom": null,
            "display": null,
            "flex": null,
            "flex_flow": null,
            "grid_area": null,
            "grid_auto_columns": null,
            "grid_auto_flow": null,
            "grid_auto_rows": null,
            "grid_column": null,
            "grid_gap": null,
            "grid_row": null,
            "grid_template_areas": null,
            "grid_template_columns": null,
            "grid_template_rows": null,
            "height": null,
            "justify_content": null,
            "justify_items": null,
            "left": null,
            "margin": null,
            "max_height": null,
            "max_width": null,
            "min_height": null,
            "min_width": null,
            "object_fit": null,
            "object_position": null,
            "order": null,
            "overflow": null,
            "overflow_x": null,
            "overflow_y": null,
            "padding": null,
            "right": null,
            "top": null,
            "visibility": null,
            "width": null
          }
        },
        "2d9f0c68d7ae4f069549416ed04bf5e9": {
          "model_module": "@jupyter-widgets/controls",
          "model_name": "SliderStyleModel",
          "model_module_version": "1.5.0",
          "state": {
            "_model_module": "@jupyter-widgets/controls",
            "_model_module_version": "1.5.0",
            "_model_name": "SliderStyleModel",
            "_view_count": null,
            "_view_module": "@jupyter-widgets/base",
            "_view_module_version": "1.2.0",
            "_view_name": "StyleView",
            "description_width": "",
            "handle_color": null
          }
        },
        "a18b069e14d04a958cf328411514d389": {
          "model_module": "@jupyter-widgets/base",
          "model_name": "LayoutModel",
          "model_module_version": "1.2.0",
          "state": {
            "_model_module": "@jupyter-widgets/base",
            "_model_module_version": "1.2.0",
            "_model_name": "LayoutModel",
            "_view_count": null,
            "_view_module": "@jupyter-widgets/base",
            "_view_module_version": "1.2.0",
            "_view_name": "LayoutView",
            "align_content": null,
            "align_items": null,
            "align_self": null,
            "border": null,
            "bottom": null,
            "display": null,
            "flex": null,
            "flex_flow": null,
            "grid_area": null,
            "grid_auto_columns": null,
            "grid_auto_flow": null,
            "grid_auto_rows": null,
            "grid_column": null,
            "grid_gap": null,
            "grid_row": null,
            "grid_template_areas": null,
            "grid_template_columns": null,
            "grid_template_rows": null,
            "height": null,
            "justify_content": null,
            "justify_items": null,
            "left": null,
            "margin": null,
            "max_height": null,
            "max_width": null,
            "min_height": null,
            "min_width": null,
            "object_fit": null,
            "object_position": null,
            "order": null,
            "overflow": null,
            "overflow_x": null,
            "overflow_y": null,
            "padding": null,
            "right": null,
            "top": null,
            "visibility": null,
            "width": null
          }
        },
        "c69772ed7cb84ae694e9eb4922811e7b": {
          "model_module": "@jupyter-widgets/controls",
          "model_name": "SliderStyleModel",
          "model_module_version": "1.5.0",
          "state": {
            "_model_module": "@jupyter-widgets/controls",
            "_model_module_version": "1.5.0",
            "_model_name": "SliderStyleModel",
            "_view_count": null,
            "_view_module": "@jupyter-widgets/base",
            "_view_module_version": "1.2.0",
            "_view_name": "StyleView",
            "description_width": "",
            "handle_color": null
          }
        },
        "cc377e55a0bc4bc483a15cb59e145c3a": {
          "model_module": "@jupyter-widgets/base",
          "model_name": "LayoutModel",
          "model_module_version": "1.2.0",
          "state": {
            "_model_module": "@jupyter-widgets/base",
            "_model_module_version": "1.2.0",
            "_model_name": "LayoutModel",
            "_view_count": null,
            "_view_module": "@jupyter-widgets/base",
            "_view_module_version": "1.2.0",
            "_view_name": "LayoutView",
            "align_content": null,
            "align_items": null,
            "align_self": null,
            "border": null,
            "bottom": null,
            "display": null,
            "flex": null,
            "flex_flow": null,
            "grid_area": null,
            "grid_auto_columns": null,
            "grid_auto_flow": null,
            "grid_auto_rows": null,
            "grid_column": null,
            "grid_gap": null,
            "grid_row": null,
            "grid_template_areas": null,
            "grid_template_columns": null,
            "grid_template_rows": null,
            "height": null,
            "justify_content": null,
            "justify_items": null,
            "left": null,
            "margin": null,
            "max_height": null,
            "max_width": null,
            "min_height": null,
            "min_width": null,
            "object_fit": null,
            "object_position": null,
            "order": null,
            "overflow": null,
            "overflow_x": null,
            "overflow_y": null,
            "padding": null,
            "right": null,
            "top": null,
            "visibility": null,
            "width": null
          }
        }
      }
    }
  },
  "cells": [
    {
      "cell_type": "markdown",
      "metadata": {
        "id": "view-in-github",
        "colab_type": "text"
      },
      "source": [
        "<a href=\"https://colab.research.google.com/github/Katona-lab/MST-anlysis/blob/main/MST_progress_curve_analysis.ipynb\" target=\"_parent\"><img src=\"https://colab.research.google.com/assets/colab-badge.svg\" alt=\"Open In Colab\"/></a>"
      ]
    },
    {
      "cell_type": "code",
      "source": [
        "#@title Start here by selecting Excel MST file exported by the Nanotemper software\n",
        "#@markdown Please cite this article: <br>\n",
        "#@markdown Atsarina Larasati Anindya, Maria-Jose Garcia-Bonete, Maja Jensen, Christian V. Recktenwald, Maria Bokarewa and Gergely Katona <i>Bayesian Progress Curve Analysis of MicroScale Thermophoresis Data.</i>\n",
        "#@markdown (2022) <b><i>Digital discovery</i></b>\n",
        "# (c) 2022 Gergely Katona <gergely.katona@gu.se>\n",
        "import io\n",
        "import pandas as pd\n",
        "from google.colab import files\n",
        "import numpy as np\n",
        "import pymc3 as pm\n",
        "import pylab as plt\n",
        "import theano.tensor as T\n",
        "from pymc3.math import switch\n",
        "\n",
        "#Experimental data description \n",
        "uploaded = files.upload()\n",
        "\n",
        "df=pd.read_excel(io.BytesIO(uploaded[list(uploaded.keys())[0]]))\n",
        "\n",
        "ligpos=df.loc[df.iloc[:,0] == 'Ligand Concentration:'].index[0]\n",
        "firsttimepos=df.loc[df.iloc[:,0] == 'Time [s]'].index[0]\n",
        "targind=df.loc[df.iloc[:,0] == 'TargetConcentration:'].index[0]\n",
        "FluoConc=df.iloc[targind,1]\n",
        "\n",
        "cideal=df.iloc[ligpos,1::3]\n",
        "onedtime=df.iloc[firsttimepos+1:,0].reset_index(drop=True)\n",
        "firstIRtimepos=onedtime.loc[onedtime==0].index[0]\n",
        "fluorescence=df.iloc[firsttimepos+1:,1::3].reset_index(drop=True)\n",
        "fluorescence=fluorescence.T.reset_index(drop=True).T\n",
        "Capillary=len(cideal)\n",
        "start_t=onedtime.iloc[0]\n",
        "end_t=onedtime.iloc[-1]\n",
        "print (\"The data start at position %i, which corresponds to %f s.\" % (0,start_t))\n",
        "print (\"The data ends at position %i, which corresponds to %f s.\" % (len(onedtime),end_t))\n",
        "print (\"The IR laser is supposed to be ON from position %i, which corresponds to 0 s.\"% (firstIRtimepos))\n",
        "print (\"The target concentration is %E .\"% FluoConc)\n",
        "print (\"%i capillaries were used\" % Capillary)\n",
        "print (\"The ligand concentrations are %s .\"% list(cideal))\n",
        "print (\"Units hopefully agree and the KD will be expressed in the same unit.\")"
      ],
      "metadata": {
        "colab": {
          "resources": {
            "http://localhost:8080/nbextensions/google.colab/files.js": {
              "data": "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",
              "ok": true,
              "headers": [
                [
                  "content-type",
                  "application/javascript"
                ]
              ],
              "status": 200,
              "status_text": "OK"
            }
          },
          "base_uri": "https://localhost:8080/",
          "height": 198
        },
        "id": "ZCsUQyVH106b",
        "outputId": "a224940a-33d0-45ed-adba-67b708998db7"
      },
      "execution_count": 50,
      "outputs": [
        {
          "output_type": "display_data",
          "data": {
            "text/plain": [
              "<IPython.core.display.HTML object>"
            ],
            "text/html": [
              "\n",
              "     <input type=\"file\" id=\"files-8a46d009-6848-4d41-8f30-7babee3e9356\" name=\"files[]\" multiple disabled\n",
              "        style=\"border:none\" />\n",
              "     <output id=\"result-8a46d009-6848-4d41-8f30-7babee3e9356\">\n",
              "      Upload widget is only available when the cell has been executed in the\n",
              "      current browser session. Please rerun this cell to enable.\n",
              "      </output>\n",
              "      <script src=\"/nbextensions/google.colab/files.js\"></script> "
            ]
          },
          "metadata": {}
        },
        {
          "output_type": "stream",
          "name": "stdout",
          "text": [
            "Saving Calciumdata.xlsx to Calciumdata (2).xlsx\n",
            "The data start at position 0, which corresponds to -3.576749 s.\n",
            "The data ends at position 341, which corresponds to 21.758556 s.\n",
            "The IR laser is supposed to be ON from position 48, which corresponds to 0 s.\n",
            "The target concentration is 3.000000E-08 .\n",
            "The ligand concentrations are [3.0517578125e-08, 6.103515625e-08, 1.220703125e-07, 2.44140625e-07, 4.8828125e-07, 9.765625e-07, 1.953125e-06, 3.90625e-06, 7.8125e-06, 1.5625e-05, 3.125e-05, 6.25e-05, 0.000125, 0.00025, 0.0005, 0.001] .\n",
            "Units hopefully agree and the KD will be expressed in the same unit.\n"
          ]
        }
      ]
    },
    {
      "cell_type": "code",
      "source": [
        "#@title Displaying and verifying the data. Adjusting data range and laser start. { run: \"auto\" }\n",
        "import ipywidgets as widgets\n",
        "from IPython.display import display\n",
        "#@markdown Step 1: Inspect the progress curve. Is this the data you want to model? The program tries to guess a suitable end point automatically. This initial guess will vary from capillary to capillary, but once you start modelling the last displayed end data point will be used for for all capillaries. Please feel free to override data range according to your wishes.<p>\n",
        "#@markdown Step 2: Zoom in with the sliders to the laser start point and adjust to the point where the Fnorm starts to drop rapidly. Experience shows that there is a few ms delay between time 0 of the instrument and first sign of response in Fnorm. An empirical delay is already automatically applied to laser start.<p>\n",
        "#@markdown Step 3: Reset the end slider to the end of the IR irradiation period or any point earlier. The model does not take into account the recovery phase after the IR laser is swiched off.\n",
        "Capillary = \"16\" #@param [\"1\", \"2\", \"3\", \"4\", \"5\", \"6\", \"7\", \"8\", \"9\", \"10\", \"11\", \"12\", \"13\", \"14\", \"15\", \"16\"]\n",
        "\n",
        "Data_range=widgets.IntRangeSlider(\n",
        "    value=[0, fluorescence[int(Capillary)-1].astype(float).idxmin()],\n",
        "    min=0,\n",
        "    max=len(onedtime),\n",
        "    step=1,\n",
        "    description='Data_range:',\n",
        "    disabled=False,\n",
        "    continuous_update=False,\n",
        "    orientation='horizontal',\n",
        "    readout=True,\n",
        "    readout_format='d',\n",
        ")\n",
        "\n",
        "Start_pos=widgets.IntSlider(\n",
        "    value=0,\n",
        "    min=0,\n",
        "    max=len(onedtime),\n",
        "    step=1,\n",
        "    description='Start_pos:',\n",
        "    disabled=False\n",
        ")\n",
        "\n",
        "End_pos=widgets.IntSlider(\n",
        "    value=len(onedtime),\n",
        "    min=0,\n",
        "    max=len(onedtime),\n",
        "    step=1,\n",
        "    description='End_pos:',\n",
        "    disabled=False\n",
        ")\n",
        "\n",
        "IR_pos=widgets.IntSlider(\n",
        "    value=firstIRtimepos,\n",
        "    min=0,\n",
        "    max=len(onedtime),\n",
        "    step=1,\n",
        "    description='IR_pos:',\n",
        "    disabled=False\n",
        ")\n",
        "\n",
        "def f(Data_range, IR_pos):\n",
        "    Start_pos,End_pos=Data_range\n",
        "    fig, ax = plt.subplots()\n",
        "    ax.plot(onedtime[Start_pos:End_pos],fluorescence[int(Capillary)-1].astype(float).iloc[Start_pos:End_pos], color='gray')\n",
        "    ax.annotate('IR laser', \n",
        "            xy=(onedtime[IR_pos], 1), \n",
        "            xytext=(onedtime[IR_pos], 0.95), \n",
        "            arrowprops = dict(facecolor='red', shrink=0.05)\n",
        "    )\n",
        "    plt.xlabel (\"Time (s)\")\n",
        "    plt.ylabel (r\"$F_{norm}$\")\n",
        "out = widgets.interactive_output(f, {'Data_range': Data_range, 'IR_pos': IR_pos})\n",
        "\n",
        "widgets.HBox([widgets.VBox([Data_range, IR_pos]), out])\n",
        "\n",
        "\n",
        "\n",
        "\n",
        "\n",
        "\n",
        "\n"
      ],
      "metadata": {
        "id": "ZlemQ5w9m5KJ",
        "outputId": "9c68ade7-2ae9-418c-8d98-d661e387cd48",
        "colab": {
          "base_uri": "https://localhost:8080/",
          "height": 279,
          "referenced_widgets": [
            "f31f5f3b1e6b4dc5a0ba62a598a947fe",
            "dc841e53a404400ebb24af26eebcdd75",
            "cb67eac9acd04be8b5528f500ab88aa8",
            "6197c58be8364e9cb1e713a3cef2b5e8",
            "30d5050bdb53415387c9a2861273be49",
            "0d02e70eb48b4204a9f84ae3ca57b7b3",
            "60ff8e7645834cea8fab86bf21876cd2",
            "91ee0f36c55f4ceda784eb3c49eb3dff",
            "2d9f0c68d7ae4f069549416ed04bf5e9",
            "a18b069e14d04a958cf328411514d389",
            "c69772ed7cb84ae694e9eb4922811e7b",
            "cc377e55a0bc4bc483a15cb59e145c3a"
          ]
        }
      },
      "execution_count": 12,
      "outputs": [
        {
          "output_type": "display_data",
          "data": {
            "text/plain": [
              "HBox(children=(VBox(children=(IntRangeSlider(value=(0, 327), continuous_update=False, description='Data_range:…"
            ],
            "application/vnd.jupyter.widget-view+json": {
              "version_major": 2,
              "version_minor": 0,
              "model_id": "f31f5f3b1e6b4dc5a0ba62a598a947fe"
            }
          },
          "metadata": {}
        }
      ]
    },
    {
      "cell_type": "code",
      "source": [
        "#@title Alternative 1: Perform the MCMC sampling (linear phase starts before the IR irradiation)\n",
        "#@markdown Use scenario: The fluroescence signal (Fnorm) is not stable at 1 before IR irradiation. Possible reasons: photodamage, unstable protein, not fully equilibrated protein:ligand interaction\n",
        "\n",
        "##@markdown Enter labeled protein concentration in units of nM:\n",
        "#FluoConc =  20#@param {type:\"number\"}\n",
        "##@markdown Enter the number of capillaries used in the experiment. The concentration of the ligand will be infered from the data file.\n",
        "#Capillary = \"16\" #@param [\"1\", \"2\", \"3\", \"4\", \"5\", \"6\", \"7\", \"8\", \"9\", \"10\", \"11\", \"12\", \"13\", \"14\", \"15\", \"16\"]\n",
        "\n",
        "IR=IR_pos.value\n",
        "start,end=Data_range.value\n",
        "cap=int(Capillary)\n",
        "time=np.array([onedtime[:,]]*cap,dtype=float).transpose()\n",
        "with pm.Model() as model:\n",
        "    K_D = pm.Uniform('K_D', 1, 1e6)\n",
        "    BoundedNormal = pm.Bound(pm.Normal, lower=0, upper=1e8)\n",
        "    c_fl = BoundedNormal('c_fl',mu=FluoConc,sd=FluoConc/10.0)\n",
        "\n",
        "    U=pm.Beta('U',alpha=1,beta=1)\n",
        "    B=pm.Beta('B',alpha=1,beta=1)\n",
        "    A_total=pm.Deterministic('A_total', U + (B-U)*((c_fl + cideal.astype(float) + K_D - pm.math.sqrt(pm.math.sqr(c_fl + cideal.astype(float) + K_D) - 4.0*c_fl*cideal.astype(float)))/(2*c_fl)))\n",
        "    \n",
        "    L=pm.Uniform('L',-1,1, shape=cap)\n",
        "    I=pm.Deterministic('I',1+L*start_t-A_total)\n",
        "    R=pm.Beta('R',alpha=2,beta=1, shape=cap)\n",
        "    A_1=pm.Deterministic('A_1',A_total*R)\n",
        "    A_2=pm.Deterministic('A_2',A_total*(1-R))\n",
        "    rate1=pm.Lognormal('rate1',0,1, shape=cap)\n",
        "    rate2=pm.Lognormal('rate2',0,1, shape=cap)\n",
        "\n",
        "    linearphase=L*(time-start_t)\n",
        "    E_1=A_1*pm.math.exp(-1.0*rate1*time)\n",
        "    E_2=A_2*pm.math.exp(-1.0*rate2*time)\n",
        "\n",
        "    epsilon = pm.Lognormal('epsilon', 0, 1)\n",
        "    laseron=np.tile(np.arange(0, len(onedtime)), (cap,1)).T\n",
        "\n",
        "    pr = switch(IR >= laseron, 1.0+linearphase, linearphase+I+E_1+E_2)\n",
        "\n",
        "\n",
        "    P = pm.Normal('P', mu=pr[start:end], sd=epsilon, observed=fluorescence.astype(float).iloc[start:end])\n",
        "\n",
        "\n",
        "with model:\n",
        "    trace = pm.sampling.sample(200, tune=100,\n",
        "                      init='ADVI'\n",
        "                     )\n",
        "    \n",
        "with model:\n",
        "    ppc = pm.sample_posterior_predictive(trace, samples=1000 ,model=model)"
      ],
      "metadata": {
        "id": "smyOSMXv5QpD",
        "outputId": "2b85a641-cd8a-4a8f-a72c-b7e9c0629e04",
        "colab": {
          "base_uri": "https://localhost:8080/",
          "height": 309
        }
      },
      "execution_count": 13,
      "outputs": [
        {
          "output_type": "stream",
          "name": "stderr",
          "text": [
            "/usr/local/lib/python3.7/dist-packages/ipykernel_launcher.py:45: FutureWarning: In v4.0, pm.sample will return an `arviz.InferenceData` object instead of a `MultiTrace` by default. You can pass return_inferencedata=True or return_inferencedata=False to be safe and silence this warning.\n",
            "Only 200 samples in chain.\n",
            "Auto-assigning NUTS sampler...\n",
            "Initializing NUTS using advi...\n"
          ]
        },
        {
          "output_type": "display_data",
          "data": {
            "text/plain": [
              "<IPython.core.display.HTML object>"
            ],
            "text/html": [
              "\n",
              "<style>\n",
              "    /* Turns off some styling */\n",
              "    progress {\n",
              "        /* gets rid of default border in Firefox and Opera. */\n",
              "        border: none;\n",
              "        /* Needs to be in here for Safari polyfill so background images work as expected. */\n",
              "        background-size: auto;\n",
              "    }\n",
              "    .progress-bar-interrupted, .progress-bar-interrupted::-webkit-progress-bar {\n",
              "        background: #F44336;\n",
              "    }\n",
              "</style>\n"
            ]
          },
          "metadata": {}
        },
        {
          "output_type": "display_data",
          "data": {
            "text/plain": [
              "<IPython.core.display.HTML object>"
            ],
            "text/html": [
              "\n",
              "    <div>\n",
              "      <progress value='119086' class='' max='200000' style='width:300px; height:20px; vertical-align: middle;'></progress>\n",
              "      59.54% [119086/200000 01:55<01:18 Average Loss = -26,767]\n",
              "    </div>\n",
              "    "
            ]
          },
          "metadata": {}
        },
        {
          "output_type": "stream",
          "name": "stderr",
          "text": [
            "Convergence achieved at 119200\n",
            "Interrupted at 119,199 [59%]: Average Loss = 3.6928e+30\n",
            "Sequential sampling (2 chains in 1 job)\n",
            "NUTS: [epsilon, rate2, rate1, R, L, B, U, c_fl, K_D]\n"
          ]
        },
        {
          "output_type": "display_data",
          "data": {
            "text/plain": [
              "<IPython.core.display.HTML object>"
            ],
            "text/html": [
              "\n",
              "<style>\n",
              "    /* Turns off some styling */\n",
              "    progress {\n",
              "        /* gets rid of default border in Firefox and Opera. */\n",
              "        border: none;\n",
              "        /* Needs to be in here for Safari polyfill so background images work as expected. */\n",
              "        background-size: auto;\n",
              "    }\n",
              "    .progress-bar-interrupted, .progress-bar-interrupted::-webkit-progress-bar {\n",
              "        background: #F44336;\n",
              "    }\n",
              "</style>\n"
            ]
          },
          "metadata": {}
        },
        {
          "output_type": "display_data",
          "data": {
            "text/plain": [
              "<IPython.core.display.HTML object>"
            ],
            "text/html": [
              "\n",
              "    <div>\n",
              "      <progress value='300' class='' max='300' style='width:300px; height:20px; vertical-align: middle;'></progress>\n",
              "      100.00% [300/300 01:45<00:00 Sampling chain 0, 0 divergences]\n",
              "    </div>\n",
              "    "
            ]
          },
          "metadata": {}
        },
        {
          "output_type": "display_data",
          "data": {
            "text/plain": [
              "<IPython.core.display.HTML object>"
            ],
            "text/html": [
              "\n",
              "<style>\n",
              "    /* Turns off some styling */\n",
              "    progress {\n",
              "        /* gets rid of default border in Firefox and Opera. */\n",
              "        border: none;\n",
              "        /* Needs to be in here for Safari polyfill so background images work as expected. */\n",
              "        background-size: auto;\n",
              "    }\n",
              "    .progress-bar-interrupted, .progress-bar-interrupted::-webkit-progress-bar {\n",
              "        background: #F44336;\n",
              "    }\n",
              "</style>\n"
            ]
          },
          "metadata": {}
        },
        {
          "output_type": "display_data",
          "data": {
            "text/plain": [
              "<IPython.core.display.HTML object>"
            ],
            "text/html": [
              "\n",
              "    <div>\n",
              "      <progress value='300' class='' max='300' style='width:300px; height:20px; vertical-align: middle;'></progress>\n",
              "      100.00% [300/300 01:40<00:00 Sampling chain 1, 0 divergences]\n",
              "    </div>\n",
              "    "
            ]
          },
          "metadata": {}
        },
        {
          "output_type": "stream",
          "name": "stderr",
          "text": [
            "Sampling 2 chains for 100 tune and 200 draw iterations (200 + 400 draws total) took 206 seconds.\n",
            "The rhat statistic is larger than 1.4 for some parameters. The sampler did not converge.\n",
            "The number of effective samples is smaller than 10% for some parameters.\n"
          ]
        },
        {
          "output_type": "display_data",
          "data": {
            "text/plain": [
              "<IPython.core.display.HTML object>"
            ],
            "text/html": [
              "\n",
              "<style>\n",
              "    /* Turns off some styling */\n",
              "    progress {\n",
              "        /* gets rid of default border in Firefox and Opera. */\n",
              "        border: none;\n",
              "        /* Needs to be in here for Safari polyfill so background images work as expected. */\n",
              "        background-size: auto;\n",
              "    }\n",
              "    .progress-bar-interrupted, .progress-bar-interrupted::-webkit-progress-bar {\n",
              "        background: #F44336;\n",
              "    }\n",
              "</style>\n"
            ]
          },
          "metadata": {}
        },
        {
          "output_type": "display_data",
          "data": {
            "text/plain": [
              "<IPython.core.display.HTML object>"
            ],
            "text/html": [
              "\n",
              "    <div>\n",
              "      <progress value='1000' class='' max='1000' style='width:300px; height:20px; vertical-align: middle;'></progress>\n",
              "      100.00% [1000/1000 00:07<00:00]\n",
              "    </div>\n",
              "    "
            ]
          },
          "metadata": {}
        }
      ]
    },
    {
      "cell_type": "code",
      "source": [
        "#@title Alternative 2: Perform the MCMC sampling (linear phase starts at time 0)\n",
        "#@markdown Use scenario: Fnorm is stable at 1 before IR irradiation, but after irradiation there is a trendlike increase or decrease in at least some of the progress curves. Possible causes: temperature induced denaturation, direct IR absorption in protein results in electrodynamic interaction between protein and ligand.\n",
        "\n",
        "#@markdown Enter labeled protein concentration in units of nM:\n",
        "FluoConc =  20#@param {type:\"number\"}\n",
        "#@markdown Enter the number of capillaries used in the experiment. The concentration of the ligand will be infered from the data file.\n",
        "Capillary = \"16\" #@param [\"1\", \"2\", \"3\", \"4\", \"5\", \"6\", \"7\", \"8\", \"9\", \"10\", \"11\", \"12\", \"13\", \"14\", \"15\", \"16\"]\n",
        "\n",
        "cap=int(Capillary)\n",
        "time=np.array([onedtime[:,]]*cap,dtype=float).transpose()\n",
        "with pm.Model() as model:\n",
        "    Kd = pm.Uniform('Kd', 1, 1e6)\n",
        "    BoundedNormal = pm.Bound(pm.Normal, lower=0, upper=1e8)\n",
        "    FC = BoundedNormal('FC',mu=FluoConc,sd=FluoConc/10.0)\n",
        "\n",
        "    ampunbound=pm.Beta('ampunbound',alpha=1,beta=1)\n",
        "    ampbound=pm.Beta('ampbound',alpha=1,beta=1)\n",
        "    totalamp=pm.Deterministic('totalamp', ampunbound + (ampbound-ampunbound)*((FC + cideal.astype(float) + Kd - pm.math.sqrt(pm.math.sqr(FC + cideal.astype(float) + Kd) - 4.0*FC*cideal.astype(float)))/(2*FC)))\n",
        "\n",
        "    \n",
        "    linslope=pm.Uniform('linslope',-1,1, shape=cap)\n",
        "    level=pm.Deterministic('level',1-totalamp)\n",
        "    ampfract=pm.Beta('ampfract',alpha=2,beta=1, shape=cap)\n",
        "    amp1=pm.Deterministic('amp1',totalamp*ampfract)\n",
        "    amp2=pm.Deterministic('amp2',totalamp*(1-ampfract))\n",
        "    rate1=pm.Lognormal('rate1',0,1, shape=cap)\n",
        "    rate2=pm.Lognormal('rate2',0,1, shape=cap)\n",
        "\n",
        "    linearphase=linslope*(time)\n",
        "    expcomp1=amp1*pm.math.exp(-1.0*rate1*time)\n",
        "    expcomp2=amp2*pm.math.exp(-1.0*rate2*time)\n",
        "\n",
        "    sigma = pm.Lognormal('sigma', 0, 1)\n",
        "    laseron=np.tile(np.arange(0, 543), (cap,1)).T\n",
        "\n",
        "    pr = switch(75 >= laseron, 1.0, linearphase+level+expcomp1+expcomp2)\n",
        "\n",
        "\n",
        "    pred = pm.Normal('pred', mu=pr[0:475], sd=sigma, observed=fluorescence.astype(float).iloc[0:475])\n",
        "\n",
        "\n",
        "with model:\n",
        "    trace = pm.sampling.sample(2000, tune=1000,\n",
        "                      init='ADVI'\n",
        "                     )\n",
        "    \n",
        "with model:\n",
        "    ppc = pm.sample_posterior_predictive(trace, samples=1000 ,model=model)"
      ],
      "metadata": {
        "colab": {
          "base_uri": "https://localhost:8080/",
          "height": 393
        },
        "id": "OgMcYdCRcc_R",
        "outputId": "4287e462-a291-416d-862b-a4022f3d130b"
      },
      "execution_count": null,
      "outputs": [
        {
          "output_type": "stream",
          "name": "stderr",
          "text": [
            "/usr/local/lib/python3.7/dist-packages/ipykernel_launcher.py:42: FutureWarning: In v4.0, pm.sample will return an `arviz.InferenceData` object instead of a `MultiTrace` by default. You can pass return_inferencedata=True or return_inferencedata=False to be safe and silence this warning.\n",
            "Auto-assigning NUTS sampler...\n",
            "Initializing NUTS using advi...\n"
          ]
        },
        {
          "output_type": "display_data",
          "data": {
            "text/html": [
              "\n",
              "<style>\n",
              "    /* Turns off some styling */\n",
              "    progress {\n",
              "        /* gets rid of default border in Firefox and Opera. */\n",
              "        border: none;\n",
              "        /* Needs to be in here for Safari polyfill so background images work as expected. */\n",
              "        background-size: auto;\n",
              "    }\n",
              "    .progress-bar-interrupted, .progress-bar-interrupted::-webkit-progress-bar {\n",
              "        background: #F44336;\n",
              "    }\n",
              "</style>\n"
            ],
            "text/plain": [
              "<IPython.core.display.HTML object>"
            ]
          },
          "metadata": {}
        },
        {
          "output_type": "display_data",
          "data": {
            "text/html": [
              "\n",
              "    <div>\n",
              "      <progress value='66087' class='' max='200000' style='width:300px; height:20px; vertical-align: middle;'></progress>\n",
              "      33.04% [66087/200000 01:18<02:38 Average Loss = -34,679]\n",
              "    </div>\n",
              "    "
            ],
            "text/plain": [
              "<IPython.core.display.HTML object>"
            ]
          },
          "metadata": {}
        },
        {
          "output_type": "stream",
          "name": "stderr",
          "text": [
            "Convergence achieved at 66200\n",
            "Interrupted at 66,199 [33%]: Average Loss = 1.4816e+13\n",
            "Sequential sampling (2 chains in 1 job)\n",
            "NUTS: [sigma, rate2, rate1, ampfract, linslope, ampbound, ampunbound, FC, Kd]\n"
          ]
        },
        {
          "output_type": "display_data",
          "data": {
            "text/html": [
              "\n",
              "<style>\n",
              "    /* Turns off some styling */\n",
              "    progress {\n",
              "        /* gets rid of default border in Firefox and Opera. */\n",
              "        border: none;\n",
              "        /* Needs to be in here for Safari polyfill so background images work as expected. */\n",
              "        background-size: auto;\n",
              "    }\n",
              "    .progress-bar-interrupted, .progress-bar-interrupted::-webkit-progress-bar {\n",
              "        background: #F44336;\n",
              "    }\n",
              "</style>\n"
            ],
            "text/plain": [
              "<IPython.core.display.HTML object>"
            ]
          },
          "metadata": {}
        },
        {
          "output_type": "display_data",
          "data": {
            "text/html": [
              "\n",
              "    <div>\n",
              "      <progress value='3000' class='' max='3000' style='width:300px; height:20px; vertical-align: middle;'></progress>\n",
              "      100.00% [3000/3000 29:21<00:00 Sampling chain 0, 1 divergences]\n",
              "    </div>\n",
              "    "
            ],
            "text/plain": [
              "<IPython.core.display.HTML object>"
            ]
          },
          "metadata": {}
        },
        {
          "output_type": "display_data",
          "data": {
            "text/html": [
              "\n",
              "<style>\n",
              "    /* Turns off some styling */\n",
              "    progress {\n",
              "        /* gets rid of default border in Firefox and Opera. */\n",
              "        border: none;\n",
              "        /* Needs to be in here for Safari polyfill so background images work as expected. */\n",
              "        background-size: auto;\n",
              "    }\n",
              "    .progress-bar-interrupted, .progress-bar-interrupted::-webkit-progress-bar {\n",
              "        background: #F44336;\n",
              "    }\n",
              "</style>\n"
            ],
            "text/plain": [
              "<IPython.core.display.HTML object>"
            ]
          },
          "metadata": {}
        },
        {
          "output_type": "display_data",
          "data": {
            "text/html": [
              "\n",
              "    <div>\n",
              "      <progress value='3000' class='' max='3000' style='width:300px; height:20px; vertical-align: middle;'></progress>\n",
              "      100.00% [3000/3000 33:21<00:00 Sampling chain 1, 0 divergences]\n",
              "    </div>\n",
              "    "
            ],
            "text/plain": [
              "<IPython.core.display.HTML object>"
            ]
          },
          "metadata": {}
        },
        {
          "output_type": "stream",
          "name": "stderr",
          "text": [
            "Sampling 2 chains for 1_000 tune and 2_000 draw iterations (2_000 + 4_000 draws total) took 3763 seconds.\n",
            "There was 1 divergence after tuning. Increase `target_accept` or reparameterize.\n",
            "The chain reached the maximum tree depth. Increase max_treedepth, increase target_accept or reparameterize.\n",
            "There was 1 divergence after tuning. Increase `target_accept` or reparameterize.\n",
            "The chain reached the maximum tree depth. Increase max_treedepth, increase target_accept or reparameterize.\n",
            "The number of effective samples is smaller than 25% for some parameters.\n",
            "/usr/local/lib/python3.7/dist-packages/pymc3/sampling.py:1690: UserWarning: samples parameter is smaller than nchains times ndraws, some draws and/or chains may not be represented in the returned posterior predictive sample\n",
            "  \"samples parameter is smaller than nchains times ndraws, some draws \"\n"
          ]
        },
        {
          "output_type": "display_data",
          "data": {
            "text/html": [
              "\n",
              "<style>\n",
              "    /* Turns off some styling */\n",
              "    progress {\n",
              "        /* gets rid of default border in Firefox and Opera. */\n",
              "        border: none;\n",
              "        /* Needs to be in here for Safari polyfill so background images work as expected. */\n",
              "        background-size: auto;\n",
              "    }\n",
              "    .progress-bar-interrupted, .progress-bar-interrupted::-webkit-progress-bar {\n",
              "        background: #F44336;\n",
              "    }\n",
              "</style>\n"
            ],
            "text/plain": [
              "<IPython.core.display.HTML object>"
            ]
          },
          "metadata": {}
        },
        {
          "output_type": "display_data",
          "data": {
            "text/html": [
              "\n",
              "    <div>\n",
              "      <progress value='1000' class='' max='1000' style='width:300px; height:20px; vertical-align: middle;'></progress>\n",
              "      100.00% [1000/1000 00:06<00:00]\n",
              "    </div>\n",
              "    "
            ],
            "text/plain": [
              "<IPython.core.display.HTML object>"
            ]
          },
          "metadata": {}
        }
      ]
    },
    {
      "cell_type": "code",
      "source": [
        "#@title Statistics of global variables\n",
        "#@markdown Kd and FC units are traditionally expressed in nM in the Nanotemper software, the amplitudes and sigma is expressed as Fnorm  \n",
        "pm.stats.summary(trace,var_names=['K_D','B','U', 'epsilon','c_fl'])\n"
      ],
      "metadata": {
        "colab": {
          "base_uri": "https://localhost:8080/",
          "height": 278
        },
        "id": "59F3JTPXdNR4",
        "outputId": "1c5319e4-0e81-4fd2-e83c-3e583503cbb2",
        "cellView": "form"
      },
      "execution_count": 14,
      "outputs": [
        {
          "output_type": "stream",
          "name": "stderr",
          "text": [
            "Got error No model on context stack. trying to find log_likelihood in translation.\n",
            "/usr/local/lib/python3.7/dist-packages/arviz/data/io_pymc3_3x.py:102: FutureWarning: Using `from_pymc3` without the model will be deprecated in a future release. Not using the model will return less accurate and less useful results. Make sure you use the model argument or call from_pymc3 within a model context.\n",
            "  FutureWarning,\n"
          ]
        },
        {
          "output_type": "execute_result",
          "data": {
            "text/plain": [
              "               mean          sd     hdi_3%     hdi_97%  mcse_mean    mcse_sd  \\\n",
              "K_D      552277.210  275710.566  87746.140  993074.267  32560.283  23117.906   \n",
              "B             0.499       0.279      0.036       0.916      0.041      0.029   \n",
              "U             0.063       0.000      0.063       0.063      0.000      0.000   \n",
              "epsilon       0.001       0.000      0.001       0.001      0.000      0.000   \n",
              "c_fl          0.000       0.000      0.000       0.000      0.000      0.000   \n",
              "\n",
              "         ess_bulk  ess_tail  r_hat  \n",
              "K_D          77.0     163.0   1.01  \n",
              "B            48.0     110.0   1.02  \n",
              "U             4.0      17.0   1.40  \n",
              "epsilon      70.0      97.0   1.03  \n",
              "c_fl         57.0      97.0   1.01  "
            ],
            "text/html": [
              "\n",
              "  <div id=\"df-d40b4638-4819-432d-a1eb-66af44d7fc1a\">\n",
              "    <div class=\"colab-df-container\">\n",
              "      <div>\n",
              "<style scoped>\n",
              "    .dataframe tbody tr th:only-of-type {\n",
              "        vertical-align: middle;\n",
              "    }\n",
              "\n",
              "    .dataframe tbody tr th {\n",
              "        vertical-align: top;\n",
              "    }\n",
              "\n",
              "    .dataframe thead th {\n",
              "        text-align: right;\n",
              "    }\n",
              "</style>\n",
              "<table border=\"1\" class=\"dataframe\">\n",
              "  <thead>\n",
              "    <tr style=\"text-align: right;\">\n",
              "      <th></th>\n",
              "      <th>mean</th>\n",
              "      <th>sd</th>\n",
              "      <th>hdi_3%</th>\n",
              "      <th>hdi_97%</th>\n",
              "      <th>mcse_mean</th>\n",
              "      <th>mcse_sd</th>\n",
              "      <th>ess_bulk</th>\n",
              "      <th>ess_tail</th>\n",
              "      <th>r_hat</th>\n",
              "    </tr>\n",
              "  </thead>\n",
              "  <tbody>\n",
              "    <tr>\n",
              "      <th>K_D</th>\n",
              "      <td>552277.210</td>\n",
              "      <td>275710.566</td>\n",
              "      <td>87746.140</td>\n",
              "      <td>993074.267</td>\n",
              "      <td>32560.283</td>\n",
              "      <td>23117.906</td>\n",
              "      <td>77.0</td>\n",
              "      <td>163.0</td>\n",
              "      <td>1.01</td>\n",
              "    </tr>\n",
              "    <tr>\n",
              "      <th>B</th>\n",
              "      <td>0.499</td>\n",
              "      <td>0.279</td>\n",
              "      <td>0.036</td>\n",
              "      <td>0.916</td>\n",
              "      <td>0.041</td>\n",
              "      <td>0.029</td>\n",
              "      <td>48.0</td>\n",
              "      <td>110.0</td>\n",
              "      <td>1.02</td>\n",
              "    </tr>\n",
              "    <tr>\n",
              "      <th>U</th>\n",
              "      <td>0.063</td>\n",
              "      <td>0.000</td>\n",
              "      <td>0.063</td>\n",
              "      <td>0.063</td>\n",
              "      <td>0.000</td>\n",
              "      <td>0.000</td>\n",
              "      <td>4.0</td>\n",
              "      <td>17.0</td>\n",
              "      <td>1.40</td>\n",
              "    </tr>\n",
              "    <tr>\n",
              "      <th>epsilon</th>\n",
              "      <td>0.001</td>\n",
              "      <td>0.000</td>\n",
              "      <td>0.001</td>\n",
              "      <td>0.001</td>\n",
              "      <td>0.000</td>\n",
              "      <td>0.000</td>\n",
              "      <td>70.0</td>\n",
              "      <td>97.0</td>\n",
              "      <td>1.03</td>\n",
              "    </tr>\n",
              "    <tr>\n",
              "      <th>c_fl</th>\n",
              "      <td>0.000</td>\n",
              "      <td>0.000</td>\n",
              "      <td>0.000</td>\n",
              "      <td>0.000</td>\n",
              "      <td>0.000</td>\n",
              "      <td>0.000</td>\n",
              "      <td>57.0</td>\n",
              "      <td>97.0</td>\n",
              "      <td>1.01</td>\n",
              "    </tr>\n",
              "  </tbody>\n",
              "</table>\n",
              "</div>\n",
              "      <button class=\"colab-df-convert\" onclick=\"convertToInteractive('df-d40b4638-4819-432d-a1eb-66af44d7fc1a')\"\n",
              "              title=\"Convert this dataframe to an interactive table.\"\n",
              "              style=\"display:none;\">\n",
              "        \n",
              "  <svg xmlns=\"http://www.w3.org/2000/svg\" height=\"24px\"viewBox=\"0 0 24 24\"\n",
              "       width=\"24px\">\n",
              "    <path d=\"M0 0h24v24H0V0z\" fill=\"none\"/>\n",
              "    <path d=\"M18.56 5.44l.94 2.06.94-2.06 2.06-.94-2.06-.94-.94-2.06-.94 2.06-2.06.94zm-11 1L8.5 8.5l.94-2.06 2.06-.94-2.06-.94L8.5 2.5l-.94 2.06-2.06.94zm10 10l.94 2.06.94-2.06 2.06-.94-2.06-.94-.94-2.06-.94 2.06-2.06.94z\"/><path d=\"M17.41 7.96l-1.37-1.37c-.4-.4-.92-.59-1.43-.59-.52 0-1.04.2-1.43.59L10.3 9.45l-7.72 7.72c-.78.78-.78 2.05 0 2.83L4 21.41c.39.39.9.59 1.41.59.51 0 1.02-.2 1.41-.59l7.78-7.78 2.81-2.81c.8-.78.8-2.07 0-2.86zM5.41 20L4 18.59l7.72-7.72 1.47 1.35L5.41 20z\"/>\n",
              "  </svg>\n",
              "      </button>\n",
              "      \n",
              "  <style>\n",
              "    .colab-df-container {\n",
              "      display:flex;\n",
              "      flex-wrap:wrap;\n",
              "      gap: 12px;\n",
              "    }\n",
              "\n",
              "    .colab-df-convert {\n",
              "      background-color: #E8F0FE;\n",
              "      border: none;\n",
              "      border-radius: 50%;\n",
              "      cursor: pointer;\n",
              "      display: none;\n",
              "      fill: #1967D2;\n",
              "      height: 32px;\n",
              "      padding: 0 0 0 0;\n",
              "      width: 32px;\n",
              "    }\n",
              "\n",
              "    .colab-df-convert:hover {\n",
              "      background-color: #E2EBFA;\n",
              "      box-shadow: 0px 1px 2px rgba(60, 64, 67, 0.3), 0px 1px 3px 1px rgba(60, 64, 67, 0.15);\n",
              "      fill: #174EA6;\n",
              "    }\n",
              "\n",
              "    [theme=dark] .colab-df-convert {\n",
              "      background-color: #3B4455;\n",
              "      fill: #D2E3FC;\n",
              "    }\n",
              "\n",
              "    [theme=dark] .colab-df-convert:hover {\n",
              "      background-color: #434B5C;\n",
              "      box-shadow: 0px 1px 3px 1px rgba(0, 0, 0, 0.15);\n",
              "      filter: drop-shadow(0px 1px 2px rgba(0, 0, 0, 0.3));\n",
              "      fill: #FFFFFF;\n",
              "    }\n",
              "  </style>\n",
              "\n",
              "      <script>\n",
              "        const buttonEl =\n",
              "          document.querySelector('#df-d40b4638-4819-432d-a1eb-66af44d7fc1a button.colab-df-convert');\n",
              "        buttonEl.style.display =\n",
              "          google.colab.kernel.accessAllowed ? 'block' : 'none';\n",
              "\n",
              "        async function convertToInteractive(key) {\n",
              "          const element = document.querySelector('#df-d40b4638-4819-432d-a1eb-66af44d7fc1a');\n",
              "          const dataTable =\n",
              "            await google.colab.kernel.invokeFunction('convertToInteractive',\n",
              "                                                     [key], {});\n",
              "          if (!dataTable) return;\n",
              "\n",
              "          const docLinkHtml = 'Like what you see? Visit the ' +\n",
              "            '<a target=\"_blank\" href=https://colab.research.google.com/notebooks/data_table.ipynb>data table notebook</a>'\n",
              "            + ' to learn more about interactive tables.';\n",
              "          element.innerHTML = '';\n",
              "          dataTable['output_type'] = 'display_data';\n",
              "          await google.colab.output.renderOutput(dataTable, element);\n",
              "          const docLink = document.createElement('div');\n",
              "          docLink.innerHTML = docLinkHtml;\n",
              "          element.appendChild(docLink);\n",
              "        }\n",
              "      </script>\n",
              "    </div>\n",
              "  </div>\n",
              "  "
            ]
          },
          "metadata": {},
          "execution_count": 14
        }
      ]
    },
    {
      "cell_type": "code",
      "source": [
        "#@title Posterior predictive check { run: \"auto\" }\n",
        "#@markdown Choose the capillary to analyse:\n",
        "Capillary = \"1\" #@param [\"1\", \"2\", \"3\", \"4\", \"5\", \"6\", \"7\", \"8\", \"9\", \"10\", \"11\", \"12\", \"13\", \"14\", \"15\", \"16\"]\n",
        "\n",
        "plt.plot(onedtime[start:end],fluorescence[int(Capillary)-1].astype(float).iloc[start:end], color='gray')\n",
        "plt.plot(onedtime[start:end],np.mean(ppc['P'][:,:,int(Capillary)-1], axis=0))\n",
        "plt.fill_between(np.array(onedtime[start:end],dtype=float), np.array(pm.stats.hdi(ppc['P'][:,:,int(Capillary)-1])[:,0],dtype=float) ,np.array(pm.stats.hdi(ppc['P'][:,:,int(Capillary)-1])[:,1],dtype=float) , alpha=0.5)\n"
      ],
      "metadata": {
        "colab": {
          "base_uri": "https://localhost:8080/",
          "height": 337
        },
        "id": "1MjwpdO-NhSi",
        "outputId": "3d3bb8bd-251d-4764-a2b4-98d759085acd"
      },
      "execution_count": 36,
      "outputs": [
        {
          "output_type": "stream",
          "name": "stderr",
          "text": [
            "/usr/local/lib/python3.7/dist-packages/ipykernel_launcher.py:7: FutureWarning: hdi currently interprets 2d data as (draw, shape) but this will change in a future release to (chain, draw) for coherence with other functions\n",
            "  import sys\n"
          ]
        },
        {
          "output_type": "execute_result",
          "data": {
            "text/plain": [
              "<matplotlib.collections.PolyCollection at 0x7f56e4ba20d0>"
            ]
          },
          "metadata": {},
          "execution_count": 36
        },
        {
          "output_type": "display_data",
          "data": {
            "text/plain": [
              "<Figure size 432x288 with 1 Axes>"
            ],
            "image/png": "[encoded data removed]"
          },
          "metadata": {
            "needs_background": "light"
          }
        }
      ]
    },
    {
      "cell_type": "code",
      "source": [
        "fluorescence"
      ],
      "metadata": {
        "id": "A4v_KuEi0_8I",
        "outputId": "7b6cbcb4-5a5c-48ac-d4c2-55c787832e87",
        "colab": {
          "base_uri": "https://localhost:8080/",
          "height": 505
        }
      },
      "execution_count": null,
      "outputs": [
        {
          "output_type": "execute_result",
          "data": {
            "text/plain": [
              "    NanoTemper Technologies.1 Unnamed: 4 Unnamed: 7 Unnamed: 10 Unnamed: 13  \\\n",
              "0                    1.001723   0.997642   1.000468    0.997507    0.998625   \n",
              "1                    0.999152   1.001489   0.998536    0.999687    1.001364   \n",
              "2                    1.001331   1.000538   1.000017    1.001528    1.002331   \n",
              "3                    0.999283   1.000956   1.000546    1.000831    0.997973   \n",
              "4                    1.002078   0.998798   0.998863    1.002002    0.998903   \n",
              "..                        ...        ...        ...         ...         ...   \n",
              "538                  0.896745   0.900451   0.899821    0.898078    0.898737   \n",
              "539                  0.898365   0.898314   0.901775    0.898775    0.896349   \n",
              "540                  0.901988   0.903488   0.901732    0.897996    0.899176   \n",
              "541                  0.901858   0.902229   0.904231    0.902132    0.899535   \n",
              "542                  0.900596   0.903784    0.90498     0.90064    0.903436   \n",
              "\n",
              "    Unnamed: 16 Unnamed: 19 Unnamed: 22 Unnamed: 25 Unnamed: 28 Unnamed: 31  \\\n",
              "0      0.997517    1.000453    0.999429    0.999199    0.999144    1.000779   \n",
              "1      1.001993    0.998387    1.001346     1.00189    0.998562    1.000301   \n",
              "2      1.001108     0.99825     1.00008    0.996793    0.999876    0.999912   \n",
              "3      0.999157     1.00218     1.00029    1.000345    0.998692    1.002187   \n",
              "4      1.001125    1.002892    1.001704    0.998551    0.999767    0.998391   \n",
              "..          ...         ...         ...         ...         ...         ...   \n",
              "538    0.899341    0.904167     0.90282    0.934527    0.908036    0.908358   \n",
              "539    0.898173    0.902757    0.905427    0.936075    0.907212    0.909811   \n",
              "540     0.89912    0.903672     0.90555     0.93834    0.908355    0.911661   \n",
              "541    0.899649    0.906314    0.905715    0.939989    0.911096    0.911557   \n",
              "542    0.902179    0.908767    0.907014    0.940937    0.910301    0.915104   \n",
              "\n",
              "    Unnamed: 34 Unnamed: 37 Unnamed: 40 Unnamed: 43 Unnamed: 46  \n",
              "0        0.9994    0.997883    0.999281    0.999722    1.001121  \n",
              "1      0.998452    1.000142    1.000299    0.999014    0.999616  \n",
              "2      0.999081    1.000335    0.997249    1.001848    1.003206  \n",
              "3      1.000256    0.999698    0.999508    1.000812    0.998571  \n",
              "4      1.000572    1.000867    0.998522    1.000259    0.998662  \n",
              "..          ...         ...         ...         ...         ...  \n",
              "538    0.907624     0.90825    0.909877    0.914866     0.91249  \n",
              "539    0.907789    0.910408    0.910548    0.916074    0.917994  \n",
              "540    0.911626     0.91199    0.911194    0.915839     0.91767  \n",
              "541    0.911923    0.912441    0.912533    0.916944    0.916911  \n",
              "542    0.912422    0.913317    0.915164     0.91859    0.915552  \n",
              "\n",
              "[543 rows x 16 columns]"
            ],
            "text/html": [
              "\n",
              "  <div id=\"df-e74b5343-e1ac-463e-97e8-ab4cbe774e71\">\n",
              "    <div class=\"colab-df-container\">\n",
              "      <div>\n",
              "<style scoped>\n",
              "    .dataframe tbody tr th:only-of-type {\n",
              "        vertical-align: middle;\n",
              "    }\n",
              "\n",
              "    .dataframe tbody tr th {\n",
              "        vertical-align: top;\n",
              "    }\n",
              "\n",
              "    .dataframe thead th {\n",
              "        text-align: right;\n",
              "    }\n",
              "</style>\n",
              "<table border=\"1\" class=\"dataframe\">\n",
              "  <thead>\n",
              "    <tr style=\"text-align: right;\">\n",
              "      <th></th>\n",
              "      <th>NanoTemper Technologies.1</th>\n",
              "      <th>Unnamed: 4</th>\n",
              "      <th>Unnamed: 7</th>\n",
              "      <th>Unnamed: 10</th>\n",
              "      <th>Unnamed: 13</th>\n",
              "      <th>Unnamed: 16</th>\n",
              "      <th>Unnamed: 19</th>\n",
              "      <th>Unnamed: 22</th>\n",
              "      <th>Unnamed: 25</th>\n",
              "      <th>Unnamed: 28</th>\n",
              "      <th>Unnamed: 31</th>\n",
              "      <th>Unnamed: 34</th>\n",
              "      <th>Unnamed: 37</th>\n",
              "      <th>Unnamed: 40</th>\n",
              "      <th>Unnamed: 43</th>\n",
              "      <th>Unnamed: 46</th>\n",
              "    </tr>\n",
              "  </thead>\n",
              "  <tbody>\n",
              "    <tr>\n",
              "      <th>0</th>\n",
              "      <td>1.001723</td>\n",
              "      <td>0.997642</td>\n",
              "      <td>1.000468</td>\n",
              "      <td>0.997507</td>\n",
              "      <td>0.998625</td>\n",
              "      <td>0.997517</td>\n",
              "      <td>1.000453</td>\n",
              "      <td>0.999429</td>\n",
              "      <td>0.999199</td>\n",
              "      <td>0.999144</td>\n",
              "      <td>1.000779</td>\n",
              "      <td>0.9994</td>\n",
              "      <td>0.997883</td>\n",
              "      <td>0.999281</td>\n",
              "      <td>0.999722</td>\n",
              "      <td>1.001121</td>\n",
              "    </tr>\n",
              "    <tr>\n",
              "      <th>1</th>\n",
              "      <td>0.999152</td>\n",
              "      <td>1.001489</td>\n",
              "      <td>0.998536</td>\n",
              "      <td>0.999687</td>\n",
              "      <td>1.001364</td>\n",
              "      <td>1.001993</td>\n",
              "      <td>0.998387</td>\n",
              "      <td>1.001346</td>\n",
              "      <td>1.00189</td>\n",
              "      <td>0.998562</td>\n",
              "      <td>1.000301</td>\n",
              "      <td>0.998452</td>\n",
              "      <td>1.000142</td>\n",
              "      <td>1.000299</td>\n",
              "      <td>0.999014</td>\n",
              "      <td>0.999616</td>\n",
              "    </tr>\n",
              "    <tr>\n",
              "      <th>2</th>\n",
              "      <td>1.001331</td>\n",
              "      <td>1.000538</td>\n",
              "      <td>1.000017</td>\n",
              "      <td>1.001528</td>\n",
              "      <td>1.002331</td>\n",
              "      <td>1.001108</td>\n",
              "      <td>0.99825</td>\n",
              "      <td>1.00008</td>\n",
              "      <td>0.996793</td>\n",
              "      <td>0.999876</td>\n",
              "      <td>0.999912</td>\n",
              "      <td>0.999081</td>\n",
              "      <td>1.000335</td>\n",
              "      <td>0.997249</td>\n",
              "      <td>1.001848</td>\n",
              "      <td>1.003206</td>\n",
              "    </tr>\n",
              "    <tr>\n",
              "      <th>3</th>\n",
              "      <td>0.999283</td>\n",
              "      <td>1.000956</td>\n",
              "      <td>1.000546</td>\n",
              "      <td>1.000831</td>\n",
              "      <td>0.997973</td>\n",
              "      <td>0.999157</td>\n",
              "      <td>1.00218</td>\n",
              "      <td>1.00029</td>\n",
              "      <td>1.000345</td>\n",
              "      <td>0.998692</td>\n",
              "      <td>1.002187</td>\n",
              "      <td>1.000256</td>\n",
              "      <td>0.999698</td>\n",
              "      <td>0.999508</td>\n",
              "      <td>1.000812</td>\n",
              "      <td>0.998571</td>\n",
              "    </tr>\n",
              "    <tr>\n",
              "      <th>4</th>\n",
              "      <td>1.002078</td>\n",
              "      <td>0.998798</td>\n",
              "      <td>0.998863</td>\n",
              "      <td>1.002002</td>\n",
              "      <td>0.998903</td>\n",
              "      <td>1.001125</td>\n",
              "      <td>1.002892</td>\n",
              "      <td>1.001704</td>\n",
              "      <td>0.998551</td>\n",
              "      <td>0.999767</td>\n",
              "      <td>0.998391</td>\n",
              "      <td>1.000572</td>\n",
              "      <td>1.000867</td>\n",
              "      <td>0.998522</td>\n",
              "      <td>1.000259</td>\n",
              "      <td>0.998662</td>\n",
              "    </tr>\n",
              "    <tr>\n",
              "      <th>...</th>\n",
              "      <td>...</td>\n",
              "      <td>...</td>\n",
              "      <td>...</td>\n",
              "      <td>...</td>\n",
              "      <td>...</td>\n",
              "      <td>...</td>\n",
              "      <td>...</td>\n",
              "      <td>...</td>\n",
              "      <td>...</td>\n",
              "      <td>...</td>\n",
              "      <td>...</td>\n",
              "      <td>...</td>\n",
              "      <td>...</td>\n",
              "      <td>...</td>\n",
              "      <td>...</td>\n",
              "      <td>...</td>\n",
              "    </tr>\n",
              "    <tr>\n",
              "      <th>538</th>\n",
              "      <td>0.896745</td>\n",
              "      <td>0.900451</td>\n",
              "      <td>0.899821</td>\n",
              "      <td>0.898078</td>\n",
              "      <td>0.898737</td>\n",
              "      <td>0.899341</td>\n",
              "      <td>0.904167</td>\n",
              "      <td>0.90282</td>\n",
              "      <td>0.934527</td>\n",
              "      <td>0.908036</td>\n",
              "      <td>0.908358</td>\n",
              "      <td>0.907624</td>\n",
              "      <td>0.90825</td>\n",
              "      <td>0.909877</td>\n",
              "      <td>0.914866</td>\n",
              "      <td>0.91249</td>\n",
              "    </tr>\n",
              "    <tr>\n",
              "      <th>539</th>\n",
              "      <td>0.898365</td>\n",
              "      <td>0.898314</td>\n",
              "      <td>0.901775</td>\n",
              "      <td>0.898775</td>\n",
              "      <td>0.896349</td>\n",
              "      <td>0.898173</td>\n",
              "      <td>0.902757</td>\n",
              "      <td>0.905427</td>\n",
              "      <td>0.936075</td>\n",
              "      <td>0.907212</td>\n",
              "      <td>0.909811</td>\n",
              "      <td>0.907789</td>\n",
              "      <td>0.910408</td>\n",
              "      <td>0.910548</td>\n",
              "      <td>0.916074</td>\n",
              "      <td>0.917994</td>\n",
              "    </tr>\n",
              "    <tr>\n",
              "      <th>540</th>\n",
              "      <td>0.901988</td>\n",
              "      <td>0.903488</td>\n",
              "      <td>0.901732</td>\n",
              "      <td>0.897996</td>\n",
              "      <td>0.899176</td>\n",
              "      <td>0.89912</td>\n",
              "      <td>0.903672</td>\n",
              "      <td>0.90555</td>\n",
              "      <td>0.93834</td>\n",
              "      <td>0.908355</td>\n",
              "      <td>0.911661</td>\n",
              "      <td>0.911626</td>\n",
              "      <td>0.91199</td>\n",
              "      <td>0.911194</td>\n",
              "      <td>0.915839</td>\n",
              "      <td>0.91767</td>\n",
              "    </tr>\n",
              "    <tr>\n",
              "      <th>541</th>\n",
              "      <td>0.901858</td>\n",
              "      <td>0.902229</td>\n",
              "      <td>0.904231</td>\n",
              "      <td>0.902132</td>\n",
              "      <td>0.899535</td>\n",
              "      <td>0.899649</td>\n",
              "      <td>0.906314</td>\n",
              "      <td>0.905715</td>\n",
              "      <td>0.939989</td>\n",
              "      <td>0.911096</td>\n",
              "      <td>0.911557</td>\n",
              "      <td>0.911923</td>\n",
              "      <td>0.912441</td>\n",
              "      <td>0.912533</td>\n",
              "      <td>0.916944</td>\n",
              "      <td>0.916911</td>\n",
              "    </tr>\n",
              "    <tr>\n",
              "      <th>542</th>\n",
              "      <td>0.900596</td>\n",
              "      <td>0.903784</td>\n",
              "      <td>0.90498</td>\n",
              "      <td>0.90064</td>\n",
              "      <td>0.903436</td>\n",
              "      <td>0.902179</td>\n",
              "      <td>0.908767</td>\n",
              "      <td>0.907014</td>\n",
              "      <td>0.940937</td>\n",
              "      <td>0.910301</td>\n",
              "      <td>0.915104</td>\n",
              "      <td>0.912422</td>\n",
              "      <td>0.913317</td>\n",
              "      <td>0.915164</td>\n",
              "      <td>0.91859</td>\n",
              "      <td>0.915552</td>\n",
              "    </tr>\n",
              "  </tbody>\n",
              "</table>\n",
              "<p>543 rows × 16 columns</p>\n",
              "</div>\n",
              "      <button class=\"colab-df-convert\" onclick=\"convertToInteractive('df-e74b5343-e1ac-463e-97e8-ab4cbe774e71')\"\n",
              "              title=\"Convert this dataframe to an interactive table.\"\n",
              "              style=\"display:none;\">\n",
              "        \n",
              "  <svg xmlns=\"http://www.w3.org/2000/svg\" height=\"24px\"viewBox=\"0 0 24 24\"\n",
              "       width=\"24px\">\n",
              "    <path d=\"M0 0h24v24H0V0z\" fill=\"none\"/>\n",
              "    <path d=\"M18.56 5.44l.94 2.06.94-2.06 2.06-.94-2.06-.94-.94-2.06-.94 2.06-2.06.94zm-11 1L8.5 8.5l.94-2.06 2.06-.94-2.06-.94L8.5 2.5l-.94 2.06-2.06.94zm10 10l.94 2.06.94-2.06 2.06-.94-2.06-.94-.94-2.06-.94 2.06-2.06.94z\"/><path d=\"M17.41 7.96l-1.37-1.37c-.4-.4-.92-.59-1.43-.59-.52 0-1.04.2-1.43.59L10.3 9.45l-7.72 7.72c-.78.78-.78 2.05 0 2.83L4 21.41c.39.39.9.59 1.41.59.51 0 1.02-.2 1.41-.59l7.78-7.78 2.81-2.81c.8-.78.8-2.07 0-2.86zM5.41 20L4 18.59l7.72-7.72 1.47 1.35L5.41 20z\"/>\n",
              "  </svg>\n",
              "      </button>\n",
              "      \n",
              "  <style>\n",
              "    .colab-df-container {\n",
              "      display:flex;\n",
              "      flex-wrap:wrap;\n",
              "      gap: 12px;\n",
              "    }\n",
              "\n",
              "    .colab-df-convert {\n",
              "      background-color: #E8F0FE;\n",
              "      border: none;\n",
              "      border-radius: 50%;\n",
              "      cursor: pointer;\n",
              "      display: none;\n",
              "      fill: #1967D2;\n",
              "      height: 32px;\n",
              "      padding: 0 0 0 0;\n",
              "      width: 32px;\n",
              "    }\n",
              "\n",
              "    .colab-df-convert:hover {\n",
              "      background-color: #E2EBFA;\n",
              "      box-shadow: 0px 1px 2px rgba(60, 64, 67, 0.3), 0px 1px 3px 1px rgba(60, 64, 67, 0.15);\n",
              "      fill: #174EA6;\n",
              "    }\n",
              "\n",
              "    [theme=dark] .colab-df-convert {\n",
              "      background-color: #3B4455;\n",
              "      fill: #D2E3FC;\n",
              "    }\n",
              "\n",
              "    [theme=dark] .colab-df-convert:hover {\n",
              "      background-color: #434B5C;\n",
              "      box-shadow: 0px 1px 3px 1px rgba(0, 0, 0, 0.15);\n",
              "      filter: drop-shadow(0px 1px 2px rgba(0, 0, 0, 0.3));\n",
              "      fill: #FFFFFF;\n",
              "    }\n",
              "  </style>\n",
              "\n",
              "      <script>\n",
              "        const buttonEl =\n",
              "          document.querySelector('#df-e74b5343-e1ac-463e-97e8-ab4cbe774e71 button.colab-df-convert');\n",
              "        buttonEl.style.display =\n",
              "          google.colab.kernel.accessAllowed ? 'block' : 'none';\n",
              "\n",
              "        async function convertToInteractive(key) {\n",
              "          const element = document.querySelector('#df-e74b5343-e1ac-463e-97e8-ab4cbe774e71');\n",
              "          const dataTable =\n",
              "            await google.colab.kernel.invokeFunction('convertToInteractive',\n",
              "                                                     [key], {});\n",
              "          if (!dataTable) return;\n",
              "\n",
              "          const docLinkHtml = 'Like what you see? Visit the ' +\n",
              "            '<a target=\"_blank\" href=https://colab.research.google.com/notebooks/data_table.ipynb>data table notebook</a>'\n",
              "            + ' to learn more about interactive tables.';\n",
              "          element.innerHTML = '';\n",
              "          dataTable['output_type'] = 'display_data';\n",
              "          await google.colab.output.renderOutput(dataTable, element);\n",
              "          const docLink = document.createElement('div');\n",
              "          docLink.innerHTML = docLinkHtml;\n",
              "          element.appendChild(docLink);\n",
              "        }\n",
              "      </script>\n",
              "    </div>\n",
              "  </div>\n",
              "  "
            ]
          },
          "metadata": {},
          "execution_count": 50
        }
      ]
    },
    {
      "cell_type": "code",
      "source": [
        "#@title Concentration dependence of the kinetic parameters. { run: \"auto\" }\n",
        "\n",
        "#@markdown Choose the variable name:\n",
        "string = \"A_total\" #@param [\"A_total\",\"I\", \"rate1\", \"rate2\", \"A_1\", \"A_2\", \"L\"]\n",
        "fig=plt.subplot(111)\n",
        "plt.errorbar(cideal,np.median(trace[string],axis=0),yerr=np.abs(pm.hdi(trace[string]).T-np.median(trace[string],axis=0)))\n",
        "fig.set_xscale('log')"
      ],
      "metadata": {
        "colab": {
          "base_uri": "https://localhost:8080/",
          "height": 324
        },
        "id": "jy6L8---Yu3g",
        "outputId": "0b663640-0ce0-401e-e72b-ee30577b21f8"
      },
      "execution_count": 44,
      "outputs": [
        {
          "output_type": "stream",
          "name": "stderr",
          "text": [
            "/usr/local/lib/python3.7/dist-packages/ipykernel_launcher.py:6: FutureWarning: hdi currently interprets 2d data as (draw, shape) but this will change in a future release to (chain, draw) for coherence with other functions\n",
            "  \n"
          ]
        },
        {
          "output_type": "display_data",
          "data": {
            "text/plain": [
              "<Figure size 432x288 with 1 Axes>"
            ],
            "image/png": "[encoded data removed]"
          },
          "metadata": {
            "needs_background": "light"
          }
        }
      ]
    },
    {
      "cell_type": "code",
      "source": [
        "#@title Posterior distribution of model parameters. { run: \"auto\" }\n",
        "\n",
        "#@markdown Choose the variable name:\n",
        "string = \"U\" #@param [\"K_D\",\"B\",\"U\",\"epsilon\",\"A_total\",\"I\", \"rate1\", \"rate2\", \"A_1\", \"A_2\", \"L\"]\n",
        "with model:\n",
        "  ax=pm.traceplot(trace[0:],[string],combined=True)"
      ],
      "metadata": {
        "colab": {
          "base_uri": "https://localhost:8080/",
          "height": 226
        },
        "id": "i7Pl-BazZxcB",
        "outputId": "98c76e21-a1a5-4faa-ea7e-e75ab0f905a7"
      },
      "execution_count": null,
      "outputs": [
        {
          "output_type": "stream",
          "name": "stderr",
          "text": [
            "/usr/local/lib/python3.7/dist-packages/ipykernel_launcher.py:6: DeprecationWarning: The function `traceplot` from PyMC3 is just an alias for `plot_trace` from ArviZ. Please switch to `pymc3.plot_trace` or `arviz.plot_trace`.\n",
            "  \n"
          ]
        },
        {
          "output_type": "display_data",
          "data": {
            "text/plain": [
              "<Figure size 864x144 with 2 Axes>"
            ],
            "image/png": "[encoded data removed]"
          },
          "metadata": {
            "needs_background": "light"
          }
        }
      ]
    }
  ]
}