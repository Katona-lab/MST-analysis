{
  "nbformat": 4,
  "nbformat_minor": 0,
  "metadata": {
    "colab": {
      "name": "MST_progress_curve_analysis.ipynb",
      "provenance": [],
      "authorship_tag": "ABX9TyPlfQDO2GaXdOp1RGqOGm1o",
      "include_colab_link": true
    },
    "kernelspec": {
      "name": "python3",
      "display_name": "Python 3"
    },
    "language_info": {
      "name": "python"
    },
    "widgets": {
      "application/vnd.jupyter.widget-state+json": {
        "c7f1c814675e430698d7f45896124b8b": {
          "model_module": "@jupyter-widgets/controls",
          "model_name": "HBoxModel",
          "model_module_version": "1.5.0",
          "state": {
            "_dom_classes": [],
            "_model_module": "@jupyter-widgets/controls",
            "_model_module_version": "1.5.0",
            "_model_name": "HBoxModel",
            "_view_count": null,
            "_view_module": "@jupyter-widgets/controls",
            "_view_module_version": "1.5.0",
            "_view_name": "HBoxView",
            "box_style": "",
            "children": [
              "IPY_MODEL_420e4048b72c488698e4f379b386d854",
              "IPY_MODEL_7a668394d1ca4102b2d41508fd0f401f"
            ],
            "layout": "IPY_MODEL_f9f62a4160ad4454954d58e7acc844ec"
          }
        },
        "420e4048b72c488698e4f379b386d854": {
          "model_module": "@jupyter-widgets/controls",
          "model_name": "VBoxModel",
          "model_module_version": "1.5.0",
          "state": {
            "_dom_classes": [],
            "_model_module": "@jupyter-widgets/controls",
            "_model_module_version": "1.5.0",
            "_model_name": "VBoxModel",
            "_view_count": null,
            "_view_module": "@jupyter-widgets/controls",
            "_view_module_version": "1.5.0",
            "_view_name": "VBoxView",
            "box_style": "",
            "children": [
              "IPY_MODEL_ff79e0d65c4d49fb84ed231f85979afa",
              "IPY_MODEL_0f18cd16aa5449799634222b390d644e"
            ],
            "layout": "IPY_MODEL_2f61ae204aa6407cbc57a5a42252c623"
          }
        },
        "7a668394d1ca4102b2d41508fd0f401f": {
          "model_module": "@jupyter-widgets/output",
          "model_name": "OutputModel",
          "model_module_version": "1.0.0",
          "state": {
            "_dom_classes": [],
            "_model_module": "@jupyter-widgets/output",
            "_model_module_version": "1.0.0",
            "_model_name": "OutputModel",
            "_view_count": null,
            "_view_module": "@jupyter-widgets/output",
            "_view_module_version": "1.0.0",
            "_view_name": "OutputView",
            "layout": "IPY_MODEL_c987fe52117c4e1fa7f7d2e15f12c741",
            "msg_id": "",
            "outputs": [
              {
                "output_type": "display_data",
                "data": {
                  "text/plain": "<Figure size 432x288 with 1 Axes>",
                  "image/png": "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\n"
                },
                "metadata": {
                  "needs_background": "light"
                }
              }
            ]
          }
        },
        "f9f62a4160ad4454954d58e7acc844ec": {
          "model_module": "@jupyter-widgets/base",
          "model_name": "LayoutModel",
          "model_module_version": "1.2.0",
          "state": {
            "_model_module": "@jupyter-widgets/base",
            "_model_module_version": "1.2.0",
            "_model_name": "LayoutModel",
            "_view_count": null,
            "_view_module": "@jupyter-widgets/base",
            "_view_module_version": "1.2.0",
            "_view_name": "LayoutView",
            "align_content": null,
            "align_items": null,
            "align_self": null,
            "border": null,
            "bottom": null,
            "display": null,
            "flex": null,
            "flex_flow": null,
            "grid_area": null,
            "grid_auto_columns": null,
            "grid_auto_flow": null,
            "grid_auto_rows": null,
            "grid_column": null,
            "grid_gap": null,
            "grid_row": null,
            "grid_template_areas": null,
            "grid_template_columns": null,
            "grid_template_rows": null,
            "height": null,
            "justify_content": null,
            "justify_items": null,
            "left": null,
            "margin": null,
            "max_height": null,
            "max_width": null,
            "min_height": null,
            "min_width": null,
            "object_fit": null,
            "object_position": null,
            "order": null,
            "overflow": null,
            "overflow_x": null,
            "overflow_y": null,
            "padding": null,
            "right": null,
            "top": null,
            "visibility": null,
            "width": null
          }
        },
        "ff79e0d65c4d49fb84ed231f85979afa": {
          "model_module": "@jupyter-widgets/controls",
          "model_name": "IntRangeSliderModel",
          "model_module_version": "1.5.0",
          "state": {
            "_dom_classes": [],
            "_model_module": "@jupyter-widgets/controls",
            "_model_module_version": "1.5.0",
            "_model_name": "IntRangeSliderModel",
            "_view_count": null,
            "_view_module": "@jupyter-widgets/controls",
            "_view_module_version": "1.5.0",
            "_view_name": "IntRangeSliderView",
            "continuous_update": false,
            "description": "Data_range:",
            "description_tooltip": null,
            "disabled": false,
            "layout": "IPY_MODEL_31624942dc374db2b58326114297ded1",
            "max": 543,
            "min": 0,
            "orientation": "horizontal",
            "readout": true,
            "readout_format": "d",
            "step": 1,
            "style": "IPY_MODEL_1e37ff17377248a38361104e914b09df",
            "value": [
              0,
              456
            ]
          }
        },
        "0f18cd16aa5449799634222b390d644e": {
          "model_module": "@jupyter-widgets/controls",
          "model_name": "IntSliderModel",
          "model_module_version": "1.5.0",
          "state": {
            "_dom_classes": [],
            "_model_module": "@jupyter-widgets/controls",
            "_model_module_version": "1.5.0",
            "_model_name": "IntSliderModel",
            "_view_count": null,
            "_view_module": "@jupyter-widgets/controls",
            "_view_module_version": "1.5.0",
            "_view_name": "IntSliderView",
            "continuous_update": true,
            "description": "IR_pos:",
            "description_tooltip": null,
            "disabled": false,
            "layout": "IPY_MODEL_35be9e116a4446ac9868fc8a61318592",
            "max": 543,
            "min": 0,
            "orientation": "horizontal",
            "readout": true,
            "readout_format": "d",
            "step": 1,
            "style": "IPY_MODEL_56beb0eddc83475a94d7d7e0d409bd17",
            "value": 73
          }
        },
        "2f61ae204aa6407cbc57a5a42252c623": {
          "model_module": "@jupyter-widgets/base",
          "model_name": "LayoutModel",
          "model_module_version": "1.2.0",
          "state": {
            "_model_module": "@jupyter-widgets/base",
            "_model_module_version": "1.2.0",
            "_model_name": "LayoutModel",
            "_view_count": null,
            "_view_module": "@jupyter-widgets/base",
            "_view_module_version": "1.2.0",
            "_view_name": "LayoutView",
            "align_content": null,
            "align_items": null,
            "align_self": null,
            "border": null,
            "bottom": null,
            "display": null,
            "flex": null,
            "flex_flow": null,
            "grid_area": null,
            "grid_auto_columns": null,
            "grid_auto_flow": null,
            "grid_auto_rows": null,
            "grid_column": null,
            "grid_gap": null,
            "grid_row": null,
            "grid_template_areas": null,
            "grid_template_columns": null,
            "grid_template_rows": null,
            "height": null,
            "justify_content": null,
            "justify_items": null,
            "left": null,
            "margin": null,
            "max_height": null,
            "max_width": null,
            "min_height": null,
            "min_width": null,
            "object_fit": null,
            "object_position": null,
            "order": null,
            "overflow": null,
            "overflow_x": null,
            "overflow_y": null,
            "padding": null,
            "right": null,
            "top": null,
            "visibility": null,
            "width": null
          }
        },
        "31624942dc374db2b58326114297ded1": {
          "model_module": "@jupyter-widgets/base",
          "model_name": "LayoutModel",
          "model_module_version": "1.2.0",
          "state": {
            "_model_module": "@jupyter-widgets/base",
            "_model_module_version": "1.2.0",
            "_model_name": "LayoutModel",
            "_view_count": null,
            "_view_module": "@jupyter-widgets/base",
            "_view_module_version": "1.2.0",
            "_view_name": "LayoutView",
            "align_content": null,
            "align_items": null,
            "align_self": null,
            "border": null,
            "bottom": null,
            "display": null,
            "flex": null,
            "flex_flow": null,
            "grid_area": null,
            "grid_auto_columns": null,
            "grid_auto_flow": null,
            "grid_auto_rows": null,
            "grid_column": null,
            "grid_gap": null,
            "grid_row": null,
            "grid_template_areas": null,
            "grid_template_columns": null,
            "grid_template_rows": null,
            "height": null,
            "justify_content": null,
            "justify_items": null,
            "left": null,
            "margin": null,
            "max_height": null,
            "max_width": null,
            "min_height": null,
            "min_width": null,
            "object_fit": null,
            "object_position": null,
            "order": null,
            "overflow": null,
            "overflow_x": null,
            "overflow_y": null,
            "padding": null,
            "right": null,
            "top": null,
            "visibility": null,
            "width": null
          }
        },
        "1e37ff17377248a38361104e914b09df": {
          "model_module": "@jupyter-widgets/controls",
          "model_name": "SliderStyleModel",
          "model_module_version": "1.5.0",
          "state": {
            "_model_module": "@jupyter-widgets/controls",
            "_model_module_version": "1.5.0",
            "_model_name": "SliderStyleModel",
            "_view_count": null,
            "_view_module": "@jupyter-widgets/base",
            "_view_module_version": "1.2.0",
            "_view_name": "StyleView",
            "description_width": "",
            "handle_color": null
          }
        },
        "35be9e116a4446ac9868fc8a61318592": {
          "model_module": "@jupyter-widgets/base",
          "model_name": "LayoutModel",
          "model_module_version": "1.2.0",
          "state": {
            "_model_module": "@jupyter-widgets/base",
            "_model_module_version": "1.2.0",
            "_model_name": "LayoutModel",
            "_view_count": null,
            "_view_module": "@jupyter-widgets/base",
            "_view_module_version": "1.2.0",
            "_view_name": "LayoutView",
            "align_content": null,
            "align_items": null,
            "align_self": null,
            "border": null,
            "bottom": null,
            "display": null,
            "flex": null,
            "flex_flow": null,
            "grid_area": null,
            "grid_auto_columns": null,
            "grid_auto_flow": null,
            "grid_auto_rows": null,
            "grid_column": null,
            "grid_gap": null,
            "grid_row": null,
            "grid_template_areas": null,
            "grid_template_columns": null,
            "grid_template_rows": null,
            "height": null,
            "justify_content": null,
            "justify_items": null,
            "left": null,
            "margin": null,
            "max_height": null,
            "max_width": null,
            "min_height": null,
            "min_width": null,
            "object_fit": null,
            "object_position": null,
            "order": null,
            "overflow": null,
            "overflow_x": null,
            "overflow_y": null,
            "padding": null,
            "right": null,
            "top": null,
            "visibility": null,
            "width": null
          }
        },
        "56beb0eddc83475a94d7d7e0d409bd17": {
          "model_module": "@jupyter-widgets/controls",
          "model_name": "SliderStyleModel",
          "model_module_version": "1.5.0",
          "state": {
            "_model_module": "@jupyter-widgets/controls",
            "_model_module_version": "1.5.0",
            "_model_name": "SliderStyleModel",
            "_view_count": null,
            "_view_module": "@jupyter-widgets/base",
            "_view_module_version": "1.2.0",
            "_view_name": "StyleView",
            "description_width": "",
            "handle_color": null
          }
        },
        "c987fe52117c4e1fa7f7d2e15f12c741": {
          "model_module": "@jupyter-widgets/base",
          "model_name": "LayoutModel",
          "model_module_version": "1.2.0",
          "state": {
            "_model_module": "@jupyter-widgets/base",
            "_model_module_version": "1.2.0",
            "_model_name": "LayoutModel",
            "_view_count": null,
            "_view_module": "@jupyter-widgets/base",
            "_view_module_version": "1.2.0",
            "_view_name": "LayoutView",
            "align_content": null,
            "align_items": null,
            "align_self": null,
            "border": null,
            "bottom": null,
            "display": null,
            "flex": null,
            "flex_flow": null,
            "grid_area": null,
            "grid_auto_columns": null,
            "grid_auto_flow": null,
            "grid_auto_rows": null,
            "grid_column": null,
            "grid_gap": null,
            "grid_row": null,
            "grid_template_areas": null,
            "grid_template_columns": null,
            "grid_template_rows": null,
            "height": null,
            "justify_content": null,
            "justify_items": null,
            "left": null,
            "margin": null,
            "max_height": null,
            "max_width": null,
            "min_height": null,
            "min_width": null,
            "object_fit": null,
            "object_position": null,
            "order": null,
            "overflow": null,
            "overflow_x": null,
            "overflow_y": null,
            "padding": null,
            "right": null,
            "top": null,
            "visibility": null,
            "width": null
          }
        }
      }
    }
  },
  "cells": [
    {
      "cell_type": "markdown",
      "metadata": {
        "id": "view-in-github",
        "colab_type": "text"
      },
      "source": [
        "<a href=\"https://colab.research.google.com/github/Katona-lab/MST-anlysis/blob/main/MST_progress_curve_analysis.ipynb\" target=\"_parent\"><img src=\"https://colab.research.google.com/assets/colab-badge.svg\" alt=\"Open In Colab\"/></a>"
      ]
    },
    {
      "cell_type": "code",
      "source": [
        "#@title STEP 1: Start here by selecting Excel MST file exported by the Nanotemper software.\n",
        "#@markdown To activate a step press the Play button on the left. Run the steps sequentially, but chose only one alternative if alternative steps are offered.<p>\n",
        "#@markdown Please cite this article: <p>\n",
        "#@markdown Atsarina Larasati Anindya, Maria-Jose Garcia-Bonete, Maja Jensen, Christian V. Recktenwald, Maria Bokarewa and Gergely Katona <i>Bayesian Progress Curve Analysis of MicroScale Thermophoresis Data.</i>\n",
        "#@markdown (2022) <b><i>Digital discovery</i></b>\n",
        "# (c) 2022 Gergely Katona <gergely.katona@gu.se>\n",
        "import io\n",
        "import pandas as pd\n",
        "from google.colab import files\n",
        "import numpy as np\n",
        "import pymc3 as pm\n",
        "import pylab as plt\n",
        "import theano.tensor as T\n",
        "from pymc3.math import switch\n",
        "\n",
        "#Experimental data description \n",
        "uploaded = files.upload()\n",
        "\n",
        "df=pd.read_excel(io.BytesIO(uploaded[list(uploaded.keys())[0]]))\n",
        "\n",
        "ligpos=df.loc[df.iloc[:,0] == 'Ligand Concentration:'].index[0]\n",
        "firsttimepos=df.loc[df.iloc[:,0] == 'Time [s]'].index[0]\n",
        "targind=df.loc[df.iloc[:,0] == 'TargetConcentration:'].index[0]\n",
        "FluoConc=df.iloc[targind,1]\n",
        "\n",
        "cideal=df.iloc[ligpos,1::3]\n",
        "onedtime=df.iloc[firsttimepos+1:,0].reset_index(drop=True)\n",
        "firstIRtimepos=onedtime.loc[onedtime==0].index[0]\n",
        "fluorescence=df.iloc[firsttimepos+1:,1::3].reset_index(drop=True)\n",
        "fluorescence=fluorescence.T.reset_index(drop=True).T\n",
        "Capillary=len(cideal)\n",
        "start_t=onedtime.iloc[0]\n",
        "end_t=onedtime.iloc[-1]\n",
        "print (\"The data starts at position %i, which corresponds to %f s.\" % (0,start_t))\n",
        "print (\"The data ends at position %i, which corresponds to %f s.\" % (len(onedtime),end_t))\n",
        "print (\"The IR laser is supposed to be ON from position %i, which corresponds to 0 s.\"% (firstIRtimepos))\n",
        "print (\"The target concentration is %E .\"% FluoConc)\n",
        "print (\"%i capillaries were used.\" % Capillary)\n",
        "print (\"The ligand concentrations are %s . \"% list(cideal))\n",
        "print (\"Units hopefully agree and the KD will be expressed in the same unit. If these concentrations are invalid, please edit them in the input excel file.\")"
      ],
      "metadata": {
        "colab": {
          "resources": {
            "http://localhost:8080/nbextensions/google.colab/files.js": {
              "data": "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",
              "ok": true,
              "headers": [
                [
                  "content-type",
                  "application/javascript"
                ]
              ],
              "status": 200,
              "status_text": "OK"
            }
          },
          "base_uri": "https://localhost:8080/",
          "height": 226
        },
        "id": "ZCsUQyVH106b",
        "outputId": "f396f279-56b4-4432-dec1-988239528d62",
        "cellView": "form"
      },
      "execution_count": 1,
      "outputs": [
        {
          "output_type": "display_data",
          "data": {
            "text/plain": [
              "<IPython.core.display.HTML object>"
            ],
            "text/html": [
              "\n",
              "     <input type=\"file\" id=\"files-597e0f0c-3388-4586-b835-d519b574319b\" name=\"files[]\" multiple disabled\n",
              "        style=\"border:none\" />\n",
              "     <output id=\"result-597e0f0c-3388-4586-b835-d519b574319b\">\n",
              "      Upload widget is only available when the cell has been executed in the\n",
              "      current browser session. Please rerun this cell to enable.\n",
              "      </output>\n",
              "      <script src=\"/nbextensions/google.colab/files.js\"></script> "
            ]
          },
          "metadata": {}
        },
        {
          "output_type": "stream",
          "name": "stdout",
          "text": [
            "Saving MSTTraces_Sgo2_run1.xlsx to MSTTraces_Sgo2_run1.xlsx\n",
            "The data starts at position 0, which corresponds to -5.514154 s.\n",
            "The data ends at position 543, which corresponds to 34.947815 s.\n",
            "The IR laser is supposed to be ON from position 73, which corresponds to 0 s.\n",
            "The target concentration is 2.000000E+01 .\n",
            "16 capillaries were used.\n",
            "The ligand concentrations are [500000, 250000, 125000, 62500, 31250, 15625, 7812.5, 3906.25, 1953.125, 976.5625, 488.2813, 244.1406, 122.0703, 61.0352, 30.5176, 15.2588] . \n",
            "Units hopefully agree and the KD will be expressed in the same unit. If these concentrations are invalid, please edit them in the input excel file.\n"
          ]
        }
      ]
    },
    {
      "cell_type": "code",
      "source": [
        "#@title STEP 2: Displaying and verifying the data. Adjusting data range and laser start. { run: \"auto\" }\n",
        "import ipywidgets as widgets\n",
        "from IPython.display import display\n",
        "#@markdown Step 1: Inspect the progress curve. Is this the data you want to model? The program tries to guess a suitable end point automatically. This initial guess will vary from capillary to capillary, but once you start modelling the last displayed end data point will be used for for all capillaries. Please feel free to override data range according to your wishes.<p>\n",
        "#@markdown Step 2: Zoom in with the sliders to the laser start point and adjust to the point where the Fnorm starts to drop rapidly. Experience shows that there is a few ms delay between time 0 of the instrument and first sign of response in Fnorm. An empirical delay is already automatically applied to laser start.<p>\n",
        "#@markdown Step 3: Reset the end slider to the end of the IR irradiation period or any point earlier. The model does not take into account the recovery phase after the IR laser is swiched off.\n",
        "Cap_display = \"2\" #@param [\"1\", \"2\", \"3\", \"4\", \"5\", \"6\", \"7\", \"8\", \"9\", \"10\", \"11\", \"12\", \"13\", \"14\", \"15\", \"16\"]\n",
        "\n",
        "Data_range=widgets.IntRangeSlider(\n",
        "    value=[0, fluorescence[int(Capillary)-1].astype(float).idxmin()],\n",
        "    min=0,\n",
        "    max=len(onedtime),\n",
        "    step=1,\n",
        "    description='Data_range:',\n",
        "    disabled=False,\n",
        "    continuous_update=False,\n",
        "    orientation='horizontal',\n",
        "    readout=True,\n",
        "    readout_format='d',\n",
        ")\n",
        "\n",
        "\n",
        "IR_pos=widgets.IntSlider(\n",
        "    value=firstIRtimepos,\n",
        "    min=0,\n",
        "    max=len(onedtime),\n",
        "    step=1,\n",
        "    description='IR_pos:',\n",
        "    disabled=False\n",
        ")\n",
        "\n",
        "def f(Data_range, IR_pos):\n",
        "    Start_pos,End_pos=Data_range\n",
        "    fig, ax = plt.subplots()\n",
        "    ax.plot(onedtime[Start_pos:End_pos],fluorescence[int(Cap_display)-1].astype(float).iloc[Start_pos:End_pos], color='gray')\n",
        "    ax.annotate('IR laser', \n",
        "            xy=(onedtime[IR_pos], 1), \n",
        "            xytext=(onedtime[IR_pos], 0.95), \n",
        "            arrowprops = dict(facecolor='red', shrink=0.05)\n",
        "    )\n",
        "    plt.xlabel (\"Time (s)\")\n",
        "    plt.ylabel (r\"$F_{norm}$\")\n",
        "out = widgets.interactive_output(f, {'Data_range': Data_range, 'IR_pos': IR_pos})\n",
        "\n",
        "widgets.HBox([widgets.VBox([Data_range, IR_pos]), out])\n",
        "\n"
      ],
      "metadata": {
        "id": "ZlemQ5w9m5KJ",
        "outputId": "36ffd600-9004-4212-fcc1-da4d97f19d5d",
        "colab": {
          "base_uri": "https://localhost:8080/",
          "height": 279,
          "referenced_widgets": [
            "c7f1c814675e430698d7f45896124b8b",
            "420e4048b72c488698e4f379b386d854",
            "7a668394d1ca4102b2d41508fd0f401f",
            "f9f62a4160ad4454954d58e7acc844ec",
            "ff79e0d65c4d49fb84ed231f85979afa",
            "0f18cd16aa5449799634222b390d644e",
            "2f61ae204aa6407cbc57a5a42252c623",
            "31624942dc374db2b58326114297ded1",
            "1e37ff17377248a38361104e914b09df",
            "35be9e116a4446ac9868fc8a61318592",
            "56beb0eddc83475a94d7d7e0d409bd17",
            "c987fe52117c4e1fa7f7d2e15f12c741"
          ]
        },
        "cellView": "form"
      },
      "execution_count": 2,
      "outputs": [
        {
          "output_type": "display_data",
          "data": {
            "text/plain": [
              "HBox(children=(VBox(children=(IntRangeSlider(value=(0, 456), continuous_update=False, description='Data_range:…"
            ],
            "application/vnd.jupyter.widget-view+json": {
              "version_major": 2,
              "version_minor": 0,
              "model_id": "c7f1c814675e430698d7f45896124b8b"
            }
          },
          "metadata": {}
        }
      ]
    },
    {
      "cell_type": "code",
      "source": [
        "#@title STEP 3.1 (Alternative 1): Perform the MCMC sampling (linear phase starts before the IR irradiation)\n",
        "#@markdown Use scenario: The fluroescence signal (Fnorm) is not stable at 1 before IR irradiation. Possible reasons: photodamage, unstable protein, not fully equilibrated protein:ligand interaction\n",
        "\n",
        "#@markdown Enter the number of tuning and sampling steps for the Markov Chain Monte Carlo algorithm. Decrease these only if you are know what you are doing.\n",
        "Tuning = 1000 #@param {type:\"number\"}\n",
        "Samples = 2000 #@param {type:\"number\"}\n",
        "\n",
        "IR=IR_pos.value\n",
        "start,end=Data_range.value\n",
        "cap=int(Capillary)\n",
        "time=np.array([onedtime[:,]]*cap,dtype=float).transpose()\n",
        "with pm.Model() as model:\n",
        "    K_D = pm.Uniform('K_D', 1, 1e6)\n",
        "    BoundedNormal = pm.Bound(pm.Normal, lower=0, upper=1e8)\n",
        "    c_fl = BoundedNormal('c_fl',mu=FluoConc,sd=FluoConc/10.0)\n",
        "\n",
        "    U=pm.Beta('U',alpha=1,beta=1)\n",
        "    B=pm.Beta('B',alpha=1,beta=1)\n",
        "    A_total=pm.Deterministic('A_total', U + (B-U)*((c_fl + cideal.astype(float) + K_D - pm.math.sqrt(pm.math.sqr(c_fl + cideal.astype(float) + K_D) - 4.0*c_fl*cideal.astype(float)))/(2*c_fl)))\n",
        "    \n",
        "    L=pm.Uniform('L',-1,1, shape=cap)\n",
        "    I=pm.Deterministic('I',1+L*start_t-A_total)\n",
        "    R=pm.Beta('R',alpha=2,beta=1, shape=cap)\n",
        "    A_1=pm.Deterministic('A_1',A_total*R)\n",
        "    A_2=pm.Deterministic('A_2',A_total*(1-R))\n",
        "    rate1=pm.Lognormal('rate1',0,1, shape=cap)\n",
        "    rate2=pm.Lognormal('rate2',0,1, shape=cap)\n",
        "\n",
        "    linearphase=L*(time-start_t)\n",
        "    E_1=A_1*pm.math.exp(-1.0*rate1*time)\n",
        "    E_2=A_2*pm.math.exp(-1.0*rate2*time)\n",
        "\n",
        "    epsilon = pm.Lognormal('epsilon', 0, 1)\n",
        "    laseron=np.tile(np.arange(0, len(onedtime)), (cap,1)).T\n",
        "\n",
        "    pr = switch(IR >= laseron, 1.0+linearphase, linearphase+I+E_1+E_2)\n",
        "\n",
        "\n",
        "    P = pm.Normal('P', mu=pr[start:end], sd=epsilon, observed=fluorescence.astype(float).iloc[start:end])\n",
        "\n",
        "\n",
        "with model:\n",
        "    trace = pm.sampling.sample(Samples, tune=Tuning,\n",
        "                      init='ADVI'\n",
        "                     )\n",
        "    \n",
        "with model:\n",
        "    ppc = pm.sample_posterior_predictive(trace, samples=1000 ,model=model)"
      ],
      "metadata": {
        "id": "smyOSMXv5QpD",
        "outputId": "4ce778da-d6fb-442d-8017-b6ffded59160",
        "colab": {
          "base_uri": "https://localhost:8080/",
          "height": 323
        },
        "cellView": "form"
      },
      "execution_count": 3,
      "outputs": [
        {
          "output_type": "stream",
          "name": "stderr",
          "text": [
            "/usr/local/lib/python3.7/dist-packages/ipykernel_launcher.py:44: FutureWarning: In v4.0, pm.sample will return an `arviz.InferenceData` object instead of a `MultiTrace` by default. You can pass return_inferencedata=True or return_inferencedata=False to be safe and silence this warning.\n",
            "Auto-assigning NUTS sampler...\n",
            "Initializing NUTS using advi...\n"
          ]
        },
        {
          "output_type": "display_data",
          "data": {
            "text/plain": [
              "<IPython.core.display.HTML object>"
            ],
            "text/html": [
              "\n",
              "<style>\n",
              "    /* Turns off some styling */\n",
              "    progress {\n",
              "        /* gets rid of default border in Firefox and Opera. */\n",
              "        border: none;\n",
              "        /* Needs to be in here for Safari polyfill so background images work as expected. */\n",
              "        background-size: auto;\n",
              "    }\n",
              "    .progress-bar-interrupted, .progress-bar-interrupted::-webkit-progress-bar {\n",
              "        background: #F44336;\n",
              "    }\n",
              "</style>\n"
            ]
          },
          "metadata": {}
        },
        {
          "output_type": "display_data",
          "data": {
            "text/plain": [
              "<IPython.core.display.HTML object>"
            ],
            "text/html": [
              "\n",
              "    <div>\n",
              "      <progress value='66512' class='' max='200000' style='width:300px; height:20px; vertical-align: middle;'></progress>\n",
              "      33.26% [66512/200000 01:18<02:38 Average Loss = -32,879]\n",
              "    </div>\n",
              "    "
            ]
          },
          "metadata": {}
        },
        {
          "output_type": "stream",
          "name": "stderr",
          "text": [
            "Convergence achieved at 66600\n",
            "Interrupted at 66,599 [33%]: Average Loss = 1.4737e+13\n",
            "Sequential sampling (2 chains in 1 job)\n",
            "NUTS: [epsilon, rate2, rate1, R, L, B, U, c_fl, K_D]\n"
          ]
        },
        {
          "output_type": "display_data",
          "data": {
            "text/plain": [
              "<IPython.core.display.HTML object>"
            ],
            "text/html": [
              "\n",
              "<style>\n",
              "    /* Turns off some styling */\n",
              "    progress {\n",
              "        /* gets rid of default border in Firefox and Opera. */\n",
              "        border: none;\n",
              "        /* Needs to be in here for Safari polyfill so background images work as expected. */\n",
              "        background-size: auto;\n",
              "    }\n",
              "    .progress-bar-interrupted, .progress-bar-interrupted::-webkit-progress-bar {\n",
              "        background: #F44336;\n",
              "    }\n",
              "</style>\n"
            ]
          },
          "metadata": {}
        },
        {
          "output_type": "display_data",
          "data": {
            "text/plain": [
              "<IPython.core.display.HTML object>"
            ],
            "text/html": [
              "\n",
              "    <div>\n",
              "      <progress value='3000' class='' max='3000' style='width:300px; height:20px; vertical-align: middle;'></progress>\n",
              "      100.00% [3000/3000 26:25<00:00 Sampling chain 0, 0 divergences]\n",
              "    </div>\n",
              "    "
            ]
          },
          "metadata": {}
        },
        {
          "output_type": "display_data",
          "data": {
            "text/plain": [
              "<IPython.core.display.HTML object>"
            ],
            "text/html": [
              "\n",
              "<style>\n",
              "    /* Turns off some styling */\n",
              "    progress {\n",
              "        /* gets rid of default border in Firefox and Opera. */\n",
              "        border: none;\n",
              "        /* Needs to be in here for Safari polyfill so background images work as expected. */\n",
              "        background-size: auto;\n",
              "    }\n",
              "    .progress-bar-interrupted, .progress-bar-interrupted::-webkit-progress-bar {\n",
              "        background: #F44336;\n",
              "    }\n",
              "</style>\n"
            ]
          },
          "metadata": {}
        },
        {
          "output_type": "display_data",
          "data": {
            "text/plain": [
              "<IPython.core.display.HTML object>"
            ],
            "text/html": [
              "\n",
              "    <div>\n",
              "      <progress value='3000' class='' max='3000' style='width:300px; height:20px; vertical-align: middle;'></progress>\n",
              "      100.00% [3000/3000 28:03<00:00 Sampling chain 1, 0 divergences]\n",
              "    </div>\n",
              "    "
            ]
          },
          "metadata": {}
        },
        {
          "output_type": "stream",
          "name": "stderr",
          "text": [
            "Sampling 2 chains for 1_000 tune and 2_000 draw iterations (2_000 + 4_000 draws total) took 3269 seconds.\n",
            "The number of effective samples is smaller than 25% for some parameters.\n",
            "/usr/local/lib/python3.7/dist-packages/pymc3/sampling.py:1690: UserWarning: samples parameter is smaller than nchains times ndraws, some draws and/or chains may not be represented in the returned posterior predictive sample\n",
            "  \"samples parameter is smaller than nchains times ndraws, some draws \"\n"
          ]
        },
        {
          "output_type": "display_data",
          "data": {
            "text/plain": [
              "<IPython.core.display.HTML object>"
            ],
            "text/html": [
              "\n",
              "<style>\n",
              "    /* Turns off some styling */\n",
              "    progress {\n",
              "        /* gets rid of default border in Firefox and Opera. */\n",
              "        border: none;\n",
              "        /* Needs to be in here for Safari polyfill so background images work as expected. */\n",
              "        background-size: auto;\n",
              "    }\n",
              "    .progress-bar-interrupted, .progress-bar-interrupted::-webkit-progress-bar {\n",
              "        background: #F44336;\n",
              "    }\n",
              "</style>\n"
            ]
          },
          "metadata": {}
        },
        {
          "output_type": "display_data",
          "data": {
            "text/plain": [
              "<IPython.core.display.HTML object>"
            ],
            "text/html": [
              "\n",
              "    <div>\n",
              "      <progress value='1000' class='' max='1000' style='width:300px; height:20px; vertical-align: middle;'></progress>\n",
              "      100.00% [1000/1000 00:07<00:00]\n",
              "    </div>\n",
              "    "
            ]
          },
          "metadata": {}
        }
      ]
    },
    {
      "cell_type": "code",
      "source": [
        "#@title STEP 3.2 (Alternative 2): Perform the MCMC sampling (linear phase starts at time 0)\n",
        "#@markdown Use scenario: Fnorm is stable at 1 before IR irradiation, but after irradiation there is a trendlike increase or decrease in at least some of the progress curves. Possible causes: temperature induced denaturation, direct IR absorption in protein results in electrodynamic interaction between protein and ligand.\n",
        "\n",
        "\n",
        "#@markdown Enter the number of tuning and sampling steps for the Markov Chain Monte Carlo algorithm. Decrease these only if you are know what you are doing.\n",
        "Tuning = 1000 #@param {type:\"number\"}\n",
        "Samples = 2000 #@param {type:\"number\"}\n",
        "\n",
        "IR=IR_pos.value\n",
        "start,end=Data_range.value\n",
        "cap=int(Capillary)\n",
        "time=np.array([onedtime[:,]]*cap,dtype=float).transpose()\n",
        "with pm.Model() as model:\n",
        "    K_D = pm.Uniform('K_D', 1, 1e6)\n",
        "    BoundedNormal = pm.Bound(pm.Normal, lower=0, upper=1e8)\n",
        "    c_fl = BoundedNormal('c_fl',mu=FluoConc,sd=FluoConc/10.0)\n",
        "\n",
        "    U=pm.Beta('U',alpha=1,beta=1)\n",
        "    B=pm.Beta('B',alpha=1,beta=1)\n",
        "    A_total=pm.Deterministic('A_total', U + (B-U)*((c_fl + cideal.astype(float) + K_D - pm.math.sqrt(pm.math.sqr(c_fl + cideal.astype(float) + K_D) - 4.0*c_fl*cideal.astype(float)))/(2*c_fl)))\n",
        "    \n",
        "    L=pm.Uniform('L',-1,1, shape=cap)\n",
        "    I=pm.Deterministic('I',1-A_total)\n",
        "    R=pm.Beta('R',alpha=2,beta=1, shape=cap)\n",
        "    A_1=pm.Deterministic('A_1',A_total*R)\n",
        "    A_2=pm.Deterministic('A_2',A_total*(1-R))\n",
        "    rate1=pm.Lognormal('rate1',0,1, shape=cap)\n",
        "    rate2=pm.Lognormal('rate2',0,1, shape=cap)\n",
        "\n",
        "    linearphase=L*(time)\n",
        "    E_1=A_1*pm.math.exp(-1.0*rate1*time)\n",
        "    E_2=A_2*pm.math.exp(-1.0*rate2*time)\n",
        "\n",
        "    epsilon = pm.Lognormal('epsilon', 0, 1)\n",
        "    laseron=np.tile(np.arange(0, len(onedtime)), (cap,1)).T\n",
        "\n",
        "    pr = switch(IR >= laseron, 1.0, linearphase+I+E_1+E_2)\n",
        "\n",
        "\n",
        "    P = pm.Normal('P', mu=pr[start:end], sd=epsilon, observed=fluorescence.astype(float).iloc[start:end])\n",
        "  \n",
        "with model:\n",
        "    trace = pm.sampling.sample(Samples, tune=Tuning,\n",
        "                      init='ADVI'\n",
        "                     )\n",
        "    \n",
        "with model:\n",
        "    ppc = pm.sample_posterior_predictive(trace, samples=1000 ,model=model)"
      ],
      "metadata": {
        "colab": {
          "base_uri": "https://localhost:8080/",
          "height": 208
        },
        "id": "OgMcYdCRcc_R",
        "outputId": "8eddf900-9379-4625-b5c6-52e90d5b8165",
        "cellView": "form"
      },
      "execution_count": null,
      "outputs": [
        {
          "output_type": "stream",
          "name": "stderr",
          "text": [
            "/usr/local/lib/python3.7/dist-packages/ipykernel_launcher.py:43: FutureWarning: In v4.0, pm.sample will return an `arviz.InferenceData` object instead of a `MultiTrace` by default. You can pass return_inferencedata=True or return_inferencedata=False to be safe and silence this warning.\n",
            "Auto-assigning NUTS sampler...\n",
            "Initializing NUTS using advi...\n"
          ]
        },
        {
          "output_type": "display_data",
          "data": {
            "text/plain": [
              "<IPython.core.display.HTML object>"
            ],
            "text/html": [
              "\n",
              "<style>\n",
              "    /* Turns off some styling */\n",
              "    progress {\n",
              "        /* gets rid of default border in Firefox and Opera. */\n",
              "        border: none;\n",
              "        /* Needs to be in here for Safari polyfill so background images work as expected. */\n",
              "        background-size: auto;\n",
              "    }\n",
              "    .progress-bar-interrupted, .progress-bar-interrupted::-webkit-progress-bar {\n",
              "        background: #F44336;\n",
              "    }\n",
              "</style>\n"
            ]
          },
          "metadata": {}
        },
        {
          "output_type": "display_data",
          "data": {
            "text/plain": [
              "<IPython.core.display.HTML object>"
            ],
            "text/html": [
              "\n",
              "    <div>\n",
              "      <progress value='119496' class='' max='200000' style='width:300px; height:20px; vertical-align: middle;'></progress>\n",
              "      59.75% [119496/200000 01:56<01:18 Average Loss = -26,910]\n",
              "    </div>\n",
              "    "
            ]
          },
          "metadata": {}
        },
        {
          "output_type": "stream",
          "name": "stderr",
          "text": [
            "Convergence achieved at 119500\n",
            "Interrupted at 119,499 [59%]: Average Loss = 3.6735e+30\n",
            "Sequential sampling (2 chains in 1 job)\n",
            "NUTS: [epsilon, rate2, rate1, R, L, B, U, c_fl, K_D]\n"
          ]
        },
        {
          "output_type": "display_data",
          "data": {
            "text/plain": [
              "<IPython.core.display.HTML object>"
            ],
            "text/html": [
              "\n",
              "<style>\n",
              "    /* Turns off some styling */\n",
              "    progress {\n",
              "        /* gets rid of default border in Firefox and Opera. */\n",
              "        border: none;\n",
              "        /* Needs to be in here for Safari polyfill so background images work as expected. */\n",
              "        background-size: auto;\n",
              "    }\n",
              "    .progress-bar-interrupted, .progress-bar-interrupted::-webkit-progress-bar {\n",
              "        background: #F44336;\n",
              "    }\n",
              "</style>\n"
            ]
          },
          "metadata": {}
        },
        {
          "output_type": "display_data",
          "data": {
            "text/plain": [
              "<IPython.core.display.HTML object>"
            ],
            "text/html": [
              "\n",
              "    <div>\n",
              "      <progress value='468' class='' max='3000' style='width:300px; height:20px; vertical-align: middle;'></progress>\n",
              "      15.60% [468/3000 04:42<25:30 Sampling chain 0, 0 divergences]\n",
              "    </div>\n",
              "    "
            ]
          },
          "metadata": {}
        }
      ]
    },
    {
      "cell_type": "code",
      "source": [
        "#@title STEP 4: Statistics of global variables\n",
        "#@markdown If you are finished with Step 1-3, the later steps do not have to follow in strict order. <p>\n",
        "#@markdown Kd and FC units are traditionally expressed in nM in the Nanotemper software, the amplitudes and sigma is expressed as Fnorm  \n",
        "pm.stats.summary(trace,var_names=['K_D','B','U', 'epsilon','c_fl'])\n"
      ],
      "metadata": {
        "colab": {
          "base_uri": "https://localhost:8080/",
          "height": 282
        },
        "id": "59F3JTPXdNR4",
        "outputId": "f78abba4-77b6-4c36-ecc8-188498c7e7da",
        "cellView": "form"
      },
      "execution_count": 10,
      "outputs": [
        {
          "output_type": "stream",
          "name": "stderr",
          "text": [
            "Got error No model on context stack. trying to find log_likelihood in translation.\n",
            "/usr/local/lib/python3.7/dist-packages/arviz/data/io_pymc3_3x.py:102: FutureWarning: Using `from_pymc3` without the model will be deprecated in a future release. Not using the model will return less accurate and less useful results. Make sure you use the model argument or call from_pymc3 within a model context.\n",
            "  FutureWarning,\n"
          ]
        },
        {
          "output_type": "execute_result",
          "data": {
            "text/plain": [
              "               mean          sd    hdi_3%     hdi_97%  mcse_mean   mcse_sd  \\\n",
              "K_D      508444.097  285213.551  9139.101  942392.414  10676.630  7552.605   \n",
              "B             0.498       0.292     0.030       0.968      0.015     0.012   \n",
              "U             0.063       0.000     0.063       0.063      0.000     0.000   \n",
              "epsilon       0.001       0.000     0.001       0.001      0.000     0.000   \n",
              "c_fl          0.000       0.000     0.000       0.000      0.000     0.000   \n",
              "\n",
              "         ess_bulk  ess_tail  r_hat  \n",
              "K_D         795.0    1733.0   1.00  \n",
              "B           355.0     258.0   1.00  \n",
              "U            27.0     127.0   1.06  \n",
              "epsilon     483.0     650.0   1.00  \n",
              "c_fl        456.0     306.0   1.00  "
            ],
            "text/html": [
              "\n",
              "  <div id=\"df-10ddba97-f8cf-476d-87fb-c4019a700a6b\">\n",
              "    <div class=\"colab-df-container\">\n",
              "      <div>\n",
              "<style scoped>\n",
              "    .dataframe tbody tr th:only-of-type {\n",
              "        vertical-align: middle;\n",
              "    }\n",
              "\n",
              "    .dataframe tbody tr th {\n",
              "        vertical-align: top;\n",
              "    }\n",
              "\n",
              "    .dataframe thead th {\n",
              "        text-align: right;\n",
              "    }\n",
              "</style>\n",
              "<table border=\"1\" class=\"dataframe\">\n",
              "  <thead>\n",
              "    <tr style=\"text-align: right;\">\n",
              "      <th></th>\n",
              "      <th>mean</th>\n",
              "      <th>sd</th>\n",
              "      <th>hdi_3%</th>\n",
              "      <th>hdi_97%</th>\n",
              "      <th>mcse_mean</th>\n",
              "      <th>mcse_sd</th>\n",
              "      <th>ess_bulk</th>\n",
              "      <th>ess_tail</th>\n",
              "      <th>r_hat</th>\n",
              "    </tr>\n",
              "  </thead>\n",
              "  <tbody>\n",
              "    <tr>\n",
              "      <th>K_D</th>\n",
              "      <td>508444.097</td>\n",
              "      <td>285213.551</td>\n",
              "      <td>9139.101</td>\n",
              "      <td>942392.414</td>\n",
              "      <td>10676.630</td>\n",
              "      <td>7552.605</td>\n",
              "      <td>795.0</td>\n",
              "      <td>1733.0</td>\n",
              "      <td>1.00</td>\n",
              "    </tr>\n",
              "    <tr>\n",
              "      <th>B</th>\n",
              "      <td>0.498</td>\n",
              "      <td>0.292</td>\n",
              "      <td>0.030</td>\n",
              "      <td>0.968</td>\n",
              "      <td>0.015</td>\n",
              "      <td>0.012</td>\n",
              "      <td>355.0</td>\n",
              "      <td>258.0</td>\n",
              "      <td>1.00</td>\n",
              "    </tr>\n",
              "    <tr>\n",
              "      <th>U</th>\n",
              "      <td>0.063</td>\n",
              "      <td>0.000</td>\n",
              "      <td>0.063</td>\n",
              "      <td>0.063</td>\n",
              "      <td>0.000</td>\n",
              "      <td>0.000</td>\n",
              "      <td>27.0</td>\n",
              "      <td>127.0</td>\n",
              "      <td>1.06</td>\n",
              "    </tr>\n",
              "    <tr>\n",
              "      <th>epsilon</th>\n",
              "      <td>0.001</td>\n",
              "      <td>0.000</td>\n",
              "      <td>0.001</td>\n",
              "      <td>0.001</td>\n",
              "      <td>0.000</td>\n",
              "      <td>0.000</td>\n",
              "      <td>483.0</td>\n",
              "      <td>650.0</td>\n",
              "      <td>1.00</td>\n",
              "    </tr>\n",
              "    <tr>\n",
              "      <th>c_fl</th>\n",
              "      <td>0.000</td>\n",
              "      <td>0.000</td>\n",
              "      <td>0.000</td>\n",
              "      <td>0.000</td>\n",
              "      <td>0.000</td>\n",
              "      <td>0.000</td>\n",
              "      <td>456.0</td>\n",
              "      <td>306.0</td>\n",
              "      <td>1.00</td>\n",
              "    </tr>\n",
              "  </tbody>\n",
              "</table>\n",
              "</div>\n",
              "      <button class=\"colab-df-convert\" onclick=\"convertToInteractive('df-10ddba97-f8cf-476d-87fb-c4019a700a6b')\"\n",
              "              title=\"Convert this dataframe to an interactive table.\"\n",
              "              style=\"display:none;\">\n",
              "        \n",
              "  <svg xmlns=\"http://www.w3.org/2000/svg\" height=\"24px\"viewBox=\"0 0 24 24\"\n",
              "       width=\"24px\">\n",
              "    <path d=\"M0 0h24v24H0V0z\" fill=\"none\"/>\n",
              "    <path d=\"M18.56 5.44l.94 2.06.94-2.06 2.06-.94-2.06-.94-.94-2.06-.94 2.06-2.06.94zm-11 1L8.5 8.5l.94-2.06 2.06-.94-2.06-.94L8.5 2.5l-.94 2.06-2.06.94zm10 10l.94 2.06.94-2.06 2.06-.94-2.06-.94-.94-2.06-.94 2.06-2.06.94z\"/><path d=\"M17.41 7.96l-1.37-1.37c-.4-.4-.92-.59-1.43-.59-.52 0-1.04.2-1.43.59L10.3 9.45l-7.72 7.72c-.78.78-.78 2.05 0 2.83L4 21.41c.39.39.9.59 1.41.59.51 0 1.02-.2 1.41-.59l7.78-7.78 2.81-2.81c.8-.78.8-2.07 0-2.86zM5.41 20L4 18.59l7.72-7.72 1.47 1.35L5.41 20z\"/>\n",
              "  </svg>\n",
              "      </button>\n",
              "      \n",
              "  <style>\n",
              "    .colab-df-container {\n",
              "      display:flex;\n",
              "      flex-wrap:wrap;\n",
              "      gap: 12px;\n",
              "    }\n",
              "\n",
              "    .colab-df-convert {\n",
              "      background-color: #E8F0FE;\n",
              "      border: none;\n",
              "      border-radius: 50%;\n",
              "      cursor: pointer;\n",
              "      display: none;\n",
              "      fill: #1967D2;\n",
              "      height: 32px;\n",
              "      padding: 0 0 0 0;\n",
              "      width: 32px;\n",
              "    }\n",
              "\n",
              "    .colab-df-convert:hover {\n",
              "      background-color: #E2EBFA;\n",
              "      box-shadow: 0px 1px 2px rgba(60, 64, 67, 0.3), 0px 1px 3px 1px rgba(60, 64, 67, 0.15);\n",
              "      fill: #174EA6;\n",
              "    }\n",
              "\n",
              "    [theme=dark] .colab-df-convert {\n",
              "      background-color: #3B4455;\n",
              "      fill: #D2E3FC;\n",
              "    }\n",
              "\n",
              "    [theme=dark] .colab-df-convert:hover {\n",
              "      background-color: #434B5C;\n",
              "      box-shadow: 0px 1px 3px 1px rgba(0, 0, 0, 0.15);\n",
              "      filter: drop-shadow(0px 1px 2px rgba(0, 0, 0, 0.3));\n",
              "      fill: #FFFFFF;\n",
              "    }\n",
              "  </style>\n",
              "\n",
              "      <script>\n",
              "        const buttonEl =\n",
              "          document.querySelector('#df-10ddba97-f8cf-476d-87fb-c4019a700a6b button.colab-df-convert');\n",
              "        buttonEl.style.display =\n",
              "          google.colab.kernel.accessAllowed ? 'block' : 'none';\n",
              "\n",
              "        async function convertToInteractive(key) {\n",
              "          const element = document.querySelector('#df-10ddba97-f8cf-476d-87fb-c4019a700a6b');\n",
              "          const dataTable =\n",
              "            await google.colab.kernel.invokeFunction('convertToInteractive',\n",
              "                                                     [key], {});\n",
              "          if (!dataTable) return;\n",
              "\n",
              "          const docLinkHtml = 'Like what you see? Visit the ' +\n",
              "            '<a target=\"_blank\" href=https://colab.research.google.com/notebooks/data_table.ipynb>data table notebook</a>'\n",
              "            + ' to learn more about interactive tables.';\n",
              "          element.innerHTML = '';\n",
              "          dataTable['output_type'] = 'display_data';\n",
              "          await google.colab.output.renderOutput(dataTable, element);\n",
              "          const docLink = document.createElement('div');\n",
              "          docLink.innerHTML = docLinkHtml;\n",
              "          element.appendChild(docLink);\n",
              "        }\n",
              "      </script>\n",
              "    </div>\n",
              "  </div>\n",
              "  "
            ]
          },
          "metadata": {},
          "execution_count": 10
        }
      ]
    },
    {
      "cell_type": "code",
      "source": [
        "#@title STEP 5: Posterior predictive check { run: \"auto\" }\n",
        "#@markdown The shaded area represent the High Density Interval (95%) of the posterior predictions.\n",
        "#@markdown Choose the capillary to analyse:\n",
        "Cap_display = \"1\" #@param [\"1\", \"2\", \"3\", \"4\", \"5\", \"6\", \"7\", \"8\", \"9\", \"10\", \"11\", \"12\", \"13\", \"14\", \"15\", \"16\"]\n",
        "\n",
        "plt.plot(onedtime[start:end],fluorescence[int(Cap_display)-1].astype(float).iloc[start:end], color='gray')\n",
        "plt.plot(onedtime[start:end],np.mean(ppc['P'][:,:,int(Cap_display)-1], axis=0))\n",
        "plt.fill_between(np.array(onedtime[start:end],dtype=float), np.array(pm.stats.hdi(ppc['P'][:,:,int(Cap_display)-1])[:,0],dtype=float) ,np.array(pm.stats.hdi(ppc['P'][:,:,int(Cap_display)-1])[:,1],dtype=float) , alpha=0.5)\n"
      ],
      "metadata": {
        "colab": {
          "base_uri": "https://localhost:8080/",
          "height": 341
        },
        "id": "1MjwpdO-NhSi",
        "outputId": "7b62f926-20d4-446c-bc83-b4288053a424",
        "cellView": "form"
      },
      "execution_count": 32,
      "outputs": [
        {
          "output_type": "stream",
          "name": "stderr",
          "text": [
            "/usr/local/lib/python3.7/dist-packages/ipykernel_launcher.py:8: FutureWarning: hdi currently interprets 2d data as (draw, shape) but this will change in a future release to (chain, draw) for coherence with other functions\n",
            "  \n"
          ]
        },
        {
          "output_type": "execute_result",
          "data": {
            "text/plain": [
              "<matplotlib.collections.PolyCollection at 0x7f651154a410>"
            ]
          },
          "metadata": {},
          "execution_count": 32
        },
        {
          "output_type": "display_data",
          "data": {
            "text/plain": [
              "<Figure size 432x288 with 1 Axes>"
            ],
            "image/png": "[encoded data removed]"
          },
          "metadata": {
            "needs_background": "light"
          }
        }
      ]
    },
    {
      "cell_type": "code",
      "source": [
        "#@title STEP 6: Concentration dependence of the kinetic parameters. { run: \"auto\" }\n",
        "#@markdown The error bars represent the High Density Interval (95%).<p>\n",
        "#@markdown Choose the variable name:\n",
        "string = \"L\" #@param [\"A_total\",\"I\", \"rate1\", \"rate2\", \"A_1\", \"A_2\", \"L\"]\n",
        "fig=plt.subplot(111)\n",
        "plt.errorbar(cideal,np.median(trace[string],axis=0),yerr=np.abs(pm.hdi(trace[string]).T-np.median(trace[string],axis=0)))\n",
        "fig.set_xscale('log')"
      ],
      "metadata": {
        "colab": {
          "base_uri": "https://localhost:8080/",
          "height": 326
        },
        "id": "jy6L8---Yu3g",
        "outputId": "901a6a41-26eb-4857-d30a-6251987af414",
        "cellView": "form"
      },
      "execution_count": 30,
      "outputs": [
        {
          "output_type": "stream",
          "name": "stderr",
          "text": [
            "/usr/local/lib/python3.7/dist-packages/ipykernel_launcher.py:6: FutureWarning: hdi currently interprets 2d data as (draw, shape) but this will change in a future release to (chain, draw) for coherence with other functions\n",
            "  \n"
          ]
        },
        {
          "output_type": "display_data",
          "data": {
            "text/plain": [
              "<Figure size 432x288 with 1 Axes>"
            ],
            "image/png": "[encoded data removed]"
          },
          "metadata": {
            "needs_background": "light"
          }
        }
      ]
    },
    {
      "cell_type": "code",
      "source": [
        "#@title STEP 7: Posterior distribution of model parameters (left), parameter trace (right). { run: \"auto\" }\n",
        "#@markdown Ideally the parameter traces fluctuate around a stable value.<p> \n",
        "#@markdown Choose the parameter name:\n",
        "parameter = \"epsilon\" #@param [\"K_D\",\"B\",\"U\",\"epsilon\",\"A_total\",\"I\", \"rate1\", \"rate2\", \"A_1\", \"A_2\", \"L\"]\n",
        "with model:\n",
        "  ax=pm.traceplot(trace[0:],[parameter],combined=True)"
      ],
      "metadata": {
        "colab": {
          "base_uri": "https://localhost:8080/",
          "height": 228
        },
        "id": "i7Pl-BazZxcB",
        "outputId": "3cbf9268-c195-467d-896c-e69d7895e03b",
        "cellView": "form"
      },
      "execution_count": 19,
      "outputs": [
        {
          "output_type": "stream",
          "name": "stderr",
          "text": [
            "/usr/local/lib/python3.7/dist-packages/ipykernel_launcher.py:6: DeprecationWarning: The function `traceplot` from PyMC3 is just an alias for `plot_trace` from ArviZ. Please switch to `pymc3.plot_trace` or `arviz.plot_trace`.\n",
            "  \n"
          ]
        },
        {
          "output_type": "display_data",
          "data": {
            "text/plain": [
              "<Figure size 864x144 with 2 Axes>"
            ],
            "image/png": "[encoded data removed]"
          },
          "metadata": {
            "needs_background": "light"
          }
        }
      ]
    }
  ]
}